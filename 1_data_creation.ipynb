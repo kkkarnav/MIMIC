{
 "cells": [
  {
   "cell_type": "code",
   "execution_count": 96,
   "outputs": [],
   "source": [
    "import pandas as pd\n",
    "import os"
   ],
   "metadata": {
    "collapsed": false,
    "pycharm": {
     "name": "#%%\n"
    }
   }
  },
  {
   "cell_type": "code",
   "execution_count": 97,
   "outputs": [],
   "source": [
    "df = pd.DataFrame()\n",
    "files = os.listdir(\"./patients_new\")\n",
    "for file in files:\n",
    "    patient = pd.read_json(os.path.join(\"./patients_new/\", file))\n",
    "    df = pd.concat([df, patient], ignore_index=True)"
   ],
   "metadata": {
    "collapsed": false,
    "pycharm": {
     "name": "#%%\n"
    }
   }
  },
  {
   "cell_type": "code",
   "execution_count": 98,
   "outputs": [
    {
     "data": {
      "text/plain": "     subject_id   hadm_id            admittime            dischtime deathtime  \\\n0      10000032  22595853  2180-05-06 22:23:00  2180-05-07 17:15:00       NaN   \n1      10000032  22841357  2180-06-26 18:27:00  2180-06-27 18:49:00       NaN   \n2      10000032  25742920  2180-08-05 23:44:00  2180-08-07 17:50:00       NaN   \n3      10000032  29079034  2180-07-23 12:35:00  2180-07-25 17:55:00       NaN   \n4      10001217  24597018  2157-11-18 22:56:00  2157-11-25 18:00:00       NaN   \n..          ...       ...                  ...                  ...       ...   \n270    10040025  21791856  2147-06-16 22:00:00  2147-06-22 16:15:00       NaN   \n271    10040025  22251969  2147-08-03 02:58:00  2147-08-06 16:50:00       NaN   \n272    10040025  27259207  2147-12-04 20:48:00  2147-12-18 16:43:00       NaN   \n273    10040025  27996267  2148-01-23 12:18:00  2148-02-04 20:51:00       NaN   \n274    10040025  27125816  2143-03-18 12:34:00  2143-03-19 12:00:00       NaN   \n\n             admission_type admit_provider_id  \\\n0                    URGENT            P874LG   \n1                  EW EMER.            P09Q6Y   \n2                  EW EMER.            P60CC5   \n3                  EW EMER.            P30KEH   \n4                  EW EMER.            P4645A   \n..                      ...               ...   \n270       OBSERVATION ADMIT            P7634X   \n271       OBSERVATION ADMIT            P85BWS   \n272       OBSERVATION ADMIT            P43BTJ   \n273       OBSERVATION ADMIT            P10WWR   \n274  AMBULATORY OBSERVATION            P623U2   \n\n                         admission_location        discharge_location  \\\n0                    TRANSFER FROM HOSPITAL                      HOME   \n1                            EMERGENCY ROOM                      HOME   \n2                            EMERGENCY ROOM                   HOSPICE   \n3                            EMERGENCY ROOM                      HOME   \n4                            EMERGENCY ROOM          HOME HEALTH CARE   \n..                                      ...                       ...   \n270                          EMERGENCY ROOM          HOME HEALTH CARE   \n271                          EMERGENCY ROOM                      HOME   \n272                          EMERGENCY ROOM  SKILLED NURSING FACILITY   \n273  TRANSFER FROM SKILLED NURSING FACILITY                   HOSPICE   \n274                          PROCEDURE SITE                      None   \n\n    insurance  ...                                        hcpcsevents  \\\n0       Other  ...                                                 []   \n1    Medicaid  ...                                                 []   \n2    Medicaid  ...                                                 []   \n3    Medicaid  ...                                                 []   \n4       Other  ...                                                 []   \n..        ...  ...                                                ...   \n270     Other  ...                                                 []   \n271     Other  ...                                                 []   \n272     Other  ...                                                 []   \n273     Other  ...                                                 []   \n274     Other  ...  [{'subject_id': 10040025, 'hadm_id': 27125816,...   \n\n                                             labevents  \\\n0    [{'labevent_id': 151, 'subject_id': 10000032, ...   \n1    [{'labevent_id': 332, 'subject_id': 10000032, ...   \n2    [{'labevent_id': 584, 'subject_id': 10000032, ...   \n3    [{'labevent_id': 407, 'subject_id': 10000032, ...   \n4    [{'labevent_id': 9011, 'subject_id': 10001217,...   \n..                                                 ...   \n270  [{'labevent_id': 472612, 'subject_id': 1004002...   \n271  [{'labevent_id': 472861, 'subject_id': 1004002...   \n272  [{'labevent_id': 473416, 'subject_id': 1004002...   \n273  [{'labevent_id': 474364, 'subject_id': 1004002...   \n274  [{'labevent_id': 471955, 'subject_id': 1004002...   \n\n                                    microbiologyevents  \\\n0    [{'microevent_id': 15, 'subject_id': 10000032,...   \n1    [{'microevent_id': 28, 'subject_id': 10000032,...   \n2    [{'microevent_id': 36, 'subject_id': 10000032,...   \n3    [{'microevent_id': 32, 'subject_id': 10000032,...   \n4    [{'microevent_id': 402, 'subject_id': 10001217...   \n..                                                 ...   \n270  [{'microevent_id': 14525, 'subject_id': 100400...   \n271                                                 []   \n272                                                 []   \n273  [{'microevent_id': 14586, 'subject_id': 100400...   \n274                                                 []   \n\n                                              pharmacy  \\\n0    [{'subject_id': 10000032, 'hadm_id': 22595853,...   \n1    [{'subject_id': 10000032, 'hadm_id': 22841357,...   \n2    [{'subject_id': 10000032, 'hadm_id': 25742920,...   \n3    [{'subject_id': 10000032, 'hadm_id': 29079034,...   \n4    [{'subject_id': 10001217, 'hadm_id': 24597018,...   \n..                                                 ...   \n270  [{'subject_id': 10040025, 'hadm_id': 21791856,...   \n271  [{'subject_id': 10040025, 'hadm_id': 22251969,...   \n272  [{'subject_id': 10040025, 'hadm_id': 27259207,...   \n273  [{'subject_id': 10040025, 'hadm_id': 27996267,...   \n274  [{'subject_id': 10040025, 'hadm_id': 27125816,...   \n\n                                                   poe  \\\n0    [{'poe_id': '10000032-52', 'poe_seq': 52, 'sub...   \n1    [{'poe_id': '10000032-69', 'poe_seq': 69, 'sub...   \n2    [{'poe_id': '10000032-217', 'poe_seq': 217, 's...   \n3    [{'poe_id': '10000032-125', 'poe_seq': 125, 's...   \n4    [{'poe_id': '10001217-110', 'poe_seq': 110, 's...   \n..                                                 ...   \n270  [{'poe_id': '10040025-451', 'poe_seq': 451, 's...   \n271  [{'poe_id': '10040025-594', 'poe_seq': 594, 's...   \n272  [{'poe_id': '10040025-844', 'poe_seq': 844, 's...   \n273  [{'poe_id': '10040025-1693', 'poe_seq': 1693, ...   \n274  [{'poe_id': '10040025-71', 'poe_seq': 71, 'sub...   \n\n                                         prescriptions  \\\n0    [{'subject_id': 10000032, 'hadm_id': 22595853,...   \n1    [{'subject_id': 10000032, 'hadm_id': 22841357,...   \n2    [{'subject_id': 10000032, 'hadm_id': 25742920,...   \n3    [{'subject_id': 10000032, 'hadm_id': 29079034,...   \n4    [{'subject_id': 10001217, 'hadm_id': 24597018,...   \n..                                                 ...   \n270  [{'subject_id': 10040025, 'hadm_id': 21791856,...   \n271  [{'subject_id': 10040025, 'hadm_id': 22251969,...   \n272  [{'subject_id': 10040025, 'hadm_id': 27259207,...   \n273  [{'subject_id': 10040025, 'hadm_id': 27996267,...   \n274  [{'subject_id': 10040025, 'hadm_id': 27125816,...   \n\n                                        procedures_icd  \\\n0    [{'subject_id': 10000032, 'hadm_id': 22595853,...   \n1    [{'subject_id': 10000032, 'hadm_id': 22841357,...   \n2    [{'subject_id': 10000032, 'hadm_id': 25742920,...   \n3                                                   []   \n4    [{'subject_id': 10001217, 'hadm_id': 24597018,...   \n..                                                 ...   \n270                                                 []   \n271                                                 []   \n272  [{'subject_id': 10040025, 'hadm_id': 27259207,...   \n273  [{'subject_id': 10040025, 'hadm_id': 27996267,...   \n274  [{'subject_id': 10040025, 'hadm_id': 27125816,...   \n\n                                              services  \\\n0    [{'subject_id': 10000032, 'hadm_id': 22595853,...   \n1    [{'subject_id': 10000032, 'hadm_id': 22841357,...   \n2    [{'subject_id': 10000032, 'hadm_id': 25742920,...   \n3    [{'subject_id': 10000032, 'hadm_id': 29079034,...   \n4    [{'subject_id': 10001217, 'hadm_id': 24597018,...   \n..                                                 ...   \n270  [{'subject_id': 10040025, 'hadm_id': 21791856,...   \n271  [{'subject_id': 10040025, 'hadm_id': 22251969,...   \n272  [{'subject_id': 10040025, 'hadm_id': 27259207,...   \n273  [{'subject_id': 10040025, 'hadm_id': 27996267,...   \n274  [{'subject_id': 10040025, 'hadm_id': 27125816,...   \n\n                                             transfers  \\\n0    [{'subject_id': 10000032, 'hadm_id': 22595853....   \n1    [{'subject_id': 10000032, 'hadm_id': 22841357....   \n2    [{'subject_id': 10000032, 'hadm_id': 25742920....   \n3    [{'subject_id': 10000032, 'hadm_id': 29079034....   \n4    [{'subject_id': 10001217, 'hadm_id': 24597018....   \n..                                                 ...   \n270  [{'subject_id': 10040025, 'hadm_id': 21791856....   \n271  [{'subject_id': 10040025, 'hadm_id': 22251969....   \n272  [{'subject_id': 10040025, 'hadm_id': 27259207....   \n273  [{'subject_id': 10040025, 'hadm_id': 27996267....   \n274  [{'subject_id': 10040025, 'hadm_id': 27125816....   \n\n                                              icustays  \n0                                                   []  \n1                                                   []  \n2                                                   []  \n3    [{'subject_id': 10000032, 'hadm_id': 29079034,...  \n4    [{'subject_id': 10001217, 'hadm_id': 24597018,...  \n..                                                 ...  \n270                                                 []  \n271                                                 []  \n272                                                 []  \n273  [{'subject_id': 10040025, 'hadm_id': 27996267,...  \n274                                                 []  \n\n[275 rows x 31 columns]",
      "text/html": "<div>\n<style scoped>\n    .dataframe tbody tr th:only-of-type {\n        vertical-align: middle;\n    }\n\n    .dataframe tbody tr th {\n        vertical-align: top;\n    }\n\n    .dataframe thead th {\n        text-align: right;\n    }\n</style>\n<table border=\"1\" class=\"dataframe\">\n  <thead>\n    <tr style=\"text-align: right;\">\n      <th></th>\n      <th>subject_id</th>\n      <th>hadm_id</th>\n      <th>admittime</th>\n      <th>dischtime</th>\n      <th>deathtime</th>\n      <th>admission_type</th>\n      <th>admit_provider_id</th>\n      <th>admission_location</th>\n      <th>discharge_location</th>\n      <th>insurance</th>\n      <th>...</th>\n      <th>hcpcsevents</th>\n      <th>labevents</th>\n      <th>microbiologyevents</th>\n      <th>pharmacy</th>\n      <th>poe</th>\n      <th>prescriptions</th>\n      <th>procedures_icd</th>\n      <th>services</th>\n      <th>transfers</th>\n      <th>icustays</th>\n    </tr>\n  </thead>\n  <tbody>\n    <tr>\n      <th>0</th>\n      <td>10000032</td>\n      <td>22595853</td>\n      <td>2180-05-06 22:23:00</td>\n      <td>2180-05-07 17:15:00</td>\n      <td>NaN</td>\n      <td>URGENT</td>\n      <td>P874LG</td>\n      <td>TRANSFER FROM HOSPITAL</td>\n      <td>HOME</td>\n      <td>Other</td>\n      <td>...</td>\n      <td>[]</td>\n      <td>[{'labevent_id': 151, 'subject_id': 10000032, ...</td>\n      <td>[{'microevent_id': 15, 'subject_id': 10000032,...</td>\n      <td>[{'subject_id': 10000032, 'hadm_id': 22595853,...</td>\n      <td>[{'poe_id': '10000032-52', 'poe_seq': 52, 'sub...</td>\n      <td>[{'subject_id': 10000032, 'hadm_id': 22595853,...</td>\n      <td>[{'subject_id': 10000032, 'hadm_id': 22595853,...</td>\n      <td>[{'subject_id': 10000032, 'hadm_id': 22595853,...</td>\n      <td>[{'subject_id': 10000032, 'hadm_id': 22595853....</td>\n      <td>[]</td>\n    </tr>\n    <tr>\n      <th>1</th>\n      <td>10000032</td>\n      <td>22841357</td>\n      <td>2180-06-26 18:27:00</td>\n      <td>2180-06-27 18:49:00</td>\n      <td>NaN</td>\n      <td>EW EMER.</td>\n      <td>P09Q6Y</td>\n      <td>EMERGENCY ROOM</td>\n      <td>HOME</td>\n      <td>Medicaid</td>\n      <td>...</td>\n      <td>[]</td>\n      <td>[{'labevent_id': 332, 'subject_id': 10000032, ...</td>\n      <td>[{'microevent_id': 28, 'subject_id': 10000032,...</td>\n      <td>[{'subject_id': 10000032, 'hadm_id': 22841357,...</td>\n      <td>[{'poe_id': '10000032-69', 'poe_seq': 69, 'sub...</td>\n      <td>[{'subject_id': 10000032, 'hadm_id': 22841357,...</td>\n      <td>[{'subject_id': 10000032, 'hadm_id': 22841357,...</td>\n      <td>[{'subject_id': 10000032, 'hadm_id': 22841357,...</td>\n      <td>[{'subject_id': 10000032, 'hadm_id': 22841357....</td>\n      <td>[]</td>\n    </tr>\n    <tr>\n      <th>2</th>\n      <td>10000032</td>\n      <td>25742920</td>\n      <td>2180-08-05 23:44:00</td>\n      <td>2180-08-07 17:50:00</td>\n      <td>NaN</td>\n      <td>EW EMER.</td>\n      <td>P60CC5</td>\n      <td>EMERGENCY ROOM</td>\n      <td>HOSPICE</td>\n      <td>Medicaid</td>\n      <td>...</td>\n      <td>[]</td>\n      <td>[{'labevent_id': 584, 'subject_id': 10000032, ...</td>\n      <td>[{'microevent_id': 36, 'subject_id': 10000032,...</td>\n      <td>[{'subject_id': 10000032, 'hadm_id': 25742920,...</td>\n      <td>[{'poe_id': '10000032-217', 'poe_seq': 217, 's...</td>\n      <td>[{'subject_id': 10000032, 'hadm_id': 25742920,...</td>\n      <td>[{'subject_id': 10000032, 'hadm_id': 25742920,...</td>\n      <td>[{'subject_id': 10000032, 'hadm_id': 25742920,...</td>\n      <td>[{'subject_id': 10000032, 'hadm_id': 25742920....</td>\n      <td>[]</td>\n    </tr>\n    <tr>\n      <th>3</th>\n      <td>10000032</td>\n      <td>29079034</td>\n      <td>2180-07-23 12:35:00</td>\n      <td>2180-07-25 17:55:00</td>\n      <td>NaN</td>\n      <td>EW EMER.</td>\n      <td>P30KEH</td>\n      <td>EMERGENCY ROOM</td>\n      <td>HOME</td>\n      <td>Medicaid</td>\n      <td>...</td>\n      <td>[]</td>\n      <td>[{'labevent_id': 407, 'subject_id': 10000032, ...</td>\n      <td>[{'microevent_id': 32, 'subject_id': 10000032,...</td>\n      <td>[{'subject_id': 10000032, 'hadm_id': 29079034,...</td>\n      <td>[{'poe_id': '10000032-125', 'poe_seq': 125, 's...</td>\n      <td>[{'subject_id': 10000032, 'hadm_id': 29079034,...</td>\n      <td>[]</td>\n      <td>[{'subject_id': 10000032, 'hadm_id': 29079034,...</td>\n      <td>[{'subject_id': 10000032, 'hadm_id': 29079034....</td>\n      <td>[{'subject_id': 10000032, 'hadm_id': 29079034,...</td>\n    </tr>\n    <tr>\n      <th>4</th>\n      <td>10001217</td>\n      <td>24597018</td>\n      <td>2157-11-18 22:56:00</td>\n      <td>2157-11-25 18:00:00</td>\n      <td>NaN</td>\n      <td>EW EMER.</td>\n      <td>P4645A</td>\n      <td>EMERGENCY ROOM</td>\n      <td>HOME HEALTH CARE</td>\n      <td>Other</td>\n      <td>...</td>\n      <td>[]</td>\n      <td>[{'labevent_id': 9011, 'subject_id': 10001217,...</td>\n      <td>[{'microevent_id': 402, 'subject_id': 10001217...</td>\n      <td>[{'subject_id': 10001217, 'hadm_id': 24597018,...</td>\n      <td>[{'poe_id': '10001217-110', 'poe_seq': 110, 's...</td>\n      <td>[{'subject_id': 10001217, 'hadm_id': 24597018,...</td>\n      <td>[{'subject_id': 10001217, 'hadm_id': 24597018,...</td>\n      <td>[{'subject_id': 10001217, 'hadm_id': 24597018,...</td>\n      <td>[{'subject_id': 10001217, 'hadm_id': 24597018....</td>\n      <td>[{'subject_id': 10001217, 'hadm_id': 24597018,...</td>\n    </tr>\n    <tr>\n      <th>...</th>\n      <td>...</td>\n      <td>...</td>\n      <td>...</td>\n      <td>...</td>\n      <td>...</td>\n      <td>...</td>\n      <td>...</td>\n      <td>...</td>\n      <td>...</td>\n      <td>...</td>\n      <td>...</td>\n      <td>...</td>\n      <td>...</td>\n      <td>...</td>\n      <td>...</td>\n      <td>...</td>\n      <td>...</td>\n      <td>...</td>\n      <td>...</td>\n      <td>...</td>\n      <td>...</td>\n    </tr>\n    <tr>\n      <th>270</th>\n      <td>10040025</td>\n      <td>21791856</td>\n      <td>2147-06-16 22:00:00</td>\n      <td>2147-06-22 16:15:00</td>\n      <td>NaN</td>\n      <td>OBSERVATION ADMIT</td>\n      <td>P7634X</td>\n      <td>EMERGENCY ROOM</td>\n      <td>HOME HEALTH CARE</td>\n      <td>Other</td>\n      <td>...</td>\n      <td>[]</td>\n      <td>[{'labevent_id': 472612, 'subject_id': 1004002...</td>\n      <td>[{'microevent_id': 14525, 'subject_id': 100400...</td>\n      <td>[{'subject_id': 10040025, 'hadm_id': 21791856,...</td>\n      <td>[{'poe_id': '10040025-451', 'poe_seq': 451, 's...</td>\n      <td>[{'subject_id': 10040025, 'hadm_id': 21791856,...</td>\n      <td>[]</td>\n      <td>[{'subject_id': 10040025, 'hadm_id': 21791856,...</td>\n      <td>[{'subject_id': 10040025, 'hadm_id': 21791856....</td>\n      <td>[]</td>\n    </tr>\n    <tr>\n      <th>271</th>\n      <td>10040025</td>\n      <td>22251969</td>\n      <td>2147-08-03 02:58:00</td>\n      <td>2147-08-06 16:50:00</td>\n      <td>NaN</td>\n      <td>OBSERVATION ADMIT</td>\n      <td>P85BWS</td>\n      <td>EMERGENCY ROOM</td>\n      <td>HOME</td>\n      <td>Other</td>\n      <td>...</td>\n      <td>[]</td>\n      <td>[{'labevent_id': 472861, 'subject_id': 1004002...</td>\n      <td>[]</td>\n      <td>[{'subject_id': 10040025, 'hadm_id': 22251969,...</td>\n      <td>[{'poe_id': '10040025-594', 'poe_seq': 594, 's...</td>\n      <td>[{'subject_id': 10040025, 'hadm_id': 22251969,...</td>\n      <td>[]</td>\n      <td>[{'subject_id': 10040025, 'hadm_id': 22251969,...</td>\n      <td>[{'subject_id': 10040025, 'hadm_id': 22251969....</td>\n      <td>[]</td>\n    </tr>\n    <tr>\n      <th>272</th>\n      <td>10040025</td>\n      <td>27259207</td>\n      <td>2147-12-04 20:48:00</td>\n      <td>2147-12-18 16:43:00</td>\n      <td>NaN</td>\n      <td>OBSERVATION ADMIT</td>\n      <td>P43BTJ</td>\n      <td>EMERGENCY ROOM</td>\n      <td>SKILLED NURSING FACILITY</td>\n      <td>Other</td>\n      <td>...</td>\n      <td>[]</td>\n      <td>[{'labevent_id': 473416, 'subject_id': 1004002...</td>\n      <td>[]</td>\n      <td>[{'subject_id': 10040025, 'hadm_id': 27259207,...</td>\n      <td>[{'poe_id': '10040025-844', 'poe_seq': 844, 's...</td>\n      <td>[{'subject_id': 10040025, 'hadm_id': 27259207,...</td>\n      <td>[{'subject_id': 10040025, 'hadm_id': 27259207,...</td>\n      <td>[{'subject_id': 10040025, 'hadm_id': 27259207,...</td>\n      <td>[{'subject_id': 10040025, 'hadm_id': 27259207....</td>\n      <td>[]</td>\n    </tr>\n    <tr>\n      <th>273</th>\n      <td>10040025</td>\n      <td>27996267</td>\n      <td>2148-01-23 12:18:00</td>\n      <td>2148-02-04 20:51:00</td>\n      <td>NaN</td>\n      <td>OBSERVATION ADMIT</td>\n      <td>P10WWR</td>\n      <td>TRANSFER FROM SKILLED NURSING FACILITY</td>\n      <td>HOSPICE</td>\n      <td>Other</td>\n      <td>...</td>\n      <td>[]</td>\n      <td>[{'labevent_id': 474364, 'subject_id': 1004002...</td>\n      <td>[{'microevent_id': 14586, 'subject_id': 100400...</td>\n      <td>[{'subject_id': 10040025, 'hadm_id': 27996267,...</td>\n      <td>[{'poe_id': '10040025-1693', 'poe_seq': 1693, ...</td>\n      <td>[{'subject_id': 10040025, 'hadm_id': 27996267,...</td>\n      <td>[{'subject_id': 10040025, 'hadm_id': 27996267,...</td>\n      <td>[{'subject_id': 10040025, 'hadm_id': 27996267,...</td>\n      <td>[{'subject_id': 10040025, 'hadm_id': 27996267....</td>\n      <td>[{'subject_id': 10040025, 'hadm_id': 27996267,...</td>\n    </tr>\n    <tr>\n      <th>274</th>\n      <td>10040025</td>\n      <td>27125816</td>\n      <td>2143-03-18 12:34:00</td>\n      <td>2143-03-19 12:00:00</td>\n      <td>NaN</td>\n      <td>AMBULATORY OBSERVATION</td>\n      <td>P623U2</td>\n      <td>PROCEDURE SITE</td>\n      <td>None</td>\n      <td>Other</td>\n      <td>...</td>\n      <td>[{'subject_id': 10040025, 'hadm_id': 27125816,...</td>\n      <td>[{'labevent_id': 471955, 'subject_id': 1004002...</td>\n      <td>[]</td>\n      <td>[{'subject_id': 10040025, 'hadm_id': 27125816,...</td>\n      <td>[{'poe_id': '10040025-71', 'poe_seq': 71, 'sub...</td>\n      <td>[{'subject_id': 10040025, 'hadm_id': 27125816,...</td>\n      <td>[{'subject_id': 10040025, 'hadm_id': 27125816,...</td>\n      <td>[{'subject_id': 10040025, 'hadm_id': 27125816,...</td>\n      <td>[{'subject_id': 10040025, 'hadm_id': 27125816....</td>\n      <td>[]</td>\n    </tr>\n  </tbody>\n</table>\n<p>275 rows × 31 columns</p>\n</div>"
     },
     "execution_count": 98,
     "metadata": {},
     "output_type": "execute_result"
    }
   ],
   "source": [
    "df"
   ],
   "metadata": {
    "collapsed": false,
    "pycharm": {
     "name": "#%%\n"
    }
   }
  },
  {
   "cell_type": "code",
   "execution_count": 101,
   "outputs": [
    {
     "data": {
      "text/plain": "EW EMER.                       104\nOBSERVATION ADMIT               45\nURGENT                          38\nEU OBSERVATION                  30\nSURGICAL SAME DAY ADMISSION     18\nDIRECT EMER.                    15\nELECTIVE                        13\nDIRECT OBSERVATION               7\nAMBULATORY OBSERVATION           5\nName: admission_type, dtype: int64"
     },
     "execution_count": 101,
     "metadata": {},
     "output_type": "execute_result"
    }
   ],
   "source": [
    "df[\"admission_type\"].value_counts()"
   ],
   "metadata": {
    "collapsed": false,
    "pycharm": {
     "name": "#%%\n"
    }
   }
  },
  {
   "cell_type": "code",
   "execution_count": 102,
   "outputs": [],
   "source": [
    "def normalize_jsons(column, dropper, sorter):\n",
    "    data = []\n",
    "    for datum in column:\n",
    "        json_df = pd.json_normalize(datum)\n",
    "        data.append(json_df)\n",
    "    column_df = pd.concat(data, ignore_index=True).drop_duplicates(subset=dropper).sort_values(by=sorter).reset_index(drop=True)\n",
    "    return column_df"
   ],
   "metadata": {
    "collapsed": false,
    "pycharm": {
     "name": "#%%\n"
    }
   }
  },
  {
   "cell_type": "code",
   "execution_count": 103,
   "outputs": [
    {
     "data": {
      "text/plain": "    subject_id gender  anchor_age  anchor_year anchor_year_group         dod\n0     10008454      F          26         2110       2011 - 2013            \n1     10001725      F          46         2110       2011 - 2013            \n2     10006053      M          52         2111       2014 - 2016  2111-11-15\n3     10004422      M          78         2111       2011 - 2013            \n4     10035631      M          63         2112       2011 - 2013  2116-03-12\n..         ...    ...         ...          ...               ...         ...\n95    10020786      F          86         2189       2014 - 2016            \n96    10002930      F          48         2193       2011 - 2013  2201-12-24\n97    10004235      M          47         2196       2014 - 2016            \n98    10026255      M          66         2200       2011 - 2013  2201-07-13\n99    10027602      F          71         2201       2014 - 2016            \n\n[100 rows x 6 columns]",
      "text/html": "<div>\n<style scoped>\n    .dataframe tbody tr th:only-of-type {\n        vertical-align: middle;\n    }\n\n    .dataframe tbody tr th {\n        vertical-align: top;\n    }\n\n    .dataframe thead th {\n        text-align: right;\n    }\n</style>\n<table border=\"1\" class=\"dataframe\">\n  <thead>\n    <tr style=\"text-align: right;\">\n      <th></th>\n      <th>subject_id</th>\n      <th>gender</th>\n      <th>anchor_age</th>\n      <th>anchor_year</th>\n      <th>anchor_year_group</th>\n      <th>dod</th>\n    </tr>\n  </thead>\n  <tbody>\n    <tr>\n      <th>0</th>\n      <td>10008454</td>\n      <td>F</td>\n      <td>26</td>\n      <td>2110</td>\n      <td>2011 - 2013</td>\n      <td></td>\n    </tr>\n    <tr>\n      <th>1</th>\n      <td>10001725</td>\n      <td>F</td>\n      <td>46</td>\n      <td>2110</td>\n      <td>2011 - 2013</td>\n      <td></td>\n    </tr>\n    <tr>\n      <th>2</th>\n      <td>10006053</td>\n      <td>M</td>\n      <td>52</td>\n      <td>2111</td>\n      <td>2014 - 2016</td>\n      <td>2111-11-15</td>\n    </tr>\n    <tr>\n      <th>3</th>\n      <td>10004422</td>\n      <td>M</td>\n      <td>78</td>\n      <td>2111</td>\n      <td>2011 - 2013</td>\n      <td></td>\n    </tr>\n    <tr>\n      <th>4</th>\n      <td>10035631</td>\n      <td>M</td>\n      <td>63</td>\n      <td>2112</td>\n      <td>2011 - 2013</td>\n      <td>2116-03-12</td>\n    </tr>\n    <tr>\n      <th>...</th>\n      <td>...</td>\n      <td>...</td>\n      <td>...</td>\n      <td>...</td>\n      <td>...</td>\n      <td>...</td>\n    </tr>\n    <tr>\n      <th>95</th>\n      <td>10020786</td>\n      <td>F</td>\n      <td>86</td>\n      <td>2189</td>\n      <td>2014 - 2016</td>\n      <td></td>\n    </tr>\n    <tr>\n      <th>96</th>\n      <td>10002930</td>\n      <td>F</td>\n      <td>48</td>\n      <td>2193</td>\n      <td>2011 - 2013</td>\n      <td>2201-12-24</td>\n    </tr>\n    <tr>\n      <th>97</th>\n      <td>10004235</td>\n      <td>M</td>\n      <td>47</td>\n      <td>2196</td>\n      <td>2014 - 2016</td>\n      <td></td>\n    </tr>\n    <tr>\n      <th>98</th>\n      <td>10026255</td>\n      <td>M</td>\n      <td>66</td>\n      <td>2200</td>\n      <td>2011 - 2013</td>\n      <td>2201-07-13</td>\n    </tr>\n    <tr>\n      <th>99</th>\n      <td>10027602</td>\n      <td>F</td>\n      <td>71</td>\n      <td>2201</td>\n      <td>2014 - 2016</td>\n      <td></td>\n    </tr>\n  </tbody>\n</table>\n<p>100 rows × 6 columns</p>\n</div>"
     },
     "execution_count": 103,
     "metadata": {},
     "output_type": "execute_result"
    }
   ],
   "source": [
    "patients_df = normalize_jsons(df[\"patients\"], [\"subject_id\"], [\"anchor_year\"])\n",
    "patients_df"
   ],
   "metadata": {
    "collapsed": false,
    "pycharm": {
     "name": "#%%\n"
    }
   }
  },
  {
   "cell_type": "code",
   "execution_count": 104,
   "outputs": [
    {
     "data": {
      "text/plain": "M    57\nF    43\nName: gender, dtype: int64"
     },
     "execution_count": 104,
     "metadata": {},
     "output_type": "execute_result"
    }
   ],
   "source": [
    "patients_df[\"gender\"].value_counts()"
   ],
   "metadata": {
    "collapsed": false,
    "pycharm": {
     "name": "#%%\n"
    }
   }
  },
  {
   "cell_type": "code",
   "execution_count": 105,
   "outputs": [
    {
     "data": {
      "text/plain": "     subject_id   chartdate seq_num   result_name result_value\n0      10000032  2180-05-07       1   BMI (kg/m2)         18.0\n1      10000032  2180-05-25       1   BMI (kg/m2)         18.6\n2      10000032  2180-06-01       1   BMI (kg/m2)         18.7\n3      10000032  2180-06-22       1   BMI (kg/m2)         18.9\n4      10000032  2180-06-27       1   BMI (kg/m2)         19.2\n...         ...         ...     ...           ...          ...\n2834   10040025  2147-11-09       1  Weight (Lbs)       188.00\n2835   10040025  2147-12-05       1  Weight (Lbs)       200.00\n2836   10040025  2147-12-29       1  Weight (Lbs)          212\n2837   10040025  2147-12-30       1  Weight (Lbs)       187.61\n2838       None        None    None          None         None\n\n[2839 rows x 5 columns]",
      "text/html": "<div>\n<style scoped>\n    .dataframe tbody tr th:only-of-type {\n        vertical-align: middle;\n    }\n\n    .dataframe tbody tr th {\n        vertical-align: top;\n    }\n\n    .dataframe thead th {\n        text-align: right;\n    }\n</style>\n<table border=\"1\" class=\"dataframe\">\n  <thead>\n    <tr style=\"text-align: right;\">\n      <th></th>\n      <th>subject_id</th>\n      <th>chartdate</th>\n      <th>seq_num</th>\n      <th>result_name</th>\n      <th>result_value</th>\n    </tr>\n  </thead>\n  <tbody>\n    <tr>\n      <th>0</th>\n      <td>10000032</td>\n      <td>2180-05-07</td>\n      <td>1</td>\n      <td>BMI (kg/m2)</td>\n      <td>18.0</td>\n    </tr>\n    <tr>\n      <th>1</th>\n      <td>10000032</td>\n      <td>2180-05-25</td>\n      <td>1</td>\n      <td>BMI (kg/m2)</td>\n      <td>18.6</td>\n    </tr>\n    <tr>\n      <th>2</th>\n      <td>10000032</td>\n      <td>2180-06-01</td>\n      <td>1</td>\n      <td>BMI (kg/m2)</td>\n      <td>18.7</td>\n    </tr>\n    <tr>\n      <th>3</th>\n      <td>10000032</td>\n      <td>2180-06-22</td>\n      <td>1</td>\n      <td>BMI (kg/m2)</td>\n      <td>18.9</td>\n    </tr>\n    <tr>\n      <th>4</th>\n      <td>10000032</td>\n      <td>2180-06-27</td>\n      <td>1</td>\n      <td>BMI (kg/m2)</td>\n      <td>19.2</td>\n    </tr>\n    <tr>\n      <th>...</th>\n      <td>...</td>\n      <td>...</td>\n      <td>...</td>\n      <td>...</td>\n      <td>...</td>\n    </tr>\n    <tr>\n      <th>2834</th>\n      <td>10040025</td>\n      <td>2147-11-09</td>\n      <td>1</td>\n      <td>Weight (Lbs)</td>\n      <td>188.00</td>\n    </tr>\n    <tr>\n      <th>2835</th>\n      <td>10040025</td>\n      <td>2147-12-05</td>\n      <td>1</td>\n      <td>Weight (Lbs)</td>\n      <td>200.00</td>\n    </tr>\n    <tr>\n      <th>2836</th>\n      <td>10040025</td>\n      <td>2147-12-29</td>\n      <td>1</td>\n      <td>Weight (Lbs)</td>\n      <td>212</td>\n    </tr>\n    <tr>\n      <th>2837</th>\n      <td>10040025</td>\n      <td>2147-12-30</td>\n      <td>1</td>\n      <td>Weight (Lbs)</td>\n      <td>187.61</td>\n    </tr>\n    <tr>\n      <th>2838</th>\n      <td>None</td>\n      <td>None</td>\n      <td>None</td>\n      <td>None</td>\n      <td>None</td>\n    </tr>\n  </tbody>\n</table>\n<p>2839 rows × 5 columns</p>\n</div>"
     },
     "execution_count": 105,
     "metadata": {},
     "output_type": "execute_result"
    }
   ],
   "source": [
    "omr_df = normalize_jsons(df[\"omr\"], ['subject_id', 'chartdate', 'result_name', 'result_value'], [\"subject_id\", \"result_name\", \"chartdate\"])\n",
    "omr_df"
   ],
   "metadata": {
    "collapsed": false,
    "pycharm": {
     "name": "#%%\n"
    }
   }
  },
  {
   "cell_type": "code",
   "execution_count": 106,
   "outputs": [
    {
     "data": {
      "text/plain": "      subject_id     hadm_id        emar_id emar_seq         poe_id  \\\n0       10000032  22595853.0    10000032-11       11    10000032-22   \n1       10000032  22595853.0    10000032-10       10    10000032-36   \n2       10000032  22595853.0    10000032-13       13    10000032-28   \n3       10000032  22595853.0    10000032-12       12    10000032-37   \n4       10000032  22595853.0    10000032-17       17    10000032-22   \n...          ...         ...            ...      ...            ...   \n34825   10040025  27996267.0  10040025-3072     3072  10040025-1977   \n34826   10040025  27996267.0  10040025-3066     3066  10040025-1978   \n34827   10040025  27996267.0  10040025-3065     3065  10040025-1997   \n34828   10040025  27996267.0  10040025-3076     3076  10040025-1999   \n34829       None         NaN           None     None           None   \n\n      pharmacy_id enter_provider_id            charttime  \\\n0      14779570.0                    2180-05-07 00:44:00   \n1      48770010.0                    2180-05-07 00:44:00   \n2      42497745.0                    2180-05-07 05:00:00   \n3      93463122.0                    2180-05-07 06:10:00   \n4      14779570.0                    2180-05-07 07:51:00   \n...           ...               ...                  ...   \n34825  57820348.0                    2148-02-04 20:00:00   \n34826                                2148-02-04 20:00:00   \n34827                                2148-02-04 20:00:00   \n34828                                2148-02-04 22:00:00   \n34829        None              None                 None   \n\n                        medication      event_txt         scheduletime  \\\n0      Sodium Chloride 0.9%  Flush        Flushed  2180-05-07 00:44:00   \n1               Potassium Chloride   Administered  2180-05-07 00:44:00   \n2                Albuterol Inhaler   Administered  2180-05-07 06:29:00   \n3          Ipratropium Bromide Neb   Administered  2180-05-07 06:00:00   \n4      Sodium Chloride 0.9%  Flush        Flushed  2180-05-07 07:51:00   \n...                            ...            ...                  ...   \n34825     OxyCODONE SR (OxyconTIN)      Not Given  2148-02-04 20:00:00   \n34826                        Senna      Not Given  2148-02-04 20:00:00   \n34827          Polyethylene Glycol      Not Given  2148-02-04 20:00:00   \n34828                               Not Confirmed  2148-02-04 22:00:00   \n34829                         None           None                 None   \n\n                 storetime                                                  0  \n0      2180-05-07 00:44:00  [{'subject_id': 10000032, 'emar_id': '10000032...  \n1      2180-05-07 00:44:00  [{'subject_id': 10000032, 'emar_id': '10000032...  \n2      2180-05-07 06:29:00  [{'subject_id': 10000032, 'emar_id': '10000032...  \n3      2180-05-07 06:10:00  [{'subject_id': 10000032, 'emar_id': '10000032...  \n4      2180-05-07 07:56:00  [{'subject_id': 10000032, 'emar_id': '10000032...  \n...                    ...                                                ...  \n34825  2148-02-04 19:47:00  [{'subject_id': 10040025, 'emar_id': '10040025...  \n34826  2148-02-04 19:42:00  [{'subject_id': 10040025, 'emar_id': '10040025...  \n34827  2148-02-04 19:41:00  [{'subject_id': 10040025, 'emar_id': '10040025...  \n34828  2148-02-04 19:52:00  [{'subject_id': 10040025, 'emar_id': '10040025...  \n34829                 None                                               None  \n\n[34830 rows x 13 columns]",
      "text/html": "<div>\n<style scoped>\n    .dataframe tbody tr th:only-of-type {\n        vertical-align: middle;\n    }\n\n    .dataframe tbody tr th {\n        vertical-align: top;\n    }\n\n    .dataframe thead th {\n        text-align: right;\n    }\n</style>\n<table border=\"1\" class=\"dataframe\">\n  <thead>\n    <tr style=\"text-align: right;\">\n      <th></th>\n      <th>subject_id</th>\n      <th>hadm_id</th>\n      <th>emar_id</th>\n      <th>emar_seq</th>\n      <th>poe_id</th>\n      <th>pharmacy_id</th>\n      <th>enter_provider_id</th>\n      <th>charttime</th>\n      <th>medication</th>\n      <th>event_txt</th>\n      <th>scheduletime</th>\n      <th>storetime</th>\n      <th>0</th>\n    </tr>\n  </thead>\n  <tbody>\n    <tr>\n      <th>0</th>\n      <td>10000032</td>\n      <td>22595853.0</td>\n      <td>10000032-11</td>\n      <td>11</td>\n      <td>10000032-22</td>\n      <td>14779570.0</td>\n      <td></td>\n      <td>2180-05-07 00:44:00</td>\n      <td>Sodium Chloride 0.9%  Flush</td>\n      <td>Flushed</td>\n      <td>2180-05-07 00:44:00</td>\n      <td>2180-05-07 00:44:00</td>\n      <td>[{'subject_id': 10000032, 'emar_id': '10000032...</td>\n    </tr>\n    <tr>\n      <th>1</th>\n      <td>10000032</td>\n      <td>22595853.0</td>\n      <td>10000032-10</td>\n      <td>10</td>\n      <td>10000032-36</td>\n      <td>48770010.0</td>\n      <td></td>\n      <td>2180-05-07 00:44:00</td>\n      <td>Potassium Chloride</td>\n      <td>Administered</td>\n      <td>2180-05-07 00:44:00</td>\n      <td>2180-05-07 00:44:00</td>\n      <td>[{'subject_id': 10000032, 'emar_id': '10000032...</td>\n    </tr>\n    <tr>\n      <th>2</th>\n      <td>10000032</td>\n      <td>22595853.0</td>\n      <td>10000032-13</td>\n      <td>13</td>\n      <td>10000032-28</td>\n      <td>42497745.0</td>\n      <td></td>\n      <td>2180-05-07 05:00:00</td>\n      <td>Albuterol Inhaler</td>\n      <td>Administered</td>\n      <td>2180-05-07 06:29:00</td>\n      <td>2180-05-07 06:29:00</td>\n      <td>[{'subject_id': 10000032, 'emar_id': '10000032...</td>\n    </tr>\n    <tr>\n      <th>3</th>\n      <td>10000032</td>\n      <td>22595853.0</td>\n      <td>10000032-12</td>\n      <td>12</td>\n      <td>10000032-37</td>\n      <td>93463122.0</td>\n      <td></td>\n      <td>2180-05-07 06:10:00</td>\n      <td>Ipratropium Bromide Neb</td>\n      <td>Administered</td>\n      <td>2180-05-07 06:00:00</td>\n      <td>2180-05-07 06:10:00</td>\n      <td>[{'subject_id': 10000032, 'emar_id': '10000032...</td>\n    </tr>\n    <tr>\n      <th>4</th>\n      <td>10000032</td>\n      <td>22595853.0</td>\n      <td>10000032-17</td>\n      <td>17</td>\n      <td>10000032-22</td>\n      <td>14779570.0</td>\n      <td></td>\n      <td>2180-05-07 07:51:00</td>\n      <td>Sodium Chloride 0.9%  Flush</td>\n      <td>Flushed</td>\n      <td>2180-05-07 07:51:00</td>\n      <td>2180-05-07 07:56:00</td>\n      <td>[{'subject_id': 10000032, 'emar_id': '10000032...</td>\n    </tr>\n    <tr>\n      <th>...</th>\n      <td>...</td>\n      <td>...</td>\n      <td>...</td>\n      <td>...</td>\n      <td>...</td>\n      <td>...</td>\n      <td>...</td>\n      <td>...</td>\n      <td>...</td>\n      <td>...</td>\n      <td>...</td>\n      <td>...</td>\n      <td>...</td>\n    </tr>\n    <tr>\n      <th>34825</th>\n      <td>10040025</td>\n      <td>27996267.0</td>\n      <td>10040025-3072</td>\n      <td>3072</td>\n      <td>10040025-1977</td>\n      <td>57820348.0</td>\n      <td></td>\n      <td>2148-02-04 20:00:00</td>\n      <td>OxyCODONE SR (OxyconTIN)</td>\n      <td>Not Given</td>\n      <td>2148-02-04 20:00:00</td>\n      <td>2148-02-04 19:47:00</td>\n      <td>[{'subject_id': 10040025, 'emar_id': '10040025...</td>\n    </tr>\n    <tr>\n      <th>34826</th>\n      <td>10040025</td>\n      <td>27996267.0</td>\n      <td>10040025-3066</td>\n      <td>3066</td>\n      <td>10040025-1978</td>\n      <td></td>\n      <td></td>\n      <td>2148-02-04 20:00:00</td>\n      <td>Senna</td>\n      <td>Not Given</td>\n      <td>2148-02-04 20:00:00</td>\n      <td>2148-02-04 19:42:00</td>\n      <td>[{'subject_id': 10040025, 'emar_id': '10040025...</td>\n    </tr>\n    <tr>\n      <th>34827</th>\n      <td>10040025</td>\n      <td>27996267.0</td>\n      <td>10040025-3065</td>\n      <td>3065</td>\n      <td>10040025-1997</td>\n      <td></td>\n      <td></td>\n      <td>2148-02-04 20:00:00</td>\n      <td>Polyethylene Glycol</td>\n      <td>Not Given</td>\n      <td>2148-02-04 20:00:00</td>\n      <td>2148-02-04 19:41:00</td>\n      <td>[{'subject_id': 10040025, 'emar_id': '10040025...</td>\n    </tr>\n    <tr>\n      <th>34828</th>\n      <td>10040025</td>\n      <td>27996267.0</td>\n      <td>10040025-3076</td>\n      <td>3076</td>\n      <td>10040025-1999</td>\n      <td></td>\n      <td></td>\n      <td>2148-02-04 22:00:00</td>\n      <td></td>\n      <td>Not Confirmed</td>\n      <td>2148-02-04 22:00:00</td>\n      <td>2148-02-04 19:52:00</td>\n      <td>[{'subject_id': 10040025, 'emar_id': '10040025...</td>\n    </tr>\n    <tr>\n      <th>34829</th>\n      <td>None</td>\n      <td>NaN</td>\n      <td>None</td>\n      <td>None</td>\n      <td>None</td>\n      <td>None</td>\n      <td>None</td>\n      <td>None</td>\n      <td>None</td>\n      <td>None</td>\n      <td>None</td>\n      <td>None</td>\n      <td>None</td>\n    </tr>\n  </tbody>\n</table>\n<p>34830 rows × 13 columns</p>\n</div>"
     },
     "execution_count": 106,
     "metadata": {},
     "output_type": "execute_result"
    }
   ],
   "source": [
    "emar_df = normalize_jsons(df[\"emar\"], [\"subject_id\", \"hadm_id\", \"emar_id\"], [\"subject_id\", \"charttime\"])\n",
    "emar_df"
   ],
   "metadata": {
    "collapsed": false,
    "pycharm": {
     "name": "#%%\n"
    }
   }
  },
  {
   "cell_type": "code",
   "execution_count": 107,
   "outputs": [
    {
     "data": {
      "text/plain": "Sodium Chloride 0.9%  Flush             3677\nInsulin                                 2810\nHeparin                                 1775\n                                        1527\nMetoprolol Tartrate                      942\n                                        ... \nOxyCODONE--Acetaminophen (5mg-325mg)       1\nFosphenytoin                               1\nClarithromycin                             1\nNitroglycerin Ointment  2%                 1\nCisatracurium Besylate                     1\nName: medication, Length: 460, dtype: int64"
     },
     "execution_count": 107,
     "metadata": {},
     "output_type": "execute_result"
    }
   ],
   "source": [
    "emar_df[\"medication\"].value_counts()"
   ],
   "metadata": {
    "collapsed": false,
    "pycharm": {
     "name": "#%%\n"
    }
   }
  },
  {
   "cell_type": "code",
   "execution_count": 108,
   "outputs": [
    {
     "data": {
      "text/plain": "      subject_id   hadm_id  seq_num icd_code  icd_version\n0       10000032  22595853        1     5723            9\n1       10000032  22841357        1    07071            9\n2       10000032  25742920        1    07054            9\n3       10000032  29079034        1    45829            9\n4       10000032  22595853        2    78959            9\n...          ...       ...      ...      ...          ...\n4501    10040025  27996267       35     R197           10\n4502    10040025  27996267       36     R748           10\n4503    10040025  27996267       37    K5903           10\n4504    10040025  27996267       38  T402X5A           10\n4505    10040025  27996267       39   Y92230           10\n\n[4506 rows x 5 columns]",
      "text/html": "<div>\n<style scoped>\n    .dataframe tbody tr th:only-of-type {\n        vertical-align: middle;\n    }\n\n    .dataframe tbody tr th {\n        vertical-align: top;\n    }\n\n    .dataframe thead th {\n        text-align: right;\n    }\n</style>\n<table border=\"1\" class=\"dataframe\">\n  <thead>\n    <tr style=\"text-align: right;\">\n      <th></th>\n      <th>subject_id</th>\n      <th>hadm_id</th>\n      <th>seq_num</th>\n      <th>icd_code</th>\n      <th>icd_version</th>\n    </tr>\n  </thead>\n  <tbody>\n    <tr>\n      <th>0</th>\n      <td>10000032</td>\n      <td>22595853</td>\n      <td>1</td>\n      <td>5723</td>\n      <td>9</td>\n    </tr>\n    <tr>\n      <th>1</th>\n      <td>10000032</td>\n      <td>22841357</td>\n      <td>1</td>\n      <td>07071</td>\n      <td>9</td>\n    </tr>\n    <tr>\n      <th>2</th>\n      <td>10000032</td>\n      <td>25742920</td>\n      <td>1</td>\n      <td>07054</td>\n      <td>9</td>\n    </tr>\n    <tr>\n      <th>3</th>\n      <td>10000032</td>\n      <td>29079034</td>\n      <td>1</td>\n      <td>45829</td>\n      <td>9</td>\n    </tr>\n    <tr>\n      <th>4</th>\n      <td>10000032</td>\n      <td>22595853</td>\n      <td>2</td>\n      <td>78959</td>\n      <td>9</td>\n    </tr>\n    <tr>\n      <th>...</th>\n      <td>...</td>\n      <td>...</td>\n      <td>...</td>\n      <td>...</td>\n      <td>...</td>\n    </tr>\n    <tr>\n      <th>4501</th>\n      <td>10040025</td>\n      <td>27996267</td>\n      <td>35</td>\n      <td>R197</td>\n      <td>10</td>\n    </tr>\n    <tr>\n      <th>4502</th>\n      <td>10040025</td>\n      <td>27996267</td>\n      <td>36</td>\n      <td>R748</td>\n      <td>10</td>\n    </tr>\n    <tr>\n      <th>4503</th>\n      <td>10040025</td>\n      <td>27996267</td>\n      <td>37</td>\n      <td>K5903</td>\n      <td>10</td>\n    </tr>\n    <tr>\n      <th>4504</th>\n      <td>10040025</td>\n      <td>27996267</td>\n      <td>38</td>\n      <td>T402X5A</td>\n      <td>10</td>\n    </tr>\n    <tr>\n      <th>4505</th>\n      <td>10040025</td>\n      <td>27996267</td>\n      <td>39</td>\n      <td>Y92230</td>\n      <td>10</td>\n    </tr>\n  </tbody>\n</table>\n<p>4506 rows × 5 columns</p>\n</div>"
     },
     "execution_count": 108,
     "metadata": {},
     "output_type": "execute_result"
    }
   ],
   "source": [
    "dia_df = normalize_jsons(df[\"diagnoses_icd\"], [\"subject_id\", \"hadm_id\", \"seq_num\", \"icd_code\"], [\"subject_id\", \"seq_num\"])\n",
    "dia_df"
   ],
   "metadata": {
    "collapsed": false,
    "pycharm": {
     "name": "#%%\n"
    }
   }
  },
  {
   "cell_type": "code",
   "execution_count": 109,
   "outputs": [
    {
     "data": {
      "text/plain": "      subject_id     hadm_id  transfer_id  eventtype  \\\n0       10000032  22595853.0     33258284         ED   \n1       10000032  22595853.0     35223874      admit   \n2       10000032  22595853.0     36904543  discharge   \n3       10000032  22841357.0     38112554         ED   \n4       10000032  22841357.0     34703856      admit   \n...          ...         ...          ...        ...   \n1131    10040025  27996267.0     35449441      admit   \n1132    10040025  27996267.0     36822441   transfer   \n1133    10040025  27996267.0     36107367   transfer   \n1134    10040025  27996267.0     36762745   transfer   \n1135    10040025  27996267.0     32676089  discharge   \n\n                                 careunit               intime  \\\n0                    Emergency Department  2180-05-06 19:17:00   \n1                              Transplant  2180-05-06 23:30:00   \n2                                    None  2180-05-07 17:21:27   \n3                    Emergency Department  2180-06-26 15:54:00   \n4                              Transplant  2180-06-26 21:31:00   \n...                                   ...                  ...   \n1131                                 PACU  2148-01-23 12:18:49   \n1132                             Vascular  2148-01-23 14:23:57   \n1133  Surgical Intensive Care Unit (SICU)  2148-01-24 04:50:17   \n1134                             Vascular  2148-01-30 17:45:09   \n1135                                 None  2148-02-04 20:51:55   \n\n                  outtime  \n0     2180-05-06 23:30:00  \n1     2180-05-07 17:21:27  \n2                    None  \n3     2180-06-26 21:31:00  \n4     2180-06-27 18:49:12  \n...                   ...  \n1131  2148-01-23 14:23:57  \n1132  2148-01-24 04:50:17  \n1133  2148-01-30 17:45:09  \n1134  2148-02-04 20:51:55  \n1135                 None  \n\n[1136 rows x 7 columns]",
      "text/html": "<div>\n<style scoped>\n    .dataframe tbody tr th:only-of-type {\n        vertical-align: middle;\n    }\n\n    .dataframe tbody tr th {\n        vertical-align: top;\n    }\n\n    .dataframe thead th {\n        text-align: right;\n    }\n</style>\n<table border=\"1\" class=\"dataframe\">\n  <thead>\n    <tr style=\"text-align: right;\">\n      <th></th>\n      <th>subject_id</th>\n      <th>hadm_id</th>\n      <th>transfer_id</th>\n      <th>eventtype</th>\n      <th>careunit</th>\n      <th>intime</th>\n      <th>outtime</th>\n    </tr>\n  </thead>\n  <tbody>\n    <tr>\n      <th>0</th>\n      <td>10000032</td>\n      <td>22595853.0</td>\n      <td>33258284</td>\n      <td>ED</td>\n      <td>Emergency Department</td>\n      <td>2180-05-06 19:17:00</td>\n      <td>2180-05-06 23:30:00</td>\n    </tr>\n    <tr>\n      <th>1</th>\n      <td>10000032</td>\n      <td>22595853.0</td>\n      <td>35223874</td>\n      <td>admit</td>\n      <td>Transplant</td>\n      <td>2180-05-06 23:30:00</td>\n      <td>2180-05-07 17:21:27</td>\n    </tr>\n    <tr>\n      <th>2</th>\n      <td>10000032</td>\n      <td>22595853.0</td>\n      <td>36904543</td>\n      <td>discharge</td>\n      <td>None</td>\n      <td>2180-05-07 17:21:27</td>\n      <td>None</td>\n    </tr>\n    <tr>\n      <th>3</th>\n      <td>10000032</td>\n      <td>22841357.0</td>\n      <td>38112554</td>\n      <td>ED</td>\n      <td>Emergency Department</td>\n      <td>2180-06-26 15:54:00</td>\n      <td>2180-06-26 21:31:00</td>\n    </tr>\n    <tr>\n      <th>4</th>\n      <td>10000032</td>\n      <td>22841357.0</td>\n      <td>34703856</td>\n      <td>admit</td>\n      <td>Transplant</td>\n      <td>2180-06-26 21:31:00</td>\n      <td>2180-06-27 18:49:12</td>\n    </tr>\n    <tr>\n      <th>...</th>\n      <td>...</td>\n      <td>...</td>\n      <td>...</td>\n      <td>...</td>\n      <td>...</td>\n      <td>...</td>\n      <td>...</td>\n    </tr>\n    <tr>\n      <th>1131</th>\n      <td>10040025</td>\n      <td>27996267.0</td>\n      <td>35449441</td>\n      <td>admit</td>\n      <td>PACU</td>\n      <td>2148-01-23 12:18:49</td>\n      <td>2148-01-23 14:23:57</td>\n    </tr>\n    <tr>\n      <th>1132</th>\n      <td>10040025</td>\n      <td>27996267.0</td>\n      <td>36822441</td>\n      <td>transfer</td>\n      <td>Vascular</td>\n      <td>2148-01-23 14:23:57</td>\n      <td>2148-01-24 04:50:17</td>\n    </tr>\n    <tr>\n      <th>1133</th>\n      <td>10040025</td>\n      <td>27996267.0</td>\n      <td>36107367</td>\n      <td>transfer</td>\n      <td>Surgical Intensive Care Unit (SICU)</td>\n      <td>2148-01-24 04:50:17</td>\n      <td>2148-01-30 17:45:09</td>\n    </tr>\n    <tr>\n      <th>1134</th>\n      <td>10040025</td>\n      <td>27996267.0</td>\n      <td>36762745</td>\n      <td>transfer</td>\n      <td>Vascular</td>\n      <td>2148-01-30 17:45:09</td>\n      <td>2148-02-04 20:51:55</td>\n    </tr>\n    <tr>\n      <th>1135</th>\n      <td>10040025</td>\n      <td>27996267.0</td>\n      <td>32676089</td>\n      <td>discharge</td>\n      <td>None</td>\n      <td>2148-02-04 20:51:55</td>\n      <td>None</td>\n    </tr>\n  </tbody>\n</table>\n<p>1136 rows × 7 columns</p>\n</div>"
     },
     "execution_count": 109,
     "metadata": {},
     "output_type": "execute_result"
    }
   ],
   "source": [
    "transfer_df = normalize_jsons(df[\"transfers\"], [\"subject_id\", \"hadm_id\", \"transfer_id\"], [\"subject_id\", \"intime\"])\n",
    "transfer_df"
   ],
   "metadata": {
    "collapsed": false,
    "pycharm": {
     "name": "#%%\n"
    }
   }
  },
  {
   "cell_type": "code",
   "execution_count": 110,
   "outputs": [
    {
     "data": {
      "text/plain": "Emergency Department                                182\nMedicine                                             77\nMed/Surg                                             48\nNeurology                                            46\nMedicine/Cardiology                                  43\nTransplant                                           39\nCardiac Surgery                                      39\nMedical Intensive Care Unit (MICU)                   36\nDischarge Lounge                                     36\nSurgical Intensive Care Unit (SICU)                  33\nMedical/Surgical Intensive Care Unit (MICU/SICU)     32\nCardiac Vascular Intensive Care Unit (CVICU)         31\nHematology/Oncology                                  31\nEmergency Department Observation                     26\nPACU                                                 25\nMed/Surg/Trauma                                      25\nHematology/Oncology Intermediate                     23\nTrauma SICU (TSICU)                                  20\nVascular                                             20\nCoronary Care Unit (CCU)                             16\nMed/Surg/GYN                                         13\nNeuro Surgical Intensive Care Unit (Neuro SICU)       4\nPsychiatry                                            3\nSurgery/Trauma                                        3\nNeuro Stepdown                                        3\nObservation                                           2\nCardiology                                            1\nCardiology Surgery Intermediate                       1\nUnknown                                               1\nNeuro Intermediate                                    1\nMedicine/Cardiology Intermediate                      1\nName: careunit, dtype: int64"
     },
     "execution_count": 110,
     "metadata": {},
     "output_type": "execute_result"
    }
   ],
   "source": [
    "transfer_df[\"careunit\"].value_counts()"
   ],
   "metadata": {
    "collapsed": false,
    "pycharm": {
     "name": "#%%\n"
    }
   }
  },
  {
   "cell_type": "code",
   "execution_count": 111,
   "outputs": [
    {
     "data": {
      "text/plain": "      subject_id     hadm_id  transfer_id  eventtype  \\\n0       10000032  22595853.0     36904543  discharge   \n1       10000032  22595853.0     35223874      admit   \n2       10000032  22595853.0     33258284         ED   \n3       10000032  22841357.0     34100253  discharge   \n4       10000032  22841357.0     34703856      admit   \n...          ...         ...          ...        ...   \n1131    10040025  27996267.0     36822441   transfer   \n1132    10040025  27996267.0     36041505         ED   \n1133    10040025  27996267.0     36107367   transfer   \n1134    10040025  27125816.0     35704905  discharge   \n1135    10040025  27125816.0     38258908      admit   \n\n                                 careunit               intime  \\\n0                                    None  2180-05-07 17:21:27   \n1                              Transplant  2180-05-06 23:30:00   \n2                    Emergency Department  2180-05-06 19:17:00   \n3                                    None  2180-06-27 18:49:12   \n4                              Transplant  2180-06-26 21:31:00   \n...                                   ...                  ...   \n1131                             Vascular  2148-01-23 14:23:57   \n1132                 Emergency Department  2148-01-22 14:47:00   \n1133  Surgical Intensive Care Unit (SICU)  2148-01-24 04:50:17   \n1134                                 None  2143-03-19 12:03:31   \n1135                  Medicine/Cardiology  2143-03-18 12:34:29   \n\n                  outtime  \n0                    None  \n1     2180-05-07 17:21:27  \n2     2180-05-06 23:30:00  \n3                    None  \n4     2180-06-27 18:49:12  \n...                   ...  \n1131  2148-01-24 04:50:17  \n1132  2148-01-23 12:18:49  \n1133  2148-01-30 17:45:09  \n1134                 None  \n1135  2143-03-19 12:03:31  \n\n[1136 rows x 7 columns]",
      "text/html": "<div>\n<style scoped>\n    .dataframe tbody tr th:only-of-type {\n        vertical-align: middle;\n    }\n\n    .dataframe tbody tr th {\n        vertical-align: top;\n    }\n\n    .dataframe thead th {\n        text-align: right;\n    }\n</style>\n<table border=\"1\" class=\"dataframe\">\n  <thead>\n    <tr style=\"text-align: right;\">\n      <th></th>\n      <th>subject_id</th>\n      <th>hadm_id</th>\n      <th>transfer_id</th>\n      <th>eventtype</th>\n      <th>careunit</th>\n      <th>intime</th>\n      <th>outtime</th>\n    </tr>\n  </thead>\n  <tbody>\n    <tr>\n      <th>0</th>\n      <td>10000032</td>\n      <td>22595853.0</td>\n      <td>36904543</td>\n      <td>discharge</td>\n      <td>None</td>\n      <td>2180-05-07 17:21:27</td>\n      <td>None</td>\n    </tr>\n    <tr>\n      <th>1</th>\n      <td>10000032</td>\n      <td>22595853.0</td>\n      <td>35223874</td>\n      <td>admit</td>\n      <td>Transplant</td>\n      <td>2180-05-06 23:30:00</td>\n      <td>2180-05-07 17:21:27</td>\n    </tr>\n    <tr>\n      <th>2</th>\n      <td>10000032</td>\n      <td>22595853.0</td>\n      <td>33258284</td>\n      <td>ED</td>\n      <td>Emergency Department</td>\n      <td>2180-05-06 19:17:00</td>\n      <td>2180-05-06 23:30:00</td>\n    </tr>\n    <tr>\n      <th>3</th>\n      <td>10000032</td>\n      <td>22841357.0</td>\n      <td>34100253</td>\n      <td>discharge</td>\n      <td>None</td>\n      <td>2180-06-27 18:49:12</td>\n      <td>None</td>\n    </tr>\n    <tr>\n      <th>4</th>\n      <td>10000032</td>\n      <td>22841357.0</td>\n      <td>34703856</td>\n      <td>admit</td>\n      <td>Transplant</td>\n      <td>2180-06-26 21:31:00</td>\n      <td>2180-06-27 18:49:12</td>\n    </tr>\n    <tr>\n      <th>...</th>\n      <td>...</td>\n      <td>...</td>\n      <td>...</td>\n      <td>...</td>\n      <td>...</td>\n      <td>...</td>\n      <td>...</td>\n    </tr>\n    <tr>\n      <th>1131</th>\n      <td>10040025</td>\n      <td>27996267.0</td>\n      <td>36822441</td>\n      <td>transfer</td>\n      <td>Vascular</td>\n      <td>2148-01-23 14:23:57</td>\n      <td>2148-01-24 04:50:17</td>\n    </tr>\n    <tr>\n      <th>1132</th>\n      <td>10040025</td>\n      <td>27996267.0</td>\n      <td>36041505</td>\n      <td>ED</td>\n      <td>Emergency Department</td>\n      <td>2148-01-22 14:47:00</td>\n      <td>2148-01-23 12:18:49</td>\n    </tr>\n    <tr>\n      <th>1133</th>\n      <td>10040025</td>\n      <td>27996267.0</td>\n      <td>36107367</td>\n      <td>transfer</td>\n      <td>Surgical Intensive Care Unit (SICU)</td>\n      <td>2148-01-24 04:50:17</td>\n      <td>2148-01-30 17:45:09</td>\n    </tr>\n    <tr>\n      <th>1134</th>\n      <td>10040025</td>\n      <td>27125816.0</td>\n      <td>35704905</td>\n      <td>discharge</td>\n      <td>None</td>\n      <td>2143-03-19 12:03:31</td>\n      <td>None</td>\n    </tr>\n    <tr>\n      <th>1135</th>\n      <td>10040025</td>\n      <td>27125816.0</td>\n      <td>38258908</td>\n      <td>admit</td>\n      <td>Medicine/Cardiology</td>\n      <td>2143-03-18 12:34:29</td>\n      <td>2143-03-19 12:03:31</td>\n    </tr>\n  </tbody>\n</table>\n<p>1136 rows × 7 columns</p>\n</div>"
     },
     "execution_count": 111,
     "metadata": {},
     "output_type": "execute_result"
    }
   ],
   "source": [
    "data = []\n",
    "for datum in df[\"transfers\"]:\n",
    "    json_df = pd.json_normalize(datum)\n",
    "    data.append(json_df)\n",
    "column_df = pd.concat(data, ignore_index=True)\n",
    "column_df"
   ],
   "metadata": {
    "collapsed": false,
    "pycharm": {
     "name": "#%%\n"
    }
   }
  },
  {
   "cell_type": "code",
   "execution_count": 113,
   "outputs": [
    {
     "data": {
      "text/plain": "    subject_id deathtime insurance language marital_status  \\\n0     10000032       NaN     Other  ENGLISH        WIDOWED   \n1     10001217       NaN     Other        ?        MARRIED   \n2     10001725       NaN     Other  ENGLISH        MARRIED   \n3     10002428       NaN  Medicare  ENGLISH        WIDOWED   \n4     10002495       NaN  Medicare  ENGLISH        MARRIED   \n..         ...       ...       ...      ...            ...   \n95    10038999       NaN  Medicare  ENGLISH         SINGLE   \n96    10039708       NaN     Other  ENGLISH         SINGLE   \n97    10039831       NaN     Other  ENGLISH        MARRIED   \n98    10039997       NaN  Medicare  ENGLISH        WIDOWED   \n99    10040025       NaN     Other  ENGLISH       DIVORCED   \n\n                      race gender  anchor_age  anchor_year anchor_year_group  \\\n0                    WHITE      F          52         2180       2014 - 2016   \n1                    WHITE      F          55         2157       2011 - 2013   \n2                    WHITE      F          46         2110       2011 - 2013   \n3                    WHITE      F          80         2155       2011 - 2013   \n4                  UNKNOWN      M          81         2141       2014 - 2016   \n..                     ...    ...         ...          ...               ...   \n95                   WHITE      M          45         2131       2014 - 2016   \n96  BLACK/AFRICAN AMERICAN      F          46         2138       2014 - 2016   \n97        UNABLE TO OBTAIN      F          57         2115       2011 - 2013   \n98  BLACK/AFRICAN AMERICAN      F          67         2134       2014 - 2016   \n99                   WHITE      F          64         2143       2011 - 2013   \n\n           dod  \n0   2180-09-09  \n1               \n2               \n3               \n4               \n..         ...  \n95              \n96              \n97              \n98              \n99  2148-02-07  \n\n[100 rows x 11 columns]",
      "text/html": "<div>\n<style scoped>\n    .dataframe tbody tr th:only-of-type {\n        vertical-align: middle;\n    }\n\n    .dataframe tbody tr th {\n        vertical-align: top;\n    }\n\n    .dataframe thead th {\n        text-align: right;\n    }\n</style>\n<table border=\"1\" class=\"dataframe\">\n  <thead>\n    <tr style=\"text-align: right;\">\n      <th></th>\n      <th>subject_id</th>\n      <th>deathtime</th>\n      <th>insurance</th>\n      <th>language</th>\n      <th>marital_status</th>\n      <th>race</th>\n      <th>gender</th>\n      <th>anchor_age</th>\n      <th>anchor_year</th>\n      <th>anchor_year_group</th>\n      <th>dod</th>\n    </tr>\n  </thead>\n  <tbody>\n    <tr>\n      <th>0</th>\n      <td>10000032</td>\n      <td>NaN</td>\n      <td>Other</td>\n      <td>ENGLISH</td>\n      <td>WIDOWED</td>\n      <td>WHITE</td>\n      <td>F</td>\n      <td>52</td>\n      <td>2180</td>\n      <td>2014 - 2016</td>\n      <td>2180-09-09</td>\n    </tr>\n    <tr>\n      <th>1</th>\n      <td>10001217</td>\n      <td>NaN</td>\n      <td>Other</td>\n      <td>?</td>\n      <td>MARRIED</td>\n      <td>WHITE</td>\n      <td>F</td>\n      <td>55</td>\n      <td>2157</td>\n      <td>2011 - 2013</td>\n      <td></td>\n    </tr>\n    <tr>\n      <th>2</th>\n      <td>10001725</td>\n      <td>NaN</td>\n      <td>Other</td>\n      <td>ENGLISH</td>\n      <td>MARRIED</td>\n      <td>WHITE</td>\n      <td>F</td>\n      <td>46</td>\n      <td>2110</td>\n      <td>2011 - 2013</td>\n      <td></td>\n    </tr>\n    <tr>\n      <th>3</th>\n      <td>10002428</td>\n      <td>NaN</td>\n      <td>Medicare</td>\n      <td>ENGLISH</td>\n      <td>WIDOWED</td>\n      <td>WHITE</td>\n      <td>F</td>\n      <td>80</td>\n      <td>2155</td>\n      <td>2011 - 2013</td>\n      <td></td>\n    </tr>\n    <tr>\n      <th>4</th>\n      <td>10002495</td>\n      <td>NaN</td>\n      <td>Medicare</td>\n      <td>ENGLISH</td>\n      <td>MARRIED</td>\n      <td>UNKNOWN</td>\n      <td>M</td>\n      <td>81</td>\n      <td>2141</td>\n      <td>2014 - 2016</td>\n      <td></td>\n    </tr>\n    <tr>\n      <th>...</th>\n      <td>...</td>\n      <td>...</td>\n      <td>...</td>\n      <td>...</td>\n      <td>...</td>\n      <td>...</td>\n      <td>...</td>\n      <td>...</td>\n      <td>...</td>\n      <td>...</td>\n      <td>...</td>\n    </tr>\n    <tr>\n      <th>95</th>\n      <td>10038999</td>\n      <td>NaN</td>\n      <td>Medicare</td>\n      <td>ENGLISH</td>\n      <td>SINGLE</td>\n      <td>WHITE</td>\n      <td>M</td>\n      <td>45</td>\n      <td>2131</td>\n      <td>2014 - 2016</td>\n      <td></td>\n    </tr>\n    <tr>\n      <th>96</th>\n      <td>10039708</td>\n      <td>NaN</td>\n      <td>Other</td>\n      <td>ENGLISH</td>\n      <td>SINGLE</td>\n      <td>BLACK/AFRICAN AMERICAN</td>\n      <td>F</td>\n      <td>46</td>\n      <td>2138</td>\n      <td>2014 - 2016</td>\n      <td></td>\n    </tr>\n    <tr>\n      <th>97</th>\n      <td>10039831</td>\n      <td>NaN</td>\n      <td>Other</td>\n      <td>ENGLISH</td>\n      <td>MARRIED</td>\n      <td>UNABLE TO OBTAIN</td>\n      <td>F</td>\n      <td>57</td>\n      <td>2115</td>\n      <td>2011 - 2013</td>\n      <td></td>\n    </tr>\n    <tr>\n      <th>98</th>\n      <td>10039997</td>\n      <td>NaN</td>\n      <td>Medicare</td>\n      <td>ENGLISH</td>\n      <td>WIDOWED</td>\n      <td>BLACK/AFRICAN AMERICAN</td>\n      <td>F</td>\n      <td>67</td>\n      <td>2134</td>\n      <td>2014 - 2016</td>\n      <td></td>\n    </tr>\n    <tr>\n      <th>99</th>\n      <td>10040025</td>\n      <td>NaN</td>\n      <td>Other</td>\n      <td>ENGLISH</td>\n      <td>DIVORCED</td>\n      <td>WHITE</td>\n      <td>F</td>\n      <td>64</td>\n      <td>2143</td>\n      <td>2011 - 2013</td>\n      <td>2148-02-07</td>\n    </tr>\n  </tbody>\n</table>\n<p>100 rows × 11 columns</p>\n</div>"
     },
     "execution_count": 113,
     "metadata": {},
     "output_type": "execute_result"
    }
   ],
   "source": [
    "subject_df = df.drop_duplicates(subset=[\"subject_id\"])[[\"subject_id\", \"deathtime\", \"insurance\", \"language\", \"marital_status\", \"race\"]]\n",
    "patient_df = pd.merge(subject_df, patients_df, on='subject_id', how='inner')\n",
    "patient_df"
   ],
   "metadata": {
    "collapsed": false,
    "pycharm": {
     "name": "#%%\n"
    }
   }
  },
  {
   "cell_type": "code",
   "execution_count": 114,
   "outputs": [
    {
     "data": {
      "text/plain": "WHITE                             63\nUNKNOWN                           12\nBLACK/AFRICAN AMERICAN             9\nUNABLE TO OBTAIN                   3\nOTHER                              3\nHISPANIC/LATINO - SALVADORAN       2\nBLACK/CAPE VERDEAN                 1\nPORTUGUESE                         1\nHISPANIC/LATINO - PUERTO RICAN     1\nWHITE - BRAZILIAN                  1\nHISPANIC OR LATINO                 1\nWHITE - OTHER EUROPEAN             1\nPATIENT DECLINED TO ANSWER         1\nHISPANIC/LATINO - CUBAN            1\nName: race, dtype: int64"
     },
     "execution_count": 114,
     "metadata": {},
     "output_type": "execute_result"
    }
   ],
   "source": [
    "patient_df[\"race\"].value_counts()"
   ],
   "metadata": {
    "collapsed": false,
    "pycharm": {
     "name": "#%%\n"
    }
   }
  },
  {
   "cell_type": "code",
   "execution_count": 119,
   "outputs": [
    {
     "data": {
      "text/plain": "                              race gender insurance  count  sum_counts  \\\n1           BLACK/AFRICAN AMERICAN      F  Medicare      5           8   \n2           BLACK/AFRICAN AMERICAN      F     Other      2           8   \n0           BLACK/AFRICAN AMERICAN      F  Medicaid      1           8   \n3           BLACK/AFRICAN AMERICAN      M  Medicare      1           1   \n4               BLACK/CAPE VERDEAN      M  Medicaid      1           1   \n5               HISPANIC OR LATINO      M     Other      1           1   \n6          HISPANIC/LATINO - CUBAN      F  Medicare      1           1   \n7   HISPANIC/LATINO - PUERTO RICAN      M  Medicaid      1           1   \n9     HISPANIC/LATINO - SALVADORAN      F     Other      1           2   \n8     HISPANIC/LATINO - SALVADORAN      F  Medicaid      1           2   \n11                           OTHER      M     Other      2           3   \n10                           OTHER      M  Medicare      1           3   \n12      PATIENT DECLINED TO ANSWER      M  Medicaid      1           1   \n13                      PORTUGUESE      M  Medicaid      1           1   \n15                UNABLE TO OBTAIN      F     Other      2           3   \n14                UNABLE TO OBTAIN      F  Medicaid      1           3   \n16                         UNKNOWN      F     Other      4           4   \n18                         UNKNOWN      M  Medicare      6           8   \n17                         UNKNOWN      M  Medicaid      2           8   \n20                           WHITE      F     Other     16          23   \n19                           WHITE      F  Medicare      7          23   \n22                           WHITE      M     Other     24          40   \n21                           WHITE      M  Medicare     16          40   \n23               WHITE - BRAZILIAN      F     Other      1           1   \n24          WHITE - OTHER EUROPEAN      F     Other      1           1   \n\n         ratio  \n1    62.500000  \n2    25.000000  \n0    12.500000  \n3   100.000000  \n4   100.000000  \n5   100.000000  \n6   100.000000  \n7   100.000000  \n9    50.000000  \n8    50.000000  \n11   66.666667  \n10   33.333333  \n12  100.000000  \n13  100.000000  \n15   66.666667  \n14   33.333333  \n16  100.000000  \n18   75.000000  \n17   25.000000  \n20   69.565217  \n19   30.434783  \n22   60.000000  \n21   40.000000  \n23  100.000000  \n24  100.000000  ",
      "text/html": "<div>\n<style scoped>\n    .dataframe tbody tr th:only-of-type {\n        vertical-align: middle;\n    }\n\n    .dataframe tbody tr th {\n        vertical-align: top;\n    }\n\n    .dataframe thead th {\n        text-align: right;\n    }\n</style>\n<table border=\"1\" class=\"dataframe\">\n  <thead>\n    <tr style=\"text-align: right;\">\n      <th></th>\n      <th>race</th>\n      <th>gender</th>\n      <th>insurance</th>\n      <th>count</th>\n      <th>sum_counts</th>\n      <th>ratio</th>\n    </tr>\n  </thead>\n  <tbody>\n    <tr>\n      <th>1</th>\n      <td>BLACK/AFRICAN AMERICAN</td>\n      <td>F</td>\n      <td>Medicare</td>\n      <td>5</td>\n      <td>8</td>\n      <td>62.500000</td>\n    </tr>\n    <tr>\n      <th>2</th>\n      <td>BLACK/AFRICAN AMERICAN</td>\n      <td>F</td>\n      <td>Other</td>\n      <td>2</td>\n      <td>8</td>\n      <td>25.000000</td>\n    </tr>\n    <tr>\n      <th>0</th>\n      <td>BLACK/AFRICAN AMERICAN</td>\n      <td>F</td>\n      <td>Medicaid</td>\n      <td>1</td>\n      <td>8</td>\n      <td>12.500000</td>\n    </tr>\n    <tr>\n      <th>3</th>\n      <td>BLACK/AFRICAN AMERICAN</td>\n      <td>M</td>\n      <td>Medicare</td>\n      <td>1</td>\n      <td>1</td>\n      <td>100.000000</td>\n    </tr>\n    <tr>\n      <th>4</th>\n      <td>BLACK/CAPE VERDEAN</td>\n      <td>M</td>\n      <td>Medicaid</td>\n      <td>1</td>\n      <td>1</td>\n      <td>100.000000</td>\n    </tr>\n    <tr>\n      <th>5</th>\n      <td>HISPANIC OR LATINO</td>\n      <td>M</td>\n      <td>Other</td>\n      <td>1</td>\n      <td>1</td>\n      <td>100.000000</td>\n    </tr>\n    <tr>\n      <th>6</th>\n      <td>HISPANIC/LATINO - CUBAN</td>\n      <td>F</td>\n      <td>Medicare</td>\n      <td>1</td>\n      <td>1</td>\n      <td>100.000000</td>\n    </tr>\n    <tr>\n      <th>7</th>\n      <td>HISPANIC/LATINO - PUERTO RICAN</td>\n      <td>M</td>\n      <td>Medicaid</td>\n      <td>1</td>\n      <td>1</td>\n      <td>100.000000</td>\n    </tr>\n    <tr>\n      <th>9</th>\n      <td>HISPANIC/LATINO - SALVADORAN</td>\n      <td>F</td>\n      <td>Other</td>\n      <td>1</td>\n      <td>2</td>\n      <td>50.000000</td>\n    </tr>\n    <tr>\n      <th>8</th>\n      <td>HISPANIC/LATINO - SALVADORAN</td>\n      <td>F</td>\n      <td>Medicaid</td>\n      <td>1</td>\n      <td>2</td>\n      <td>50.000000</td>\n    </tr>\n    <tr>\n      <th>11</th>\n      <td>OTHER</td>\n      <td>M</td>\n      <td>Other</td>\n      <td>2</td>\n      <td>3</td>\n      <td>66.666667</td>\n    </tr>\n    <tr>\n      <th>10</th>\n      <td>OTHER</td>\n      <td>M</td>\n      <td>Medicare</td>\n      <td>1</td>\n      <td>3</td>\n      <td>33.333333</td>\n    </tr>\n    <tr>\n      <th>12</th>\n      <td>PATIENT DECLINED TO ANSWER</td>\n      <td>M</td>\n      <td>Medicaid</td>\n      <td>1</td>\n      <td>1</td>\n      <td>100.000000</td>\n    </tr>\n    <tr>\n      <th>13</th>\n      <td>PORTUGUESE</td>\n      <td>M</td>\n      <td>Medicaid</td>\n      <td>1</td>\n      <td>1</td>\n      <td>100.000000</td>\n    </tr>\n    <tr>\n      <th>15</th>\n      <td>UNABLE TO OBTAIN</td>\n      <td>F</td>\n      <td>Other</td>\n      <td>2</td>\n      <td>3</td>\n      <td>66.666667</td>\n    </tr>\n    <tr>\n      <th>14</th>\n      <td>UNABLE TO OBTAIN</td>\n      <td>F</td>\n      <td>Medicaid</td>\n      <td>1</td>\n      <td>3</td>\n      <td>33.333333</td>\n    </tr>\n    <tr>\n      <th>16</th>\n      <td>UNKNOWN</td>\n      <td>F</td>\n      <td>Other</td>\n      <td>4</td>\n      <td>4</td>\n      <td>100.000000</td>\n    </tr>\n    <tr>\n      <th>18</th>\n      <td>UNKNOWN</td>\n      <td>M</td>\n      <td>Medicare</td>\n      <td>6</td>\n      <td>8</td>\n      <td>75.000000</td>\n    </tr>\n    <tr>\n      <th>17</th>\n      <td>UNKNOWN</td>\n      <td>M</td>\n      <td>Medicaid</td>\n      <td>2</td>\n      <td>8</td>\n      <td>25.000000</td>\n    </tr>\n    <tr>\n      <th>20</th>\n      <td>WHITE</td>\n      <td>F</td>\n      <td>Other</td>\n      <td>16</td>\n      <td>23</td>\n      <td>69.565217</td>\n    </tr>\n    <tr>\n      <th>19</th>\n      <td>WHITE</td>\n      <td>F</td>\n      <td>Medicare</td>\n      <td>7</td>\n      <td>23</td>\n      <td>30.434783</td>\n    </tr>\n    <tr>\n      <th>22</th>\n      <td>WHITE</td>\n      <td>M</td>\n      <td>Other</td>\n      <td>24</td>\n      <td>40</td>\n      <td>60.000000</td>\n    </tr>\n    <tr>\n      <th>21</th>\n      <td>WHITE</td>\n      <td>M</td>\n      <td>Medicare</td>\n      <td>16</td>\n      <td>40</td>\n      <td>40.000000</td>\n    </tr>\n    <tr>\n      <th>23</th>\n      <td>WHITE - BRAZILIAN</td>\n      <td>F</td>\n      <td>Other</td>\n      <td>1</td>\n      <td>1</td>\n      <td>100.000000</td>\n    </tr>\n    <tr>\n      <th>24</th>\n      <td>WHITE - OTHER EUROPEAN</td>\n      <td>F</td>\n      <td>Other</td>\n      <td>1</td>\n      <td>1</td>\n      <td>100.000000</td>\n    </tr>\n  </tbody>\n</table>\n</div>"
     },
     "execution_count": 119,
     "metadata": {},
     "output_type": "execute_result"
    }
   ],
   "source": [
    "temp = patient_df.groupby([\"race\", \"gender\", \"insurance\"]).size().reset_index(name='count').sort_values(by=[\"count\"], ascending=False)\n",
    "temp['sum_counts'] = temp.groupby([\"race\", \"gender\"])['count'].transform('sum')\n",
    "temp['ratio'] = temp['count'] / temp['sum_counts'] * 100\n",
    "temp.sort_values(by=[\"race\", \"gender\"])"
   ],
   "metadata": {
    "collapsed": false,
    "pycharm": {
     "name": "#%%\n"
    }
   }
  },
  {
   "cell_type": "code",
   "execution_count": null,
   "outputs": [],
   "source": [],
   "metadata": {
    "collapsed": false,
    "pycharm": {
     "name": "#%%\n"
    }
   }
  }
 ],
 "metadata": {
  "kernelspec": {
   "display_name": "Python 3",
   "language": "python",
   "name": "python3"
  },
  "language_info": {
   "codemirror_mode": {
    "name": "ipython",
    "version": 2
   },
   "file_extension": ".py",
   "mimetype": "text/x-python",
   "name": "python",
   "nbconvert_exporter": "python",
   "pygments_lexer": "ipython2",
   "version": "2.7.6"
  }
 },
 "nbformat": 4,
 "nbformat_minor": 0
}