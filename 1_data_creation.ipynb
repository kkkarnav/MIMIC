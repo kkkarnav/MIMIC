{
 "cells": [
  {
   "cell_type": "code",
   "execution_count": 29,
   "outputs": [],
   "source": [
    "import pandas as pd\n",
    "import os"
   ],
   "metadata": {
    "collapsed": false,
    "pycharm": {
     "name": "#%%\n"
    }
   }
  },
  {
   "cell_type": "code",
   "execution_count": 41,
   "outputs": [
    {
     "name": "stdout",
     "output_type": "stream",
     "text": [
      "<class 'pandas.core.frame.DataFrame'>\n",
      "RangeIndex: 275 entries, 0 to 274\n",
      "Data columns (total 31 columns):\n",
      " #   Column                Non-Null Count  Dtype \n",
      "---  ------                --------------  ----- \n",
      " 0   subject_id            275 non-null    int64 \n",
      " 1   hadm_id               275 non-null    int64 \n",
      " 2   admittime             275 non-null    object\n",
      " 3   dischtime             275 non-null    object\n",
      " 4   deathtime             15 non-null     object\n",
      " 5   admission_type        275 non-null    object\n",
      " 6   admit_provider_id     275 non-null    object\n",
      " 7   admission_location    275 non-null    object\n",
      " 8   discharge_location    233 non-null    object\n",
      " 9   insurance             275 non-null    object\n",
      " 10  language              275 non-null    object\n",
      " 11  marital_status        263 non-null    object\n",
      " 12  race                  275 non-null    object\n",
      " 13  edregtime             182 non-null    object\n",
      " 14  edouttime             182 non-null    object\n",
      " 15  hospital_expire_flag  275 non-null    int64 \n",
      " 16  patients              275 non-null    object\n",
      " 17  omr                   275 non-null    object\n",
      " 18  emar                  275 non-null    object\n",
      " 19  diagnoses_icd         275 non-null    object\n",
      " 20  drgcodes              275 non-null    object\n",
      " 21  hcpcsevents           275 non-null    object\n",
      " 22  labevents             275 non-null    object\n",
      " 23  microbiologyevents    275 non-null    object\n",
      " 24  pharmacy              275 non-null    object\n",
      " 25  poe                   275 non-null    object\n",
      " 26  prescriptions         275 non-null    object\n",
      " 27  procedures_icd        275 non-null    object\n",
      " 28  services              275 non-null    object\n",
      " 29  transfers             275 non-null    object\n",
      " 30  icustays              275 non-null    object\n",
      "dtypes: int64(3), object(28)\n",
      "memory usage: 66.7+ KB\n"
     ]
    }
   ],
   "source": [
    "df = pd.DataFrame()\n",
    "files = os.listdir(\"./patients_new\")\n",
    "for file in files:\n",
    "    patient = pd.read_json(os.path.join(\"./patients_new/\", file))\n",
    "    df = pd.concat([df, patient], ignore_index=True)"
   ],
   "metadata": {
    "collapsed": false,
    "pycharm": {
     "name": "#%%\n"
    }
   }
  },
  {
   "cell_type": "code",
   "execution_count": null,
   "outputs": [],
   "source": [
    "df.info()"
   ],
   "metadata": {
    "collapsed": false,
    "pycharm": {
     "name": "#%%\n"
    }
   }
  },
  {
   "cell_type": "code",
   "execution_count": 42,
   "outputs": [
    {
     "data": {
      "text/plain": "     subject_id   hadm_id            admittime            dischtime deathtime  \\\n0      10000032  22595853  2180-05-06 22:23:00  2180-05-07 17:15:00       NaN   \n1      10000032  22841357  2180-06-26 18:27:00  2180-06-27 18:49:00       NaN   \n2      10000032  25742920  2180-08-05 23:44:00  2180-08-07 17:50:00       NaN   \n3      10000032  29079034  2180-07-23 12:35:00  2180-07-25 17:55:00       NaN   \n4      10001217  24597018  2157-11-18 22:56:00  2157-11-25 18:00:00       NaN   \n..          ...       ...                  ...                  ...       ...   \n270    10040025  21791856  2147-06-16 22:00:00  2147-06-22 16:15:00       NaN   \n271    10040025  22251969  2147-08-03 02:58:00  2147-08-06 16:50:00       NaN   \n272    10040025  27259207  2147-12-04 20:48:00  2147-12-18 16:43:00       NaN   \n273    10040025  27996267  2148-01-23 12:18:00  2148-02-04 20:51:00       NaN   \n274    10040025  27125816  2143-03-18 12:34:00  2143-03-19 12:00:00       NaN   \n\n             admission_type admit_provider_id  \\\n0                    URGENT            P874LG   \n1                  EW EMER.            P09Q6Y   \n2                  EW EMER.            P60CC5   \n3                  EW EMER.            P30KEH   \n4                  EW EMER.            P4645A   \n..                      ...               ...   \n270       OBSERVATION ADMIT            P7634X   \n271       OBSERVATION ADMIT            P85BWS   \n272       OBSERVATION ADMIT            P43BTJ   \n273       OBSERVATION ADMIT            P10WWR   \n274  AMBULATORY OBSERVATION            P623U2   \n\n                         admission_location        discharge_location  \\\n0                    TRANSFER FROM HOSPITAL                      HOME   \n1                            EMERGENCY ROOM                      HOME   \n2                            EMERGENCY ROOM                   HOSPICE   \n3                            EMERGENCY ROOM                      HOME   \n4                            EMERGENCY ROOM          HOME HEALTH CARE   \n..                                      ...                       ...   \n270                          EMERGENCY ROOM          HOME HEALTH CARE   \n271                          EMERGENCY ROOM                      HOME   \n272                          EMERGENCY ROOM  SKILLED NURSING FACILITY   \n273  TRANSFER FROM SKILLED NURSING FACILITY                   HOSPICE   \n274                          PROCEDURE SITE                      None   \n\n    insurance  ...                                        hcpcsevents  \\\n0       Other  ...                                                 []   \n1    Medicaid  ...                                                 []   \n2    Medicaid  ...                                                 []   \n3    Medicaid  ...                                                 []   \n4       Other  ...                                                 []   \n..        ...  ...                                                ...   \n270     Other  ...                                                 []   \n271     Other  ...                                                 []   \n272     Other  ...                                                 []   \n273     Other  ...                                                 []   \n274     Other  ...  [{'subject_id': 10040025, 'hadm_id': 27125816,...   \n\n                                             labevents  \\\n0    [{'labevent_id': 151, 'subject_id': 10000032, ...   \n1    [{'labevent_id': 332, 'subject_id': 10000032, ...   \n2    [{'labevent_id': 584, 'subject_id': 10000032, ...   \n3    [{'labevent_id': 407, 'subject_id': 10000032, ...   \n4    [{'labevent_id': 9011, 'subject_id': 10001217,...   \n..                                                 ...   \n270  [{'labevent_id': 472612, 'subject_id': 1004002...   \n271  [{'labevent_id': 472861, 'subject_id': 1004002...   \n272  [{'labevent_id': 473416, 'subject_id': 1004002...   \n273  [{'labevent_id': 474364, 'subject_id': 1004002...   \n274  [{'labevent_id': 471955, 'subject_id': 1004002...   \n\n                                    microbiologyevents  \\\n0    [{'microevent_id': 15, 'subject_id': 10000032,...   \n1    [{'microevent_id': 28, 'subject_id': 10000032,...   \n2    [{'microevent_id': 36, 'subject_id': 10000032,...   \n3    [{'microevent_id': 32, 'subject_id': 10000032,...   \n4    [{'microevent_id': 402, 'subject_id': 10001217...   \n..                                                 ...   \n270  [{'microevent_id': 14525, 'subject_id': 100400...   \n271                                                 []   \n272                                                 []   \n273  [{'microevent_id': 14586, 'subject_id': 100400...   \n274                                                 []   \n\n                                              pharmacy  \\\n0    [{'subject_id': 10000032, 'hadm_id': 22595853,...   \n1    [{'subject_id': 10000032, 'hadm_id': 22841357,...   \n2    [{'subject_id': 10000032, 'hadm_id': 25742920,...   \n3    [{'subject_id': 10000032, 'hadm_id': 29079034,...   \n4    [{'subject_id': 10001217, 'hadm_id': 24597018,...   \n..                                                 ...   \n270  [{'subject_id': 10040025, 'hadm_id': 21791856,...   \n271  [{'subject_id': 10040025, 'hadm_id': 22251969,...   \n272  [{'subject_id': 10040025, 'hadm_id': 27259207,...   \n273  [{'subject_id': 10040025, 'hadm_id': 27996267,...   \n274  [{'subject_id': 10040025, 'hadm_id': 27125816,...   \n\n                                                   poe  \\\n0    [{'poe_id': '10000032-52', 'poe_seq': 52, 'sub...   \n1    [{'poe_id': '10000032-69', 'poe_seq': 69, 'sub...   \n2    [{'poe_id': '10000032-217', 'poe_seq': 217, 's...   \n3    [{'poe_id': '10000032-125', 'poe_seq': 125, 's...   \n4    [{'poe_id': '10001217-110', 'poe_seq': 110, 's...   \n..                                                 ...   \n270  [{'poe_id': '10040025-451', 'poe_seq': 451, 's...   \n271  [{'poe_id': '10040025-594', 'poe_seq': 594, 's...   \n272  [{'poe_id': '10040025-844', 'poe_seq': 844, 's...   \n273  [{'poe_id': '10040025-1693', 'poe_seq': 1693, ...   \n274  [{'poe_id': '10040025-71', 'poe_seq': 71, 'sub...   \n\n                                         prescriptions  \\\n0    [{'subject_id': 10000032, 'hadm_id': 22595853,...   \n1    [{'subject_id': 10000032, 'hadm_id': 22841357,...   \n2    [{'subject_id': 10000032, 'hadm_id': 25742920,...   \n3    [{'subject_id': 10000032, 'hadm_id': 29079034,...   \n4    [{'subject_id': 10001217, 'hadm_id': 24597018,...   \n..                                                 ...   \n270  [{'subject_id': 10040025, 'hadm_id': 21791856,...   \n271  [{'subject_id': 10040025, 'hadm_id': 22251969,...   \n272  [{'subject_id': 10040025, 'hadm_id': 27259207,...   \n273  [{'subject_id': 10040025, 'hadm_id': 27996267,...   \n274  [{'subject_id': 10040025, 'hadm_id': 27125816,...   \n\n                                        procedures_icd  \\\n0    [{'subject_id': 10000032, 'hadm_id': 22595853,...   \n1    [{'subject_id': 10000032, 'hadm_id': 22841357,...   \n2    [{'subject_id': 10000032, 'hadm_id': 25742920,...   \n3                                                   []   \n4    [{'subject_id': 10001217, 'hadm_id': 24597018,...   \n..                                                 ...   \n270                                                 []   \n271                                                 []   \n272  [{'subject_id': 10040025, 'hadm_id': 27259207,...   \n273  [{'subject_id': 10040025, 'hadm_id': 27996267,...   \n274  [{'subject_id': 10040025, 'hadm_id': 27125816,...   \n\n                                              services  \\\n0    [{'subject_id': 10000032, 'hadm_id': 22595853,...   \n1    [{'subject_id': 10000032, 'hadm_id': 22841357,...   \n2    [{'subject_id': 10000032, 'hadm_id': 25742920,...   \n3    [{'subject_id': 10000032, 'hadm_id': 29079034,...   \n4    [{'subject_id': 10001217, 'hadm_id': 24597018,...   \n..                                                 ...   \n270  [{'subject_id': 10040025, 'hadm_id': 21791856,...   \n271  [{'subject_id': 10040025, 'hadm_id': 22251969,...   \n272  [{'subject_id': 10040025, 'hadm_id': 27259207,...   \n273  [{'subject_id': 10040025, 'hadm_id': 27996267,...   \n274  [{'subject_id': 10040025, 'hadm_id': 27125816,...   \n\n                                             transfers  \\\n0    [{'subject_id': 10000032, 'hadm_id': 22595853....   \n1    [{'subject_id': 10000032, 'hadm_id': 22841357....   \n2    [{'subject_id': 10000032, 'hadm_id': 25742920....   \n3    [{'subject_id': 10000032, 'hadm_id': 29079034....   \n4    [{'subject_id': 10001217, 'hadm_id': 24597018....   \n..                                                 ...   \n270  [{'subject_id': 10040025, 'hadm_id': 21791856....   \n271  [{'subject_id': 10040025, 'hadm_id': 22251969....   \n272  [{'subject_id': 10040025, 'hadm_id': 27259207....   \n273  [{'subject_id': 10040025, 'hadm_id': 27996267....   \n274  [{'subject_id': 10040025, 'hadm_id': 27125816....   \n\n                                              icustays  \n0                                                   []  \n1                                                   []  \n2                                                   []  \n3    [{'subject_id': 10000032, 'hadm_id': 29079034,...  \n4    [{'subject_id': 10001217, 'hadm_id': 24597018,...  \n..                                                 ...  \n270                                                 []  \n271                                                 []  \n272                                                 []  \n273  [{'subject_id': 10040025, 'hadm_id': 27996267,...  \n274                                                 []  \n\n[275 rows x 31 columns]",
      "text/html": "<div>\n<style scoped>\n    .dataframe tbody tr th:only-of-type {\n        vertical-align: middle;\n    }\n\n    .dataframe tbody tr th {\n        vertical-align: top;\n    }\n\n    .dataframe thead th {\n        text-align: right;\n    }\n</style>\n<table border=\"1\" class=\"dataframe\">\n  <thead>\n    <tr style=\"text-align: right;\">\n      <th></th>\n      <th>subject_id</th>\n      <th>hadm_id</th>\n      <th>admittime</th>\n      <th>dischtime</th>\n      <th>deathtime</th>\n      <th>admission_type</th>\n      <th>admit_provider_id</th>\n      <th>admission_location</th>\n      <th>discharge_location</th>\n      <th>insurance</th>\n      <th>...</th>\n      <th>hcpcsevents</th>\n      <th>labevents</th>\n      <th>microbiologyevents</th>\n      <th>pharmacy</th>\n      <th>poe</th>\n      <th>prescriptions</th>\n      <th>procedures_icd</th>\n      <th>services</th>\n      <th>transfers</th>\n      <th>icustays</th>\n    </tr>\n  </thead>\n  <tbody>\n    <tr>\n      <th>0</th>\n      <td>10000032</td>\n      <td>22595853</td>\n      <td>2180-05-06 22:23:00</td>\n      <td>2180-05-07 17:15:00</td>\n      <td>NaN</td>\n      <td>URGENT</td>\n      <td>P874LG</td>\n      <td>TRANSFER FROM HOSPITAL</td>\n      <td>HOME</td>\n      <td>Other</td>\n      <td>...</td>\n      <td>[]</td>\n      <td>[{'labevent_id': 151, 'subject_id': 10000032, ...</td>\n      <td>[{'microevent_id': 15, 'subject_id': 10000032,...</td>\n      <td>[{'subject_id': 10000032, 'hadm_id': 22595853,...</td>\n      <td>[{'poe_id': '10000032-52', 'poe_seq': 52, 'sub...</td>\n      <td>[{'subject_id': 10000032, 'hadm_id': 22595853,...</td>\n      <td>[{'subject_id': 10000032, 'hadm_id': 22595853,...</td>\n      <td>[{'subject_id': 10000032, 'hadm_id': 22595853,...</td>\n      <td>[{'subject_id': 10000032, 'hadm_id': 22595853....</td>\n      <td>[]</td>\n    </tr>\n    <tr>\n      <th>1</th>\n      <td>10000032</td>\n      <td>22841357</td>\n      <td>2180-06-26 18:27:00</td>\n      <td>2180-06-27 18:49:00</td>\n      <td>NaN</td>\n      <td>EW EMER.</td>\n      <td>P09Q6Y</td>\n      <td>EMERGENCY ROOM</td>\n      <td>HOME</td>\n      <td>Medicaid</td>\n      <td>...</td>\n      <td>[]</td>\n      <td>[{'labevent_id': 332, 'subject_id': 10000032, ...</td>\n      <td>[{'microevent_id': 28, 'subject_id': 10000032,...</td>\n      <td>[{'subject_id': 10000032, 'hadm_id': 22841357,...</td>\n      <td>[{'poe_id': '10000032-69', 'poe_seq': 69, 'sub...</td>\n      <td>[{'subject_id': 10000032, 'hadm_id': 22841357,...</td>\n      <td>[{'subject_id': 10000032, 'hadm_id': 22841357,...</td>\n      <td>[{'subject_id': 10000032, 'hadm_id': 22841357,...</td>\n      <td>[{'subject_id': 10000032, 'hadm_id': 22841357....</td>\n      <td>[]</td>\n    </tr>\n    <tr>\n      <th>2</th>\n      <td>10000032</td>\n      <td>25742920</td>\n      <td>2180-08-05 23:44:00</td>\n      <td>2180-08-07 17:50:00</td>\n      <td>NaN</td>\n      <td>EW EMER.</td>\n      <td>P60CC5</td>\n      <td>EMERGENCY ROOM</td>\n      <td>HOSPICE</td>\n      <td>Medicaid</td>\n      <td>...</td>\n      <td>[]</td>\n      <td>[{'labevent_id': 584, 'subject_id': 10000032, ...</td>\n      <td>[{'microevent_id': 36, 'subject_id': 10000032,...</td>\n      <td>[{'subject_id': 10000032, 'hadm_id': 25742920,...</td>\n      <td>[{'poe_id': '10000032-217', 'poe_seq': 217, 's...</td>\n      <td>[{'subject_id': 10000032, 'hadm_id': 25742920,...</td>\n      <td>[{'subject_id': 10000032, 'hadm_id': 25742920,...</td>\n      <td>[{'subject_id': 10000032, 'hadm_id': 25742920,...</td>\n      <td>[{'subject_id': 10000032, 'hadm_id': 25742920....</td>\n      <td>[]</td>\n    </tr>\n    <tr>\n      <th>3</th>\n      <td>10000032</td>\n      <td>29079034</td>\n      <td>2180-07-23 12:35:00</td>\n      <td>2180-07-25 17:55:00</td>\n      <td>NaN</td>\n      <td>EW EMER.</td>\n      <td>P30KEH</td>\n      <td>EMERGENCY ROOM</td>\n      <td>HOME</td>\n      <td>Medicaid</td>\n      <td>...</td>\n      <td>[]</td>\n      <td>[{'labevent_id': 407, 'subject_id': 10000032, ...</td>\n      <td>[{'microevent_id': 32, 'subject_id': 10000032,...</td>\n      <td>[{'subject_id': 10000032, 'hadm_id': 29079034,...</td>\n      <td>[{'poe_id': '10000032-125', 'poe_seq': 125, 's...</td>\n      <td>[{'subject_id': 10000032, 'hadm_id': 29079034,...</td>\n      <td>[]</td>\n      <td>[{'subject_id': 10000032, 'hadm_id': 29079034,...</td>\n      <td>[{'subject_id': 10000032, 'hadm_id': 29079034....</td>\n      <td>[{'subject_id': 10000032, 'hadm_id': 29079034,...</td>\n    </tr>\n    <tr>\n      <th>4</th>\n      <td>10001217</td>\n      <td>24597018</td>\n      <td>2157-11-18 22:56:00</td>\n      <td>2157-11-25 18:00:00</td>\n      <td>NaN</td>\n      <td>EW EMER.</td>\n      <td>P4645A</td>\n      <td>EMERGENCY ROOM</td>\n      <td>HOME HEALTH CARE</td>\n      <td>Other</td>\n      <td>...</td>\n      <td>[]</td>\n      <td>[{'labevent_id': 9011, 'subject_id': 10001217,...</td>\n      <td>[{'microevent_id': 402, 'subject_id': 10001217...</td>\n      <td>[{'subject_id': 10001217, 'hadm_id': 24597018,...</td>\n      <td>[{'poe_id': '10001217-110', 'poe_seq': 110, 's...</td>\n      <td>[{'subject_id': 10001217, 'hadm_id': 24597018,...</td>\n      <td>[{'subject_id': 10001217, 'hadm_id': 24597018,...</td>\n      <td>[{'subject_id': 10001217, 'hadm_id': 24597018,...</td>\n      <td>[{'subject_id': 10001217, 'hadm_id': 24597018....</td>\n      <td>[{'subject_id': 10001217, 'hadm_id': 24597018,...</td>\n    </tr>\n    <tr>\n      <th>...</th>\n      <td>...</td>\n      <td>...</td>\n      <td>...</td>\n      <td>...</td>\n      <td>...</td>\n      <td>...</td>\n      <td>...</td>\n      <td>...</td>\n      <td>...</td>\n      <td>...</td>\n      <td>...</td>\n      <td>...</td>\n      <td>...</td>\n      <td>...</td>\n      <td>...</td>\n      <td>...</td>\n      <td>...</td>\n      <td>...</td>\n      <td>...</td>\n      <td>...</td>\n      <td>...</td>\n    </tr>\n    <tr>\n      <th>270</th>\n      <td>10040025</td>\n      <td>21791856</td>\n      <td>2147-06-16 22:00:00</td>\n      <td>2147-06-22 16:15:00</td>\n      <td>NaN</td>\n      <td>OBSERVATION ADMIT</td>\n      <td>P7634X</td>\n      <td>EMERGENCY ROOM</td>\n      <td>HOME HEALTH CARE</td>\n      <td>Other</td>\n      <td>...</td>\n      <td>[]</td>\n      <td>[{'labevent_id': 472612, 'subject_id': 1004002...</td>\n      <td>[{'microevent_id': 14525, 'subject_id': 100400...</td>\n      <td>[{'subject_id': 10040025, 'hadm_id': 21791856,...</td>\n      <td>[{'poe_id': '10040025-451', 'poe_seq': 451, 's...</td>\n      <td>[{'subject_id': 10040025, 'hadm_id': 21791856,...</td>\n      <td>[]</td>\n      <td>[{'subject_id': 10040025, 'hadm_id': 21791856,...</td>\n      <td>[{'subject_id': 10040025, 'hadm_id': 21791856....</td>\n      <td>[]</td>\n    </tr>\n    <tr>\n      <th>271</th>\n      <td>10040025</td>\n      <td>22251969</td>\n      <td>2147-08-03 02:58:00</td>\n      <td>2147-08-06 16:50:00</td>\n      <td>NaN</td>\n      <td>OBSERVATION ADMIT</td>\n      <td>P85BWS</td>\n      <td>EMERGENCY ROOM</td>\n      <td>HOME</td>\n      <td>Other</td>\n      <td>...</td>\n      <td>[]</td>\n      <td>[{'labevent_id': 472861, 'subject_id': 1004002...</td>\n      <td>[]</td>\n      <td>[{'subject_id': 10040025, 'hadm_id': 22251969,...</td>\n      <td>[{'poe_id': '10040025-594', 'poe_seq': 594, 's...</td>\n      <td>[{'subject_id': 10040025, 'hadm_id': 22251969,...</td>\n      <td>[]</td>\n      <td>[{'subject_id': 10040025, 'hadm_id': 22251969,...</td>\n      <td>[{'subject_id': 10040025, 'hadm_id': 22251969....</td>\n      <td>[]</td>\n    </tr>\n    <tr>\n      <th>272</th>\n      <td>10040025</td>\n      <td>27259207</td>\n      <td>2147-12-04 20:48:00</td>\n      <td>2147-12-18 16:43:00</td>\n      <td>NaN</td>\n      <td>OBSERVATION ADMIT</td>\n      <td>P43BTJ</td>\n      <td>EMERGENCY ROOM</td>\n      <td>SKILLED NURSING FACILITY</td>\n      <td>Other</td>\n      <td>...</td>\n      <td>[]</td>\n      <td>[{'labevent_id': 473416, 'subject_id': 1004002...</td>\n      <td>[]</td>\n      <td>[{'subject_id': 10040025, 'hadm_id': 27259207,...</td>\n      <td>[{'poe_id': '10040025-844', 'poe_seq': 844, 's...</td>\n      <td>[{'subject_id': 10040025, 'hadm_id': 27259207,...</td>\n      <td>[{'subject_id': 10040025, 'hadm_id': 27259207,...</td>\n      <td>[{'subject_id': 10040025, 'hadm_id': 27259207,...</td>\n      <td>[{'subject_id': 10040025, 'hadm_id': 27259207....</td>\n      <td>[]</td>\n    </tr>\n    <tr>\n      <th>273</th>\n      <td>10040025</td>\n      <td>27996267</td>\n      <td>2148-01-23 12:18:00</td>\n      <td>2148-02-04 20:51:00</td>\n      <td>NaN</td>\n      <td>OBSERVATION ADMIT</td>\n      <td>P10WWR</td>\n      <td>TRANSFER FROM SKILLED NURSING FACILITY</td>\n      <td>HOSPICE</td>\n      <td>Other</td>\n      <td>...</td>\n      <td>[]</td>\n      <td>[{'labevent_id': 474364, 'subject_id': 1004002...</td>\n      <td>[{'microevent_id': 14586, 'subject_id': 100400...</td>\n      <td>[{'subject_id': 10040025, 'hadm_id': 27996267,...</td>\n      <td>[{'poe_id': '10040025-1693', 'poe_seq': 1693, ...</td>\n      <td>[{'subject_id': 10040025, 'hadm_id': 27996267,...</td>\n      <td>[{'subject_id': 10040025, 'hadm_id': 27996267,...</td>\n      <td>[{'subject_id': 10040025, 'hadm_id': 27996267,...</td>\n      <td>[{'subject_id': 10040025, 'hadm_id': 27996267....</td>\n      <td>[{'subject_id': 10040025, 'hadm_id': 27996267,...</td>\n    </tr>\n    <tr>\n      <th>274</th>\n      <td>10040025</td>\n      <td>27125816</td>\n      <td>2143-03-18 12:34:00</td>\n      <td>2143-03-19 12:00:00</td>\n      <td>NaN</td>\n      <td>AMBULATORY OBSERVATION</td>\n      <td>P623U2</td>\n      <td>PROCEDURE SITE</td>\n      <td>None</td>\n      <td>Other</td>\n      <td>...</td>\n      <td>[{'subject_id': 10040025, 'hadm_id': 27125816,...</td>\n      <td>[{'labevent_id': 471955, 'subject_id': 1004002...</td>\n      <td>[]</td>\n      <td>[{'subject_id': 10040025, 'hadm_id': 27125816,...</td>\n      <td>[{'poe_id': '10040025-71', 'poe_seq': 71, 'sub...</td>\n      <td>[{'subject_id': 10040025, 'hadm_id': 27125816,...</td>\n      <td>[{'subject_id': 10040025, 'hadm_id': 27125816,...</td>\n      <td>[{'subject_id': 10040025, 'hadm_id': 27125816,...</td>\n      <td>[{'subject_id': 10040025, 'hadm_id': 27125816....</td>\n      <td>[]</td>\n    </tr>\n  </tbody>\n</table>\n<p>275 rows × 31 columns</p>\n</div>"
     },
     "execution_count": 42,
     "metadata": {},
     "output_type": "execute_result"
    }
   ],
   "source": [
    "df"
   ],
   "metadata": {
    "collapsed": false,
    "pycharm": {
     "name": "#%%\n"
    }
   }
  },
  {
   "cell_type": "code",
   "execution_count": null,
   "outputs": [],
   "source": [
    "omr = pd.DataFrame(df.loc[1, \"omr\"]).sort_values(by=[\"result_name\", \"chartdate\"]).drop_duplicates(subset=['subject_id', 'chartdate', 'result_name', 'result_value'])\n",
    "omr"
   ],
   "metadata": {
    "collapsed": false,
    "pycharm": {
     "name": "#%%\n"
    }
   }
  },
  {
   "cell_type": "code",
   "execution_count": null,
   "outputs": [],
   "source": [
    "emar = pd.DataFrame(df.loc[1, \"emar\"]).sort_values(by=[\"charttime\"])\n",
    "emar"
   ],
   "metadata": {
    "collapsed": false,
    "pycharm": {
     "name": "#%%\n"
    }
   }
  },
  {
   "cell_type": "code",
   "execution_count": null,
   "outputs": [],
   "source": [
    "patients = pd.DataFrame(df.loc[1, \"patients\"])\n",
    "patients"
   ],
   "metadata": {
    "collapsed": false,
    "pycharm": {
     "name": "#%%\n"
    }
   }
  },
  {
   "cell_type": "code",
   "execution_count": null,
   "outputs": [],
   "source": [],
   "metadata": {
    "collapsed": false,
    "pycharm": {
     "name": "#%%\n"
    }
   }
  }
 ],
 "metadata": {
  "kernelspec": {
   "display_name": "Python 3",
   "language": "python",
   "name": "python3"
  },
  "language_info": {
   "codemirror_mode": {
    "name": "ipython",
    "version": 2
   },
   "file_extension": ".py",
   "mimetype": "text/x-python",
   "name": "python",
   "nbconvert_exporter": "python",
   "pygments_lexer": "ipython2",
   "version": "2.7.6"
  }
 },
 "nbformat": 4,
 "nbformat_minor": 0
}