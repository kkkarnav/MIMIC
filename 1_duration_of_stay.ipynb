{
 "cells": [
  {
   "cell_type": "code",
   "execution_count": 27,
   "outputs": [],
   "source": [
    "import pandas as pd\n",
    "import os\n",
    "import warnings\n",
    "import numpy as np\n",
    "import matplotlib.pyplot as plt\n",
    "from matplotlib.ticker import MaxNLocator\n",
    "import ast\n",
    "\n",
    "warnings.filterwarnings(\"ignore\")"
   ],
   "metadata": {
    "collapsed": false,
    "pycharm": {
     "name": "#%%\n"
    }
   }
  },
  {
   "cell_type": "code",
   "execution_count": null,
   "outputs": [],
   "source": [
    "# Use this chunk to generate the dataset if not already created\n",
    "# df = pd.DataFrame()\n",
    "# files = os.listdir(\"./data/patients_new\")\n",
    "# for file in files:\n",
    "    # patient = pd.read_json(os.path.join(\"./data/patients_new/\", file))\n",
    "    # df = pd.concat([df, patient], ignore_index=True)\n",
    "# df.reset_index(drop=True)\n",
    "# df.to_csv(\"./collated_dataset.csv\", index=False)\n",
    "\n",
    "df = pd.read_csv(\"./collated_dataset.csv\")"
   ],
   "metadata": {
    "collapsed": false,
    "pycharm": {
     "name": "#%%\n",
     "is_executing": true
    }
   }
  },
  {
   "cell_type": "code",
   "execution_count": null,
   "outputs": [],
   "source": [
    "# Normalize admit and discharge times, and calculate duration of stay\n",
    "df = df.sort_values(by=[\"admittime\"]).reset_index(drop=True)\n",
    "df['admittime_wy'] = df['admittime'].apply(lambda x: pd.to_datetime(x).replace(year=2024))\n",
    "df['dischtime_wy'] = df['dischtime'].apply(lambda x: pd.to_datetime(x).replace(year=2024))\n",
    "df['dischtime_wy'] = df.apply(lambda row: pd.to_datetime(row['dischtime_wy']).replace(year=2025) if row['dischtime_wy'].month < row['admittime_wy'].month else row['dischtime_wy'], axis=1)\n",
    "df[\"duration_of_stay\"] = pd.to_datetime(df[\"dischtime_wy\"]) - pd.to_datetime(df[\"admittime_wy\"])\n",
    "df.head()"
   ],
   "metadata": {
    "collapsed": false,
    "pycharm": {
     "name": "#%%\n",
     "is_executing": true
    }
   }
  },
  {
   "cell_type": "code",
   "execution_count": null,
   "outputs": [],
   "source": [
    "# Take the sub-datasets (patients, hosp, poe, etc.), flatten them and append them to the main dataframe\n",
    "def normalize_jsons(column, dropper, sorter):\n",
    "    data = []\n",
    "    for datum in column:\n",
    "        json_df = pd.json_normalize(ast.literal_eval(datum)[0])\n",
    "        data.append(json_df)\n",
    "    column_df = pd.concat(data, ignore_index=True).drop_duplicates(subset=dropper).sort_values(by=sorter).reset_index(drop=True)\n",
    "    return column_df"
   ],
   "metadata": {
    "collapsed": false,
    "pycharm": {
     "name": "#%%\n",
     "is_executing": true
    }
   }
  },
  {
   "cell_type": "code",
   "execution_count": null,
   "outputs": [],
   "source": [
    "df = pd.merge(df, normalize_jsons(df[\"patients\"], [\"subject_id\"], [\"anchor_year\", \"subject_id\"]), how='left', on=\"subject_id\", suffixes=(\"\", \"\"))\n",
    "df.head()"
   ],
   "metadata": {
    "collapsed": false,
    "pycharm": {
     "name": "#%%\n",
     "is_executing": true
    }
   }
  },
  {
   "cell_type": "code",
   "execution_count": null,
   "outputs": [],
   "source": [
    "# Visualize admit and discharge time deltas (duration of stay) for all patients. Duration of stay is a good indicator of the value of care derived by class of patient.\n",
    "plt.figure(figsize=(10, 6))\n",
    "plt.scatter(pd.to_datetime(df['admittime_wy']), df['admittime_wy'], color=\"steelblue\")\n",
    "plt.scatter(pd.to_datetime(df['dischtime_wy']), df['admittime_wy'], color=\"firebrick\")\n",
    "\n",
    "plt.xlabel('Admit & Discharge Time')\n",
    "plt.ylabel('Admit Time')\n",
    "plt.title('Admission and Discharge Times')\n",
    "plt.xticks(rotation=45)\n",
    "plt.grid(True)\n",
    "plt.show()"
   ],
   "metadata": {
    "collapsed": false,
    "pycharm": {
     "name": "#%%\n",
     "is_executing": true
    }
   }
  },
  {
   "cell_type": "code",
   "execution_count": null,
   "outputs": [],
   "source": [
    "# We'll explore duration of stay based on four demographic indicators: class, race, gender and age.\n",
    "# Race and gender are provided in the data. We'll use insurance (Medicaid or not) as a proxy for class. Age has been obfuscated in the dataset to \"anchor age\", which is approximately accurate."
   ],
   "metadata": {
    "collapsed": false,
    "pycharm": {
     "name": "#%%\n",
     "is_executing": true
    }
   }
  },
  {
   "cell_type": "code",
   "execution_count": null,
   "outputs": [],
   "source": [
    "# We'll look at the distribution of ages to make sure it's about correct.\n",
    "# Note that the spike at age 91 is because everyone above 89 is assigned 91 for privacy.\n",
    "bins = len(df[\"anchor_age\"].value_counts())\n",
    "ax = df[\"anchor_age\"].hist(bins=bins, xlabelsize=10, ylabelsize=6, color=\"steelblue\")\n",
    "ax2 = df.drop_duplicates(subset=\"subject_id\")[\"anchor_age\"].hist(bins=bins, xlabelsize=10, ylabelsize=6, color=\"firebrick\")\n",
    "\n",
    "ax.set_title('Distribution of ages across stays and patients', weight='bold')\n",
    "ax.set_xlabel('Anchor age')\n",
    "ax.set_ylabel('Frequency')\n",
    "plt.show()"
   ],
   "metadata": {
    "collapsed": false,
    "pycharm": {
     "name": "#%%\n",
     "is_executing": true
    }
   }
  },
  {
   "cell_type": "code",
   "execution_count": null,
   "outputs": [],
   "source": [
    "# Medicaid patients are discharged, on average, slightly quicker than other patients\n",
    "medicaid_df = df[df[\"insurance\"] == \"Medicaid\"]\n",
    "main_df = df[~df.index.isin(medicaid_df.index)]\n",
    "\n",
    "ax = (df[\"duration_of_stay\"].dt.total_seconds() / 86400).hist(bins=12, xlabelsize=10, ylabelsize=6, color=\"steelblue\")\n",
    "ax2 = (medicaid_df[\"duration_of_stay\"].dt.total_seconds() / 86400).hist(bins=12, xlabelsize=10, ylabelsize=6, color=\"firebrick\")\n",
    "ax.set_title('Duration of stay of all patients vs Medicaid insured patients', weight='bold')\n",
    "ax.set_xlabel('Duration (days)')\n",
    "ax.set_ylabel('Frequency')\n",
    "plt.show()\n",
    "\n",
    "print(f\"Non-Medicaid-insured patients: {main_df['duration_of_stay'].mean()}\")\n",
    "print(f\"Medicaid-insured patients: {medicaid_df['duration_of_stay'].mean()}\")"
   ],
   "metadata": {
    "collapsed": false,
    "pycharm": {
     "name": "#%%\n",
     "is_executing": true
    }
   }
  },
  {
   "cell_type": "code",
   "execution_count": null,
   "outputs": [],
   "source": [
    "# Non-white patients are discharged, on average, significantly quicker than white patients\n",
    "non_white_df = df[~df[\"race\"].str.contains(\"WHITE\")]\n",
    "main_df = df[~df.index.isin(non_white_df.index)]\n",
    "\n",
    "ax = (df[\"duration_of_stay\"].dt.total_seconds() / 86400).hist(bins=12, xlabelsize=10, ylabelsize=6, color=\"steelblue\")\n",
    "ax2 = (non_white_df[\"duration_of_stay\"].dt.total_seconds() / 86400).hist(bins=12, xlabelsize=10, ylabelsize=6, color=\"firebrick\")\n",
    "ax.set_title('Duration of stay of all patients vs non-white patients', weight='bold')\n",
    "ax.set_xlabel('Duration (days)')\n",
    "ax.set_ylabel('Frequency')\n",
    "plt.show()\n",
    "\n",
    "print(f\"White patients: {main_df['duration_of_stay'].mean()}\")\n",
    "print(f\"Non-white patients: {non_white_df['duration_of_stay'].mean()}\")"
   ],
   "metadata": {
    "collapsed": false,
    "pycharm": {
     "name": "#%%\n",
     "is_executing": true
    }
   }
  },
  {
   "cell_type": "code",
   "execution_count": null,
   "outputs": [],
   "source": [
    "# Female patients are discharged much quicker than male patients\n",
    "female_df = df[df[\"gender\"] == \"F\"]\n",
    "main_df = df[~df.index.isin(female_df.index)]\n",
    "\n",
    "ax = (df[\"duration_of_stay\"].dt.total_seconds() / 86400).hist(bins=12, xlabelsize=10, ylabelsize=6, color=\"steelblue\")\n",
    "ax2 = (female_df[\"duration_of_stay\"].dt.total_seconds() / 86400).hist(bins=12, xlabelsize=10, ylabelsize=6, color=\"firebrick\")\n",
    "ax.set_title('Duration of stay of female patients vs male', weight='bold')\n",
    "ax.set_xlabel('Duration (days)')\n",
    "ax.set_ylabel('Frequency')\n",
    "plt.show()\n",
    "\n",
    "print(f\"Male patients: {main_df['duration_of_stay'].mean()}\")\n",
    "print(f\"Female patients: {female_df['duration_of_stay'].mean()}\")"
   ],
   "metadata": {
    "collapsed": false,
    "pycharm": {
     "name": "#%%\n",
     "is_executing": true
    }
   }
  },
  {
   "cell_type": "code",
   "execution_count": null,
   "outputs": [],
   "source": [
    "# There doesn't appear to be a significant trend of duration with age past 45 or so\n",
    "old_df = df[df[\"anchor_age\"] >= 65]\n",
    "main_df = df[~df.index.isin(old_df.index)]\n",
    "\n",
    "plt.scatter(df[\"anchor_age\"], (df[\"duration_of_stay\"].dt.total_seconds() / 86400), c=df[\"anchor_age\"].apply(lambda x: \"firebrick\" if x >= 65 else \"steelblue\"))\n",
    "plt.xlabel('Anchor Age')\n",
    "plt.ylabel('Duration of Stay (days)')\n",
    "plt.title('Duration of Stay vs Anchor Age', weight='bold')\n",
    "plt.show()\n",
    "\n",
    "print(f\"Young patients: {main_df['duration_of_stay'].mean()}\")\n",
    "print(f\"Old patients: {old_df['duration_of_stay'].mean()}\")"
   ],
   "metadata": {
    "collapsed": false,
    "pycharm": {
     "name": "#%%\n",
     "is_executing": true
    }
   }
  },
  {
   "cell_type": "code",
   "execution_count": null,
   "outputs": [],
   "source": [
    "# We can also look at the interactions of protected attributes to see if a trend emerges. For example, are black women treated worse than other patients?"
   ],
   "metadata": {
    "collapsed": false,
    "pycharm": {
     "name": "#%%\n",
     "is_executing": true
    }
   }
  },
  {
   "cell_type": "code",
   "execution_count": null,
   "outputs": [],
   "source": [
    "# Age and race don't reveal a meaningful pattern\n",
    "plt.scatter(df[\"anchor_age\"], (df[\"duration_of_stay\"].dt.total_seconds() / 86400), c=df[\"race\"].apply(lambda x: \"firebrick\" if x != \"WHITE\" else \"steelblue\"))\n",
    "plt.xlabel('Anchor Age')\n",
    "plt.ylabel('Duration of Stay (days)')\n",
    "plt.title('Duration of Stay against Anchor Age and Race', weight='bold')\n",
    "plt.show()"
   ],
   "metadata": {
    "collapsed": false,
    "pycharm": {
     "name": "#%%\n",
     "is_executing": true
    }
   }
  },
  {
   "cell_type": "code",
   "execution_count": null,
   "outputs": [],
   "source": [
    "# Age and gender reveal that\n",
    "plt.scatter(df[\"anchor_age\"], (df[\"duration_of_stay\"].dt.total_seconds() / 86400), c=df[\"gender\"].apply(lambda x: \"firebrick\" if x == \"F\" else \"steelblue\"))\n",
    "plt.xlabel('Anchor Age')\n",
    "plt.ylabel('Duration of Stay (days)')\n",
    "plt.title('Duration of Stay against Anchor Age and Gender', weight='bold')\n",
    "plt.show()"
   ],
   "metadata": {
    "collapsed": false,
    "pycharm": {
     "name": "#%%\n",
     "is_executing": true
    }
   }
  },
  {
   "cell_type": "code",
   "execution_count": null,
   "outputs": [],
   "source": [
    "# We can now look at variation in stay duration based on other information, such as admission circumstances."
   ],
   "metadata": {
    "collapsed": false,
    "pycharm": {
     "name": "#%%\n",
     "is_executing": true
    }
   }
  },
  {
   "cell_type": "code",
   "execution_count": null,
   "outputs": [],
   "source": [
    "# Patients admitted under emergency conditions are in hospital for significantly longer than other patients\n",
    "emergency_df = df[(df[\"admission_type\"].str.contains(\"EMER\")) | (df[\"admission_type\"].str.contains(\"URGENT\"))]\n",
    "main_df = df[~df.index.isin(emergency_df.index)]\n",
    "\n",
    "ax = (df[\"duration_of_stay\"].dt.total_seconds() / 86400).hist(bins=12, xlabelsize=10, ylabelsize=6, color=\"steelblue\")\n",
    "ax2 = (emergency_df[\"duration_of_stay\"].dt.total_seconds() / 86400).hist(bins=12, xlabelsize=10, ylabelsize=6, color=\"firebrick\")\n",
    "ax.set_title('Duration of stay of all patients vs emergency-admitted patients', weight='bold')\n",
    "ax.set_xlabel('Duration (days)')\n",
    "ax.set_ylabel('Frequency')\n",
    "plt.show()\n",
    "\n",
    "print(f\"Otherwise-admitted patients: {main_df['duration_of_stay'].mean()}\")\n",
    "print(f\"Emergency-admitted patients: {emergency_df['duration_of_stay'].mean()}\")"
   ],
   "metadata": {
    "collapsed": false,
    "pycharm": {
     "name": "#%%\n",
     "is_executing": true
    }
   }
  },
  {
   "cell_type": "code",
   "execution_count": null,
   "outputs": [],
   "source": [
    "# There is seasonality to stay duration: patients admitted in the summer months are discharged much quicker\n",
    "summer_df = df[(df[\"admittime_wy\"].dt.month >= 5) & (df['admittime_wy'].dt.month <= 9)]\n",
    "main_df = df[~df.index.isin(summer_df.index)]\n",
    "\n",
    "ax = (df[\"duration_of_stay\"].dt.total_seconds() / 86400).hist(bins=12, xlabelsize=10, ylabelsize=6, color=\"steelblue\")\n",
    "ax2 = (summer_df[\"duration_of_stay\"].dt.total_seconds() / 86400).hist(bins=12, xlabelsize=10, ylabelsize=6, color=\"firebrick\")\n",
    "ax.set_title('Duration of stay of summer admits vs other patients', weight='bold')\n",
    "ax.set_xlabel('Duration (days)')\n",
    "ax.set_ylabel('Frequency')\n",
    "plt.show()\n",
    "\n",
    "print(f\"Patients admitted outside summer: {main_df['duration_of_stay'].mean()}\")\n",
    "print(f\"Patients admitted during summer: {summer_df['duration_of_stay'].mean()}\")"
   ],
   "metadata": {
    "collapsed": false,
    "pycharm": {
     "name": "#%%\n",
     "is_executing": true
    }
   }
  },
  {
   "cell_type": "code",
   "execution_count": null,
   "outputs": [],
   "source": [
    "# Could age be the reason? While age does account for some of the difference, it doesn't really seem to capture the effect\n",
    "old_df = df[df[\"anchor_age\"] >= 65]\n",
    "main_df = df[~df.index.isin(old_df.index)]\n",
    "\n",
    "plt.scatter(pd.to_datetime(df[\"admittime_wy\"]), (df[\"duration_of_stay\"].dt.total_seconds() / 86400), c=df[\"anchor_age\"].apply(lambda x: \"firebrick\" if x >= 65 else \"steelblue\"))\n",
    "plt.xlabel('Admit Time')\n",
    "plt.ylabel('Duration of Stay (days)')\n",
    "plt.title('Duration of Stay against Admit Time & Age', weight='bold')\n",
    "plt.xticks(rotation=45)\n",
    "plt.show()\n",
    "\n",
    "print(f\"Young winter patients: {old_df[(old_df['admittime_wy'].dt.month < 5) | (df['admittime_wy'].dt.month > 9)]['duration_of_stay'].mean()}\")\n",
    "print(f\"Old winter patients: {main_df[(df['admittime_wy'].dt.month < 5) | (df['admittime_wy'].dt.month > 9)]['duration_of_stay'].mean()}\")"
   ],
   "metadata": {
    "collapsed": false,
    "pycharm": {
     "name": "#%%\n",
     "is_executing": true
    }
   }
  },
  {
   "cell_type": "code",
   "execution_count": null,
   "outputs": [],
   "source": [],
   "metadata": {
    "collapsed": false,
    "pycharm": {
     "name": "#%%\n",
     "is_executing": true
    }
   }
  }
 ],
 "metadata": {
  "kernelspec": {
   "display_name": "Python 3",
   "language": "python",
   "name": "python3"
  },
  "language_info": {
   "codemirror_mode": {
    "name": "ipython",
    "version": 2
   },
   "file_extension": ".py",
   "mimetype": "text/x-python",
   "name": "python",
   "nbconvert_exporter": "python",
   "pygments_lexer": "ipython2",
   "version": "2.7.6"
  }
 },
 "nbformat": 4,
 "nbformat_minor": 0
}