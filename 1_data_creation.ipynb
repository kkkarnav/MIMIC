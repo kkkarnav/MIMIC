{
 "cells": [
  {
   "cell_type": "code",
   "execution_count": 5,
   "metadata": {
    "collapsed": true
   },
   "outputs": [
    {
     "name": "stdout",
     "output_type": "stream",
     "text": [
      "hello world\n"
     ]
    }
   ],
   "source": [
    "print(\"hello world\")"
   ]
  },
  {
   "cell_type": "code",
   "execution_count": 6,
   "outputs": [],
   "source": [
    "import pandas as pd"
   ],
   "metadata": {
    "collapsed": false,
    "pycharm": {
     "name": "#%%\n"
    }
   }
  },
  {
   "cell_type": "code",
   "execution_count": 7,
   "outputs": [],
   "source": [
    "df = pd.read_json('./patients_new/10000032.json')"
   ],
   "metadata": {
    "collapsed": false,
    "pycharm": {
     "name": "#%%\n"
    }
   }
  },
  {
   "cell_type": "code",
   "execution_count": 8,
   "outputs": [
    {
     "data": {
      "text/plain": "   subject_id   hadm_id            admittime            dischtime  deathtime  \\\n0    10000032  22595853  2180-05-06 22:23:00  2180-05-07 17:15:00        NaN   \n1    10000032  22841357  2180-06-26 18:27:00  2180-06-27 18:49:00        NaN   \n2    10000032  25742920  2180-08-05 23:44:00  2180-08-07 17:50:00        NaN   \n3    10000032  29079034  2180-07-23 12:35:00  2180-07-25 17:55:00        NaN   \n\n  admission_type admit_provider_id      admission_location discharge_location  \\\n0         URGENT            P874LG  TRANSFER FROM HOSPITAL               HOME   \n1       EW EMER.            P09Q6Y          EMERGENCY ROOM               HOME   \n2       EW EMER.            P60CC5          EMERGENCY ROOM            HOSPICE   \n3       EW EMER.            P30KEH          EMERGENCY ROOM               HOME   \n\n  insurance  ... hcpcsevents  \\\n0     Other  ...          []   \n1  Medicaid  ...          []   \n2  Medicaid  ...          []   \n3  Medicaid  ...          []   \n\n                                           labevents  \\\n0  [{'labevent_id': 151, 'subject_id': 10000032, ...   \n1  [{'labevent_id': 332, 'subject_id': 10000032, ...   \n2  [{'labevent_id': 584, 'subject_id': 10000032, ...   \n3  [{'labevent_id': 407, 'subject_id': 10000032, ...   \n\n                                  microbiologyevents  \\\n0  [{'microevent_id': 15, 'subject_id': 10000032,...   \n1  [{'microevent_id': 28, 'subject_id': 10000032,...   \n2  [{'microevent_id': 36, 'subject_id': 10000032,...   \n3  [{'microevent_id': 32, 'subject_id': 10000032,...   \n\n                                            pharmacy  \\\n0  [{'subject_id': 10000032, 'hadm_id': 22595853,...   \n1  [{'subject_id': 10000032, 'hadm_id': 22841357,...   \n2  [{'subject_id': 10000032, 'hadm_id': 25742920,...   \n3  [{'subject_id': 10000032, 'hadm_id': 29079034,...   \n\n                                                 poe  \\\n0  [{'poe_id': '10000032-52', 'poe_seq': 52, 'sub...   \n1  [{'poe_id': '10000032-69', 'poe_seq': 69, 'sub...   \n2  [{'poe_id': '10000032-217', 'poe_seq': 217, 's...   \n3  [{'poe_id': '10000032-125', 'poe_seq': 125, 's...   \n\n                                       prescriptions  \\\n0  [{'subject_id': 10000032, 'hadm_id': 22595853,...   \n1  [{'subject_id': 10000032, 'hadm_id': 22841357,...   \n2  [{'subject_id': 10000032, 'hadm_id': 25742920,...   \n3  [{'subject_id': 10000032, 'hadm_id': 29079034,...   \n\n                                      procedures_icd  \\\n0  [{'subject_id': 10000032, 'hadm_id': 22595853,...   \n1  [{'subject_id': 10000032, 'hadm_id': 22841357,...   \n2  [{'subject_id': 10000032, 'hadm_id': 25742920,...   \n3                                                 []   \n\n                                            services  \\\n0  [{'subject_id': 10000032, 'hadm_id': 22595853,...   \n1  [{'subject_id': 10000032, 'hadm_id': 22841357,...   \n2  [{'subject_id': 10000032, 'hadm_id': 25742920,...   \n3  [{'subject_id': 10000032, 'hadm_id': 29079034,...   \n\n                                           transfers  \\\n0  [{'subject_id': 10000032, 'hadm_id': 22595853....   \n1  [{'subject_id': 10000032, 'hadm_id': 22841357....   \n2  [{'subject_id': 10000032, 'hadm_id': 25742920....   \n3  [{'subject_id': 10000032, 'hadm_id': 29079034....   \n\n                                            icustays  \n0                                                 []  \n1                                                 []  \n2                                                 []  \n3  [{'subject_id': 10000032, 'hadm_id': 29079034,...  \n\n[4 rows x 31 columns]",
      "text/html": "<div>\n<style scoped>\n    .dataframe tbody tr th:only-of-type {\n        vertical-align: middle;\n    }\n\n    .dataframe tbody tr th {\n        vertical-align: top;\n    }\n\n    .dataframe thead th {\n        text-align: right;\n    }\n</style>\n<table border=\"1\" class=\"dataframe\">\n  <thead>\n    <tr style=\"text-align: right;\">\n      <th></th>\n      <th>subject_id</th>\n      <th>hadm_id</th>\n      <th>admittime</th>\n      <th>dischtime</th>\n      <th>deathtime</th>\n      <th>admission_type</th>\n      <th>admit_provider_id</th>\n      <th>admission_location</th>\n      <th>discharge_location</th>\n      <th>insurance</th>\n      <th>...</th>\n      <th>hcpcsevents</th>\n      <th>labevents</th>\n      <th>microbiologyevents</th>\n      <th>pharmacy</th>\n      <th>poe</th>\n      <th>prescriptions</th>\n      <th>procedures_icd</th>\n      <th>services</th>\n      <th>transfers</th>\n      <th>icustays</th>\n    </tr>\n  </thead>\n  <tbody>\n    <tr>\n      <th>0</th>\n      <td>10000032</td>\n      <td>22595853</td>\n      <td>2180-05-06 22:23:00</td>\n      <td>2180-05-07 17:15:00</td>\n      <td>NaN</td>\n      <td>URGENT</td>\n      <td>P874LG</td>\n      <td>TRANSFER FROM HOSPITAL</td>\n      <td>HOME</td>\n      <td>Other</td>\n      <td>...</td>\n      <td>[]</td>\n      <td>[{'labevent_id': 151, 'subject_id': 10000032, ...</td>\n      <td>[{'microevent_id': 15, 'subject_id': 10000032,...</td>\n      <td>[{'subject_id': 10000032, 'hadm_id': 22595853,...</td>\n      <td>[{'poe_id': '10000032-52', 'poe_seq': 52, 'sub...</td>\n      <td>[{'subject_id': 10000032, 'hadm_id': 22595853,...</td>\n      <td>[{'subject_id': 10000032, 'hadm_id': 22595853,...</td>\n      <td>[{'subject_id': 10000032, 'hadm_id': 22595853,...</td>\n      <td>[{'subject_id': 10000032, 'hadm_id': 22595853....</td>\n      <td>[]</td>\n    </tr>\n    <tr>\n      <th>1</th>\n      <td>10000032</td>\n      <td>22841357</td>\n      <td>2180-06-26 18:27:00</td>\n      <td>2180-06-27 18:49:00</td>\n      <td>NaN</td>\n      <td>EW EMER.</td>\n      <td>P09Q6Y</td>\n      <td>EMERGENCY ROOM</td>\n      <td>HOME</td>\n      <td>Medicaid</td>\n      <td>...</td>\n      <td>[]</td>\n      <td>[{'labevent_id': 332, 'subject_id': 10000032, ...</td>\n      <td>[{'microevent_id': 28, 'subject_id': 10000032,...</td>\n      <td>[{'subject_id': 10000032, 'hadm_id': 22841357,...</td>\n      <td>[{'poe_id': '10000032-69', 'poe_seq': 69, 'sub...</td>\n      <td>[{'subject_id': 10000032, 'hadm_id': 22841357,...</td>\n      <td>[{'subject_id': 10000032, 'hadm_id': 22841357,...</td>\n      <td>[{'subject_id': 10000032, 'hadm_id': 22841357,...</td>\n      <td>[{'subject_id': 10000032, 'hadm_id': 22841357....</td>\n      <td>[]</td>\n    </tr>\n    <tr>\n      <th>2</th>\n      <td>10000032</td>\n      <td>25742920</td>\n      <td>2180-08-05 23:44:00</td>\n      <td>2180-08-07 17:50:00</td>\n      <td>NaN</td>\n      <td>EW EMER.</td>\n      <td>P60CC5</td>\n      <td>EMERGENCY ROOM</td>\n      <td>HOSPICE</td>\n      <td>Medicaid</td>\n      <td>...</td>\n      <td>[]</td>\n      <td>[{'labevent_id': 584, 'subject_id': 10000032, ...</td>\n      <td>[{'microevent_id': 36, 'subject_id': 10000032,...</td>\n      <td>[{'subject_id': 10000032, 'hadm_id': 25742920,...</td>\n      <td>[{'poe_id': '10000032-217', 'poe_seq': 217, 's...</td>\n      <td>[{'subject_id': 10000032, 'hadm_id': 25742920,...</td>\n      <td>[{'subject_id': 10000032, 'hadm_id': 25742920,...</td>\n      <td>[{'subject_id': 10000032, 'hadm_id': 25742920,...</td>\n      <td>[{'subject_id': 10000032, 'hadm_id': 25742920....</td>\n      <td>[]</td>\n    </tr>\n    <tr>\n      <th>3</th>\n      <td>10000032</td>\n      <td>29079034</td>\n      <td>2180-07-23 12:35:00</td>\n      <td>2180-07-25 17:55:00</td>\n      <td>NaN</td>\n      <td>EW EMER.</td>\n      <td>P30KEH</td>\n      <td>EMERGENCY ROOM</td>\n      <td>HOME</td>\n      <td>Medicaid</td>\n      <td>...</td>\n      <td>[]</td>\n      <td>[{'labevent_id': 407, 'subject_id': 10000032, ...</td>\n      <td>[{'microevent_id': 32, 'subject_id': 10000032,...</td>\n      <td>[{'subject_id': 10000032, 'hadm_id': 29079034,...</td>\n      <td>[{'poe_id': '10000032-125', 'poe_seq': 125, 's...</td>\n      <td>[{'subject_id': 10000032, 'hadm_id': 29079034,...</td>\n      <td>[]</td>\n      <td>[{'subject_id': 10000032, 'hadm_id': 29079034,...</td>\n      <td>[{'subject_id': 10000032, 'hadm_id': 29079034....</td>\n      <td>[{'subject_id': 10000032, 'hadm_id': 29079034,...</td>\n    </tr>\n  </tbody>\n</table>\n<p>4 rows × 31 columns</p>\n</div>"
     },
     "execution_count": 8,
     "metadata": {},
     "output_type": "execute_result"
    }
   ],
   "source": [
    "df"
   ],
   "metadata": {
    "collapsed": false,
    "pycharm": {
     "name": "#%%\n"
    }
   }
  },
  {
   "cell_type": "code",
   "execution_count": 14,
   "outputs": [
    {
     "data": {
      "text/plain": "    subject_id   chartdate  seq_num      result_name result_value\n5     10000032  2180-05-07        1      BMI (kg/m2)         18.0\n8     10000032  2180-05-25        1      BMI (kg/m2)         18.6\n9     10000032  2180-06-01        1      BMI (kg/m2)         18.7\n11    10000032  2180-06-22        1      BMI (kg/m2)         18.9\n12    10000032  2180-06-27        1      BMI (kg/m2)         19.2\n6     10000032  2180-06-30        1      BMI (kg/m2)         18.0\n10    10000032  2180-07-09        1      BMI (kg/m2)         18.7\n7     10000032  2180-08-06        1      BMI (kg/m2)         18.2\n39    10000032  2180-04-27        1   Blood Pressure       110/65\n38    10000032  2180-05-25        1   Blood Pressure       106/60\n40    10000032  2180-06-01        1   Blood Pressure       121/77\n36    10000032  2180-06-22        1   Blood Pressure       100/60\n37    10000032  2180-06-30        1   Blood Pressure       102/60\n35    10000032  2180-07-09        1   Blood Pressure        98/66\n1     10000032  2180-05-07        1  Height (Inches)           60\n0     10000032  2180-06-22        1  Height (Inches)           60\n2     10000032  2180-04-27        1     Weight (Lbs)           94\n16    10000032  2180-05-07       17     Weight (Lbs)        92.15\n3     10000032  2180-05-25        1     Weight (Lbs)           95\n14    10000032  2180-06-01        1     Weight (Lbs)         95.7\n4     10000032  2180-06-22        1     Weight (Lbs)           97\n34    10000032  2180-06-27        1     Weight (Lbs)        98.32\n13    10000032  2180-06-30        1     Weight (Lbs)         92.2\n15    10000032  2180-07-09        1     Weight (Lbs)         95.8\n33    10000032  2180-08-06        1     Weight (Lbs)        93.03",
      "text/html": "<div>\n<style scoped>\n    .dataframe tbody tr th:only-of-type {\n        vertical-align: middle;\n    }\n\n    .dataframe tbody tr th {\n        vertical-align: top;\n    }\n\n    .dataframe thead th {\n        text-align: right;\n    }\n</style>\n<table border=\"1\" class=\"dataframe\">\n  <thead>\n    <tr style=\"text-align: right;\">\n      <th></th>\n      <th>subject_id</th>\n      <th>chartdate</th>\n      <th>seq_num</th>\n      <th>result_name</th>\n      <th>result_value</th>\n    </tr>\n  </thead>\n  <tbody>\n    <tr>\n      <th>5</th>\n      <td>10000032</td>\n      <td>2180-05-07</td>\n      <td>1</td>\n      <td>BMI (kg/m2)</td>\n      <td>18.0</td>\n    </tr>\n    <tr>\n      <th>8</th>\n      <td>10000032</td>\n      <td>2180-05-25</td>\n      <td>1</td>\n      <td>BMI (kg/m2)</td>\n      <td>18.6</td>\n    </tr>\n    <tr>\n      <th>9</th>\n      <td>10000032</td>\n      <td>2180-06-01</td>\n      <td>1</td>\n      <td>BMI (kg/m2)</td>\n      <td>18.7</td>\n    </tr>\n    <tr>\n      <th>11</th>\n      <td>10000032</td>\n      <td>2180-06-22</td>\n      <td>1</td>\n      <td>BMI (kg/m2)</td>\n      <td>18.9</td>\n    </tr>\n    <tr>\n      <th>12</th>\n      <td>10000032</td>\n      <td>2180-06-27</td>\n      <td>1</td>\n      <td>BMI (kg/m2)</td>\n      <td>19.2</td>\n    </tr>\n    <tr>\n      <th>6</th>\n      <td>10000032</td>\n      <td>2180-06-30</td>\n      <td>1</td>\n      <td>BMI (kg/m2)</td>\n      <td>18.0</td>\n    </tr>\n    <tr>\n      <th>10</th>\n      <td>10000032</td>\n      <td>2180-07-09</td>\n      <td>1</td>\n      <td>BMI (kg/m2)</td>\n      <td>18.7</td>\n    </tr>\n    <tr>\n      <th>7</th>\n      <td>10000032</td>\n      <td>2180-08-06</td>\n      <td>1</td>\n      <td>BMI (kg/m2)</td>\n      <td>18.2</td>\n    </tr>\n    <tr>\n      <th>39</th>\n      <td>10000032</td>\n      <td>2180-04-27</td>\n      <td>1</td>\n      <td>Blood Pressure</td>\n      <td>110/65</td>\n    </tr>\n    <tr>\n      <th>38</th>\n      <td>10000032</td>\n      <td>2180-05-25</td>\n      <td>1</td>\n      <td>Blood Pressure</td>\n      <td>106/60</td>\n    </tr>\n    <tr>\n      <th>40</th>\n      <td>10000032</td>\n      <td>2180-06-01</td>\n      <td>1</td>\n      <td>Blood Pressure</td>\n      <td>121/77</td>\n    </tr>\n    <tr>\n      <th>36</th>\n      <td>10000032</td>\n      <td>2180-06-22</td>\n      <td>1</td>\n      <td>Blood Pressure</td>\n      <td>100/60</td>\n    </tr>\n    <tr>\n      <th>37</th>\n      <td>10000032</td>\n      <td>2180-06-30</td>\n      <td>1</td>\n      <td>Blood Pressure</td>\n      <td>102/60</td>\n    </tr>\n    <tr>\n      <th>35</th>\n      <td>10000032</td>\n      <td>2180-07-09</td>\n      <td>1</td>\n      <td>Blood Pressure</td>\n      <td>98/66</td>\n    </tr>\n    <tr>\n      <th>1</th>\n      <td>10000032</td>\n      <td>2180-05-07</td>\n      <td>1</td>\n      <td>Height (Inches)</td>\n      <td>60</td>\n    </tr>\n    <tr>\n      <th>0</th>\n      <td>10000032</td>\n      <td>2180-06-22</td>\n      <td>1</td>\n      <td>Height (Inches)</td>\n      <td>60</td>\n    </tr>\n    <tr>\n      <th>2</th>\n      <td>10000032</td>\n      <td>2180-04-27</td>\n      <td>1</td>\n      <td>Weight (Lbs)</td>\n      <td>94</td>\n    </tr>\n    <tr>\n      <th>16</th>\n      <td>10000032</td>\n      <td>2180-05-07</td>\n      <td>17</td>\n      <td>Weight (Lbs)</td>\n      <td>92.15</td>\n    </tr>\n    <tr>\n      <th>3</th>\n      <td>10000032</td>\n      <td>2180-05-25</td>\n      <td>1</td>\n      <td>Weight (Lbs)</td>\n      <td>95</td>\n    </tr>\n    <tr>\n      <th>14</th>\n      <td>10000032</td>\n      <td>2180-06-01</td>\n      <td>1</td>\n      <td>Weight (Lbs)</td>\n      <td>95.7</td>\n    </tr>\n    <tr>\n      <th>4</th>\n      <td>10000032</td>\n      <td>2180-06-22</td>\n      <td>1</td>\n      <td>Weight (Lbs)</td>\n      <td>97</td>\n    </tr>\n    <tr>\n      <th>34</th>\n      <td>10000032</td>\n      <td>2180-06-27</td>\n      <td>1</td>\n      <td>Weight (Lbs)</td>\n      <td>98.32</td>\n    </tr>\n    <tr>\n      <th>13</th>\n      <td>10000032</td>\n      <td>2180-06-30</td>\n      <td>1</td>\n      <td>Weight (Lbs)</td>\n      <td>92.2</td>\n    </tr>\n    <tr>\n      <th>15</th>\n      <td>10000032</td>\n      <td>2180-07-09</td>\n      <td>1</td>\n      <td>Weight (Lbs)</td>\n      <td>95.8</td>\n    </tr>\n    <tr>\n      <th>33</th>\n      <td>10000032</td>\n      <td>2180-08-06</td>\n      <td>1</td>\n      <td>Weight (Lbs)</td>\n      <td>93.03</td>\n    </tr>\n  </tbody>\n</table>\n</div>"
     },
     "execution_count": 14,
     "metadata": {},
     "output_type": "execute_result"
    }
   ],
   "source": [
    "omr = pd.DataFrame(df.loc[1, \"omr\"]).sort_values(by=[\"result_name\", \"chartdate\"]).drop_duplicates(subset=['subject_id', 'chartdate', 'result_name', 'result_value'])\n",
    "omr"
   ],
   "metadata": {
    "collapsed": false,
    "pycharm": {
     "name": "#%%\n"
    }
   }
  },
  {
   "cell_type": "code",
   "execution_count": null,
   "outputs": [],
   "source": [],
   "metadata": {
    "collapsed": false,
    "pycharm": {
     "name": "#%%\n"
    }
   }
  }
 ],
 "metadata": {
  "kernelspec": {
   "display_name": "Python 3",
   "language": "python",
   "name": "python3"
  },
  "language_info": {
   "codemirror_mode": {
    "name": "ipython",
    "version": 2
   },
   "file_extension": ".py",
   "mimetype": "text/x-python",
   "name": "python",
   "nbconvert_exporter": "python",
   "pygments_lexer": "ipython2",
   "version": "2.7.6"
  }
 },
 "nbformat": 4,
 "nbformat_minor": 0
}