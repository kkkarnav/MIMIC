{
 "cells": [
  {
   "cell_type": "code",
   "execution_count": 22,
   "outputs": [],
   "source": [
    "import pandas as pd\n",
    "import os\n",
    "import warnings\n",
    "import numpy as np\n",
    "import matplotlib.pyplot as plt\n",
    "from matplotlib.ticker import MaxNLocator\n",
    "import ast\n",
    "\n",
    "warnings.filterwarnings(\"ignore\")\n",
    "plt.style.use('dark_background')"
   ],
   "metadata": {
    "collapsed": false,
    "pycharm": {
     "name": "#%%\n"
    }
   }
  },
  {
   "cell_type": "code",
   "execution_count": 23,
   "outputs": [],
   "source": [
    "# Use this chunk to generate the dataset if not already created\n",
    "# df = pd.DataFrame()\n",
    "# files = os.listdir(\"./data/patients_new\")\n",
    "# for file in files:\n",
    "    # patient = pd.read_json(os.path.join(\"./data/patients_new/\", file))\n",
    "    # df = pd.concat([df, patient], ignore_index=True)\n",
    "# df.reset_index(drop=True)\n",
    "# df.to_csv(\"./collated_dataset.csv\", index=False)\n",
    "\n",
    "df = pd.read_csv(\"./collated_dataset.csv\")"
   ],
   "metadata": {
    "collapsed": false,
    "pycharm": {
     "name": "#%%\n"
    }
   }
  },
  {
   "cell_type": "code",
   "execution_count": 24,
   "outputs": [
    {
     "data": {
      "text/plain": "   subject_id   hadm_id            admittime            dischtime  \\\n0    10001725  25563031  2110-04-11 15:08:00  2110-04-14 15:00:00   \n1    10008454  20291550  2110-11-30 06:31:00  2110-12-10 15:53:00   \n2    10004422  21255400  2111-01-15 14:55:00  2111-01-25 15:00:00   \n3    10006053  22942076  2111-11-13 23:39:00  2111-11-15 17:20:00   \n4    10035631  29462354  2112-09-17 19:13:00  2112-10-17 01:41:00   \n\n             deathtime admission_type admit_provider_id  \\\n0                  NaN       EW EMER.            P35SU0   \n1                  NaN       EW EMER.            P77BSD   \n2                  NaN       EW EMER.            P1037P   \n3  2111-11-15 17:20:00         URGENT            P38TI6   \n4                  NaN   DIRECT EMER.            P45GUA   \n\n       admission_location discharge_location insurance  ...  \\\n0                    PACU               HOME     Other  ...   \n1          EMERGENCY ROOM   HOME HEALTH CARE     Other  ...   \n2          PROCEDURE SITE   HOME HEALTH CARE  Medicare  ...   \n3  TRANSFER FROM HOSPITAL               DIED  Medicaid  ...   \n4      PHYSICIAN REFERRAL               HOME     Other  ...   \n\n                                  microbiologyevents  \\\n0  [{'microevent_id': 558, 'subject_id': 10001725...   \n1  [{'microevent_id': 3030, 'subject_id': 1000845...   \n2  [{'microevent_id': 1882, 'subject_id': 1000442...   \n3  [{'microevent_id': 2474, 'subject_id': 1000605...   \n4  [{'microevent_id': 11910, 'subject_id': 100356...   \n\n                                            pharmacy  \\\n0  [{'subject_id': 10001725, 'hadm_id': 25563031,...   \n1  [{'subject_id': 10008454, 'hadm_id': 20291550,...   \n2  [{'subject_id': 10004422, 'hadm_id': 21255400,...   \n3  [{'subject_id': 10006053, 'hadm_id': 22942076,...   \n4  [{'subject_id': 10035631, 'hadm_id': 29462354,...   \n\n                                                 poe  \\\n0  [{'poe_id': '10001725-48', 'poe_seq': 48, 'sub...   \n1  [{'poe_id': '10008454-137', 'poe_seq': 137, 's...   \n2  [{'poe_id': '10004422-100', 'poe_seq': 100, 's...   \n3  [{'poe_id': '10006053-41', 'poe_seq': 41, 'sub...   \n4  [{'poe_id': '10035631-269', 'poe_seq': 269, 's...   \n\n                                       prescriptions  \\\n0  [{'subject_id': 10001725, 'hadm_id': 25563031,...   \n1  [{'subject_id': 10008454, 'hadm_id': 20291550,...   \n2  [{'subject_id': 10004422, 'hadm_id': 21255400,...   \n3  [{'subject_id': 10006053, 'hadm_id': 22942076,...   \n4  [{'subject_id': 10035631, 'hadm_id': 29462354,...   \n\n                                      procedures_icd  \\\n0  [{'subject_id': 10001725, 'hadm_id': 25563031,...   \n1  [{'subject_id': 10008454, 'hadm_id': 20291550,...   \n2  [{'subject_id': 10004422, 'hadm_id': 21255400,...   \n3  [{'subject_id': 10006053, 'hadm_id': 22942076,...   \n4  [{'subject_id': 10035631, 'hadm_id': 29462354,...   \n\n                                            services  \\\n0  [{'subject_id': 10001725, 'hadm_id': 25563031,...   \n1  [{'subject_id': 10008454, 'hadm_id': 20291550,...   \n2  [{'subject_id': 10004422, 'hadm_id': 21255400,...   \n3  [{'subject_id': 10006053, 'hadm_id': 22942076,...   \n4  [{'subject_id': 10035631, 'hadm_id': 29462354,...   \n\n                                           transfers  \\\n0  [{'subject_id': 10001725, 'hadm_id': 25563031....   \n1  [{'subject_id': 10008454, 'hadm_id': 20291550....   \n2  [{'subject_id': 10004422, 'hadm_id': 21255400....   \n3  [{'subject_id': 10006053, 'hadm_id': 22942076....   \n4  [{'subject_id': 10035631, 'hadm_id': 29462354....   \n\n                                            icustays   admitdate   dischdate  \n0  [{'subject_id': 10001725, 'hadm_id': 25563031,...  2110-04-11  2110-04-14  \n1  [{'subject_id': 10008454, 'hadm_id': 20291550,...  2110-11-30  2110-12-10  \n2  [{'subject_id': 10004422, 'hadm_id': 21255400,...  2111-01-15  2111-01-25  \n3  [{'subject_id': 10006053, 'hadm_id': 22942076,...  2111-11-13  2111-11-15  \n4                                                 []  2112-09-17  2112-10-17  \n\n[5 rows x 33 columns]",
      "text/html": "<div>\n<style scoped>\n    .dataframe tbody tr th:only-of-type {\n        vertical-align: middle;\n    }\n\n    .dataframe tbody tr th {\n        vertical-align: top;\n    }\n\n    .dataframe thead th {\n        text-align: right;\n    }\n</style>\n<table border=\"1\" class=\"dataframe\">\n  <thead>\n    <tr style=\"text-align: right;\">\n      <th></th>\n      <th>subject_id</th>\n      <th>hadm_id</th>\n      <th>admittime</th>\n      <th>dischtime</th>\n      <th>deathtime</th>\n      <th>admission_type</th>\n      <th>admit_provider_id</th>\n      <th>admission_location</th>\n      <th>discharge_location</th>\n      <th>insurance</th>\n      <th>...</th>\n      <th>microbiologyevents</th>\n      <th>pharmacy</th>\n      <th>poe</th>\n      <th>prescriptions</th>\n      <th>procedures_icd</th>\n      <th>services</th>\n      <th>transfers</th>\n      <th>icustays</th>\n      <th>admitdate</th>\n      <th>dischdate</th>\n    </tr>\n  </thead>\n  <tbody>\n    <tr>\n      <th>0</th>\n      <td>10001725</td>\n      <td>25563031</td>\n      <td>2110-04-11 15:08:00</td>\n      <td>2110-04-14 15:00:00</td>\n      <td>NaN</td>\n      <td>EW EMER.</td>\n      <td>P35SU0</td>\n      <td>PACU</td>\n      <td>HOME</td>\n      <td>Other</td>\n      <td>...</td>\n      <td>[{'microevent_id': 558, 'subject_id': 10001725...</td>\n      <td>[{'subject_id': 10001725, 'hadm_id': 25563031,...</td>\n      <td>[{'poe_id': '10001725-48', 'poe_seq': 48, 'sub...</td>\n      <td>[{'subject_id': 10001725, 'hadm_id': 25563031,...</td>\n      <td>[{'subject_id': 10001725, 'hadm_id': 25563031,...</td>\n      <td>[{'subject_id': 10001725, 'hadm_id': 25563031,...</td>\n      <td>[{'subject_id': 10001725, 'hadm_id': 25563031....</td>\n      <td>[{'subject_id': 10001725, 'hadm_id': 25563031,...</td>\n      <td>2110-04-11</td>\n      <td>2110-04-14</td>\n    </tr>\n    <tr>\n      <th>1</th>\n      <td>10008454</td>\n      <td>20291550</td>\n      <td>2110-11-30 06:31:00</td>\n      <td>2110-12-10 15:53:00</td>\n      <td>NaN</td>\n      <td>EW EMER.</td>\n      <td>P77BSD</td>\n      <td>EMERGENCY ROOM</td>\n      <td>HOME HEALTH CARE</td>\n      <td>Other</td>\n      <td>...</td>\n      <td>[{'microevent_id': 3030, 'subject_id': 1000845...</td>\n      <td>[{'subject_id': 10008454, 'hadm_id': 20291550,...</td>\n      <td>[{'poe_id': '10008454-137', 'poe_seq': 137, 's...</td>\n      <td>[{'subject_id': 10008454, 'hadm_id': 20291550,...</td>\n      <td>[{'subject_id': 10008454, 'hadm_id': 20291550,...</td>\n      <td>[{'subject_id': 10008454, 'hadm_id': 20291550,...</td>\n      <td>[{'subject_id': 10008454, 'hadm_id': 20291550....</td>\n      <td>[{'subject_id': 10008454, 'hadm_id': 20291550,...</td>\n      <td>2110-11-30</td>\n      <td>2110-12-10</td>\n    </tr>\n    <tr>\n      <th>2</th>\n      <td>10004422</td>\n      <td>21255400</td>\n      <td>2111-01-15 14:55:00</td>\n      <td>2111-01-25 15:00:00</td>\n      <td>NaN</td>\n      <td>EW EMER.</td>\n      <td>P1037P</td>\n      <td>PROCEDURE SITE</td>\n      <td>HOME HEALTH CARE</td>\n      <td>Medicare</td>\n      <td>...</td>\n      <td>[{'microevent_id': 1882, 'subject_id': 1000442...</td>\n      <td>[{'subject_id': 10004422, 'hadm_id': 21255400,...</td>\n      <td>[{'poe_id': '10004422-100', 'poe_seq': 100, 's...</td>\n      <td>[{'subject_id': 10004422, 'hadm_id': 21255400,...</td>\n      <td>[{'subject_id': 10004422, 'hadm_id': 21255400,...</td>\n      <td>[{'subject_id': 10004422, 'hadm_id': 21255400,...</td>\n      <td>[{'subject_id': 10004422, 'hadm_id': 21255400....</td>\n      <td>[{'subject_id': 10004422, 'hadm_id': 21255400,...</td>\n      <td>2111-01-15</td>\n      <td>2111-01-25</td>\n    </tr>\n    <tr>\n      <th>3</th>\n      <td>10006053</td>\n      <td>22942076</td>\n      <td>2111-11-13 23:39:00</td>\n      <td>2111-11-15 17:20:00</td>\n      <td>2111-11-15 17:20:00</td>\n      <td>URGENT</td>\n      <td>P38TI6</td>\n      <td>TRANSFER FROM HOSPITAL</td>\n      <td>DIED</td>\n      <td>Medicaid</td>\n      <td>...</td>\n      <td>[{'microevent_id': 2474, 'subject_id': 1000605...</td>\n      <td>[{'subject_id': 10006053, 'hadm_id': 22942076,...</td>\n      <td>[{'poe_id': '10006053-41', 'poe_seq': 41, 'sub...</td>\n      <td>[{'subject_id': 10006053, 'hadm_id': 22942076,...</td>\n      <td>[{'subject_id': 10006053, 'hadm_id': 22942076,...</td>\n      <td>[{'subject_id': 10006053, 'hadm_id': 22942076,...</td>\n      <td>[{'subject_id': 10006053, 'hadm_id': 22942076....</td>\n      <td>[{'subject_id': 10006053, 'hadm_id': 22942076,...</td>\n      <td>2111-11-13</td>\n      <td>2111-11-15</td>\n    </tr>\n    <tr>\n      <th>4</th>\n      <td>10035631</td>\n      <td>29462354</td>\n      <td>2112-09-17 19:13:00</td>\n      <td>2112-10-17 01:41:00</td>\n      <td>NaN</td>\n      <td>DIRECT EMER.</td>\n      <td>P45GUA</td>\n      <td>PHYSICIAN REFERRAL</td>\n      <td>HOME</td>\n      <td>Other</td>\n      <td>...</td>\n      <td>[{'microevent_id': 11910, 'subject_id': 100356...</td>\n      <td>[{'subject_id': 10035631, 'hadm_id': 29462354,...</td>\n      <td>[{'poe_id': '10035631-269', 'poe_seq': 269, 's...</td>\n      <td>[{'subject_id': 10035631, 'hadm_id': 29462354,...</td>\n      <td>[{'subject_id': 10035631, 'hadm_id': 29462354,...</td>\n      <td>[{'subject_id': 10035631, 'hadm_id': 29462354,...</td>\n      <td>[{'subject_id': 10035631, 'hadm_id': 29462354....</td>\n      <td>[]</td>\n      <td>2112-09-17</td>\n      <td>2112-10-17</td>\n    </tr>\n  </tbody>\n</table>\n<p>5 rows × 33 columns</p>\n</div>"
     },
     "execution_count": 24,
     "metadata": {},
     "output_type": "execute_result"
    }
   ],
   "source": [
    "# Reduce admit and discharge times to dates\n",
    "df = df.sort_values(by=[\"admittime\"]).reset_index(drop=True)\n",
    "df[\"admitdate\"] = pd.to_datetime(df[\"admittime\"]).dt.date.apply(lambda x: str(x))\n",
    "df[\"dischdate\"] = pd.to_datetime(df[\"dischtime\"]).dt.date.apply(lambda x: str(x))\n",
    "df.head()"
   ],
   "metadata": {
    "collapsed": false,
    "pycharm": {
     "name": "#%%\n"
    }
   }
  },
  {
   "cell_type": "code",
   "execution_count": 25,
   "outputs": [
    {
     "data": {
      "text/plain": "index   chartdate BMI (kg/m2) Blood Pressure Height (Inches) Weight (Lbs)\n0      2109-10-15         NaN            NaN             NaN          157\n1      2110-01-04         NaN            NaN             NaN          152\n2      2110-03-02         NaN            NaN             NaN          151\n3      2110-04-08         NaN         142/72             NaN          NaN\n4      2110-04-19         NaN         117/73             NaN          NaN\n..            ...         ...            ...             ...          ...\n61     2114-05-29        27.6            NaN             NaN          NaN\n62     2114-06-12         NaN            NaN             NaN          149\n63     2114-08-28         NaN            NaN              62          NaN\n64     2114-09-21         NaN            NaN             NaN          144\n65     2114-09-22        26.5            NaN             NaN          NaN\n\n[66 rows x 5 columns]",
      "text/html": "<div>\n<style scoped>\n    .dataframe tbody tr th:only-of-type {\n        vertical-align: middle;\n    }\n\n    .dataframe tbody tr th {\n        vertical-align: top;\n    }\n\n    .dataframe thead th {\n        text-align: right;\n    }\n</style>\n<table border=\"1\" class=\"dataframe\">\n  <thead>\n    <tr style=\"text-align: right;\">\n      <th>index</th>\n      <th>chartdate</th>\n      <th>BMI (kg/m2)</th>\n      <th>Blood Pressure</th>\n      <th>Height (Inches)</th>\n      <th>Weight (Lbs)</th>\n    </tr>\n  </thead>\n  <tbody>\n    <tr>\n      <th>0</th>\n      <td>2109-10-15</td>\n      <td>NaN</td>\n      <td>NaN</td>\n      <td>NaN</td>\n      <td>157</td>\n    </tr>\n    <tr>\n      <th>1</th>\n      <td>2110-01-04</td>\n      <td>NaN</td>\n      <td>NaN</td>\n      <td>NaN</td>\n      <td>152</td>\n    </tr>\n    <tr>\n      <th>2</th>\n      <td>2110-03-02</td>\n      <td>NaN</td>\n      <td>NaN</td>\n      <td>NaN</td>\n      <td>151</td>\n    </tr>\n    <tr>\n      <th>3</th>\n      <td>2110-04-08</td>\n      <td>NaN</td>\n      <td>142/72</td>\n      <td>NaN</td>\n      <td>NaN</td>\n    </tr>\n    <tr>\n      <th>4</th>\n      <td>2110-04-19</td>\n      <td>NaN</td>\n      <td>117/73</td>\n      <td>NaN</td>\n      <td>NaN</td>\n    </tr>\n    <tr>\n      <th>...</th>\n      <td>...</td>\n      <td>...</td>\n      <td>...</td>\n      <td>...</td>\n      <td>...</td>\n    </tr>\n    <tr>\n      <th>61</th>\n      <td>2114-05-29</td>\n      <td>27.6</td>\n      <td>NaN</td>\n      <td>NaN</td>\n      <td>NaN</td>\n    </tr>\n    <tr>\n      <th>62</th>\n      <td>2114-06-12</td>\n      <td>NaN</td>\n      <td>NaN</td>\n      <td>NaN</td>\n      <td>149</td>\n    </tr>\n    <tr>\n      <th>63</th>\n      <td>2114-08-28</td>\n      <td>NaN</td>\n      <td>NaN</td>\n      <td>62</td>\n      <td>NaN</td>\n    </tr>\n    <tr>\n      <th>64</th>\n      <td>2114-09-21</td>\n      <td>NaN</td>\n      <td>NaN</td>\n      <td>NaN</td>\n      <td>144</td>\n    </tr>\n    <tr>\n      <th>65</th>\n      <td>2114-09-22</td>\n      <td>26.5</td>\n      <td>NaN</td>\n      <td>NaN</td>\n      <td>NaN</td>\n    </tr>\n  </tbody>\n</table>\n<p>66 rows × 5 columns</p>\n</div>"
     },
     "execution_count": 25,
     "metadata": {},
     "output_type": "execute_result"
    }
   ],
   "source": [
    "# We'd like to look at the vitals of admitted patients to see if there's a pattern that can be observed with their demographics and outcomes.\n",
    "# These vitals are recorded in the dataset as OMR observations\n",
    "\n",
    "# Parse the OMR data into df format\n",
    "df[\"omr\"] = df[\"omr\"].apply(\n",
    "    lambda row:\n",
    "    pd.DataFrame(ast.literal_eval(row))\n",
    "    if type(ast.literal_eval(row)) == list\n",
    "    else pd.DataFrame([ast.literal_eval(row)])\n",
    ")\n",
    "# Clean and pivot it by indicator (height, weight, etc.)\n",
    "df[\"omr\"] = df[\"omr\"].apply(\n",
    "    lambda row_df:\n",
    "    row_df\n",
    "        .drop_duplicates(subset=[\"subject_id\", \"chartdate\"]) # keep only one set of observations per person per day\n",
    "        .sort_values(by=[\"chartdate\"])\n",
    "        .rename(columns={'result_name': 'index'})\n",
    "        .pivot(index=[\"chartdate\"], columns='index', values='result_value') # convert to a wide df\n",
    "        .reset_index()\n",
    "        .rename(columns={'index': 'chartdate'})\n",
    ")\n",
    "df.loc[0, \"omr\"]"
   ],
   "metadata": {
    "collapsed": false,
    "pycharm": {
     "name": "#%%\n"
    }
   }
  },
  {
   "cell_type": "code",
   "execution_count": 26,
   "outputs": [
    {
     "data": {
      "text/plain": "0    [22, 12, 5, 27]\n1       [0, 0, 1, 0]\n2       [0, 1, 0, 2]\n3       [0, 0, 0, 0]\n4     [38, 7, 51, 3]\nName: omr_counts, dtype: object"
     },
     "execution_count": 26,
     "metadata": {},
     "output_type": "execute_result"
    }
   ],
   "source": [
    "# How many observations of each metric are there for each patient?\n",
    "df[\"omr_counts\"] = df[\"omr\"].apply(\n",
    "    lambda row_df:\n",
    "    [(row_df\n",
    "      [~row_df[column].isna()] # filter a particular type of observation\n",
    "      [column].count() # count the number of observations of that type\n",
    "      if column in row_df.columns else 0)\n",
    "     for column in df.loc[0, \"omr\"].columns[1:]])\n",
    "df[\"omr_counts\"].head()"
   ],
   "metadata": {
    "collapsed": false,
    "pycharm": {
     "name": "#%%\n"
    }
   }
  },
  {
   "cell_type": "code",
   "execution_count": 27,
   "outputs": [
    {
     "data": {
      "text/plain": "0    [0, 0, 0, 0]\n1    [0, 0, 0, 0]\n2    [0, 0, 0, 0]\n3    [0, 0, 0, 0]\n4    [0, 0, 0, 0]\nName: omr_counts_during_stay, dtype: object"
     },
     "execution_count": 27,
     "metadata": {},
     "output_type": "execute_result"
    }
   ],
   "source": [
    "# How many observations of each metric are there for each patient?\n",
    "# Unfortunately, since there are no consistent, and rarely any at all, observations during the patients' stays, time series analysis becomes entirely untenable.\n",
    "df[\"omr_counts_during_stay\"] = df.apply(\n",
    "    lambda row:\n",
    "    [row[\"omr\"]\n",
    "     [(~row[\"omr\"][column].isna()) & (~row[\"omr\"][\"chartdate\"].isna())] # filter a type of (valid only) observation\n",
    "     [(row[\"omr\"][\"chartdate\"] >= row[\"admitdate\"]) & (row[\"omr\"][\"chartdate\"] <= row[\"dischdate\"])] # filter observations during hospital stay\n",
    "     [column].count() # count the number of observations of that type\n",
    "     if column in row[\"omr\"].columns else 0\n",
    "     for column in df.loc[0, \"omr\"].columns[1:]], axis=1)\n",
    "df[\"omr_counts_during_stay\"].head()"
   ],
   "metadata": {
    "collapsed": false,
    "pycharm": {
     "name": "#%%\n"
    }
   }
  },
  {
   "cell_type": "code",
   "execution_count": 29,
   "outputs": [],
   "source": [
    "# Take the sub-datasets (patients, hosp, poe, etc.), flatten them and append them to the main dataframe\n",
    "def normalize_jsons(column, dropper, sorter):\n",
    "    data = []\n",
    "    for datum in column:\n",
    "        json_df = pd.json_normalize(ast.literal_eval(datum)[0])\n",
    "        data.append(json_df)\n",
    "    column_df = pd.concat(data, ignore_index=True).drop_duplicates(subset=dropper).sort_values(by=sorter).reset_index(drop=True)\n",
    "    return column_df"
   ],
   "metadata": {
    "collapsed": false,
    "pycharm": {
     "name": "#%%\n"
    }
   }
  },
  {
   "cell_type": "code",
   "execution_count": 30,
   "outputs": [
    {
     "data": {
      "text/plain": "   subject_id   hadm_id            admittime            dischtime  \\\n0    10001725  25563031  2110-04-11 15:08:00  2110-04-14 15:00:00   \n1    10008454  20291550  2110-11-30 06:31:00  2110-12-10 15:53:00   \n2    10004422  21255400  2111-01-15 14:55:00  2111-01-25 15:00:00   \n3    10006053  22942076  2111-11-13 23:39:00  2111-11-15 17:20:00   \n4    10035631  29462354  2112-09-17 19:13:00  2112-10-17 01:41:00   \n\n             deathtime admission_type admit_provider_id  \\\n0                  NaN       EW EMER.            P35SU0   \n1                  NaN       EW EMER.            P77BSD   \n2                  NaN       EW EMER.            P1037P   \n3  2111-11-15 17:20:00         URGENT            P38TI6   \n4                  NaN   DIRECT EMER.            P45GUA   \n\n       admission_location discharge_location insurance  ...  \\\n0                    PACU               HOME     Other  ...   \n1          EMERGENCY ROOM   HOME HEALTH CARE     Other  ...   \n2          PROCEDURE SITE   HOME HEALTH CARE  Medicare  ...   \n3  TRANSFER FROM HOSPITAL               DIED  Medicaid  ...   \n4      PHYSICIAN REFERRAL               HOME     Other  ...   \n\n                                            icustays   admitdate   dischdate  \\\n0  [{'subject_id': 10001725, 'hadm_id': 25563031,...  2110-04-11  2110-04-14   \n1  [{'subject_id': 10008454, 'hadm_id': 20291550,...  2110-11-30  2110-12-10   \n2  [{'subject_id': 10004422, 'hadm_id': 21255400,...  2111-01-15  2111-01-25   \n3  [{'subject_id': 10006053, 'hadm_id': 22942076,...  2111-11-13  2111-11-15   \n4                                                 []  2112-09-17  2112-10-17   \n\n        omr_counts omr_counts_during_stay  gender anchor_age anchor_year  \\\n0  [22, 12, 5, 27]           [0, 0, 0, 0]       F         46        2110   \n1     [0, 0, 1, 0]           [0, 0, 0, 0]       F         26        2110   \n2     [0, 1, 0, 2]           [0, 0, 0, 0]       M         78        2111   \n3     [0, 0, 0, 0]           [0, 0, 0, 0]       M         52        2111   \n4   [38, 7, 51, 3]           [0, 0, 0, 0]       M         63        2112   \n\n  anchor_year_group         dod  \n0       2011 - 2013              \n1       2011 - 2013              \n2       2011 - 2013              \n3       2014 - 2016  2111-11-15  \n4       2011 - 2013  2116-03-12  \n\n[5 rows x 40 columns]",
      "text/html": "<div>\n<style scoped>\n    .dataframe tbody tr th:only-of-type {\n        vertical-align: middle;\n    }\n\n    .dataframe tbody tr th {\n        vertical-align: top;\n    }\n\n    .dataframe thead th {\n        text-align: right;\n    }\n</style>\n<table border=\"1\" class=\"dataframe\">\n  <thead>\n    <tr style=\"text-align: right;\">\n      <th></th>\n      <th>subject_id</th>\n      <th>hadm_id</th>\n      <th>admittime</th>\n      <th>dischtime</th>\n      <th>deathtime</th>\n      <th>admission_type</th>\n      <th>admit_provider_id</th>\n      <th>admission_location</th>\n      <th>discharge_location</th>\n      <th>insurance</th>\n      <th>...</th>\n      <th>icustays</th>\n      <th>admitdate</th>\n      <th>dischdate</th>\n      <th>omr_counts</th>\n      <th>omr_counts_during_stay</th>\n      <th>gender</th>\n      <th>anchor_age</th>\n      <th>anchor_year</th>\n      <th>anchor_year_group</th>\n      <th>dod</th>\n    </tr>\n  </thead>\n  <tbody>\n    <tr>\n      <th>0</th>\n      <td>10001725</td>\n      <td>25563031</td>\n      <td>2110-04-11 15:08:00</td>\n      <td>2110-04-14 15:00:00</td>\n      <td>NaN</td>\n      <td>EW EMER.</td>\n      <td>P35SU0</td>\n      <td>PACU</td>\n      <td>HOME</td>\n      <td>Other</td>\n      <td>...</td>\n      <td>[{'subject_id': 10001725, 'hadm_id': 25563031,...</td>\n      <td>2110-04-11</td>\n      <td>2110-04-14</td>\n      <td>[22, 12, 5, 27]</td>\n      <td>[0, 0, 0, 0]</td>\n      <td>F</td>\n      <td>46</td>\n      <td>2110</td>\n      <td>2011 - 2013</td>\n      <td></td>\n    </tr>\n    <tr>\n      <th>1</th>\n      <td>10008454</td>\n      <td>20291550</td>\n      <td>2110-11-30 06:31:00</td>\n      <td>2110-12-10 15:53:00</td>\n      <td>NaN</td>\n      <td>EW EMER.</td>\n      <td>P77BSD</td>\n      <td>EMERGENCY ROOM</td>\n      <td>HOME HEALTH CARE</td>\n      <td>Other</td>\n      <td>...</td>\n      <td>[{'subject_id': 10008454, 'hadm_id': 20291550,...</td>\n      <td>2110-11-30</td>\n      <td>2110-12-10</td>\n      <td>[0, 0, 1, 0]</td>\n      <td>[0, 0, 0, 0]</td>\n      <td>F</td>\n      <td>26</td>\n      <td>2110</td>\n      <td>2011 - 2013</td>\n      <td></td>\n    </tr>\n    <tr>\n      <th>2</th>\n      <td>10004422</td>\n      <td>21255400</td>\n      <td>2111-01-15 14:55:00</td>\n      <td>2111-01-25 15:00:00</td>\n      <td>NaN</td>\n      <td>EW EMER.</td>\n      <td>P1037P</td>\n      <td>PROCEDURE SITE</td>\n      <td>HOME HEALTH CARE</td>\n      <td>Medicare</td>\n      <td>...</td>\n      <td>[{'subject_id': 10004422, 'hadm_id': 21255400,...</td>\n      <td>2111-01-15</td>\n      <td>2111-01-25</td>\n      <td>[0, 1, 0, 2]</td>\n      <td>[0, 0, 0, 0]</td>\n      <td>M</td>\n      <td>78</td>\n      <td>2111</td>\n      <td>2011 - 2013</td>\n      <td></td>\n    </tr>\n    <tr>\n      <th>3</th>\n      <td>10006053</td>\n      <td>22942076</td>\n      <td>2111-11-13 23:39:00</td>\n      <td>2111-11-15 17:20:00</td>\n      <td>2111-11-15 17:20:00</td>\n      <td>URGENT</td>\n      <td>P38TI6</td>\n      <td>TRANSFER FROM HOSPITAL</td>\n      <td>DIED</td>\n      <td>Medicaid</td>\n      <td>...</td>\n      <td>[{'subject_id': 10006053, 'hadm_id': 22942076,...</td>\n      <td>2111-11-13</td>\n      <td>2111-11-15</td>\n      <td>[0, 0, 0, 0]</td>\n      <td>[0, 0, 0, 0]</td>\n      <td>M</td>\n      <td>52</td>\n      <td>2111</td>\n      <td>2014 - 2016</td>\n      <td>2111-11-15</td>\n    </tr>\n    <tr>\n      <th>4</th>\n      <td>10035631</td>\n      <td>29462354</td>\n      <td>2112-09-17 19:13:00</td>\n      <td>2112-10-17 01:41:00</td>\n      <td>NaN</td>\n      <td>DIRECT EMER.</td>\n      <td>P45GUA</td>\n      <td>PHYSICIAN REFERRAL</td>\n      <td>HOME</td>\n      <td>Other</td>\n      <td>...</td>\n      <td>[]</td>\n      <td>2112-09-17</td>\n      <td>2112-10-17</td>\n      <td>[38, 7, 51, 3]</td>\n      <td>[0, 0, 0, 0]</td>\n      <td>M</td>\n      <td>63</td>\n      <td>2112</td>\n      <td>2011 - 2013</td>\n      <td>2116-03-12</td>\n    </tr>\n  </tbody>\n</table>\n<p>5 rows × 40 columns</p>\n</div>"
     },
     "execution_count": 30,
     "metadata": {},
     "output_type": "execute_result"
    }
   ],
   "source": [
    "df = pd.merge(df, normalize_jsons(df[\"patients\"], [\"subject_id\"], [\"anchor_year\", \"subject_id\"]), how='left', on=\"subject_id\", suffixes=(\"\", \"\"))\n",
    "df.head()"
   ],
   "metadata": {
    "collapsed": false,
    "pycharm": {
     "name": "#%%\n"
    }
   }
  },
  {
   "cell_type": "code",
   "execution_count": 31,
   "outputs": [],
   "source": [
    "def plot_histogram(x1, bins, title, x_label, y_label, color1, lcolor1, x2=None, color2=None, lcolor2=None):\n",
    "    ax = x1.hist(bins=bins, xlabelsize=10, ylabelsize=6, color=color1)\n",
    "    plt.axvline(x1.median(), color=lcolor1, linestyle='dashed', linewidth=2)\n",
    "\n",
    "    if x2 is not None:\n",
    "        ax2 = x2.hist(bins=bins, xlabelsize=10, ylabelsize=6, color=color2)\n",
    "        plt.axvline(x2.median(), color=lcolor2, linestyle='dashed', linewidth=2)\n",
    "\n",
    "    ax.set_title(title, weight='bold')\n",
    "    ax.set_xlabel(x_label)\n",
    "    ax.set_ylabel(y_label)\n",
    "    plt.grid(False)\n",
    "    plt.show()"
   ],
   "metadata": {
    "collapsed": false,
    "pycharm": {
     "name": "#%%\n"
    }
   }
  },
  {
   "cell_type": "code",
   "execution_count": 31,
   "outputs": [],
   "source": [],
   "metadata": {
    "collapsed": false,
    "pycharm": {
     "name": "#%%\n"
    }
   }
  }
 ],
 "metadata": {
  "kernelspec": {
   "display_name": "Python 3",
   "language": "python",
   "name": "python3"
  },
  "language_info": {
   "codemirror_mode": {
    "name": "ipython",
    "version": 2
   },
   "file_extension": ".py",
   "mimetype": "text/x-python",
   "name": "python",
   "nbconvert_exporter": "python",
   "pygments_lexer": "ipython2",
   "version": "2.7.6"
  }
 },
 "nbformat": 4,
 "nbformat_minor": 0
}