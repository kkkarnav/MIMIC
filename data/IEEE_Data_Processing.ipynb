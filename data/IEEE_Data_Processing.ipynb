{
 "cells": [
  {
   "cell_type": "markdown",
   "id": "28119eb7",
   "metadata": {
    "id": "28119eb7"
   },
   "source": [
    "Step 1 : Download the dataset from [https:/physionet.org/content/mimic-iv-demo/2.2/](https:/physionet.org/content/mimic-iv-demo/2.2/)  \n",
    "Step 2 : Move the ZIP file to the same folder in which you downloaded the Jupyter Notebook  \n",
    "Step 3 : Run all the cells in the jupyter notebook to retrieve the json files"
   ]
  },
  {
   "cell_type": "code",
   "execution_count": 20,
   "id": "4afd728d",
   "metadata": {
    "id": "4afd728d"
   },
   "outputs": [],
   "source": [
    "import sys\n",
    "import pandas as pd\n",
    "import numpy as np\n",
    "import json\n",
    "import os"
   ]
  },
  {
   "cell_type": "code",
   "execution_count": 21,
   "id": "8ebae34f",
   "metadata": {
    "id": "8ebae34f"
   },
   "outputs": [],
   "source": [
    "##hosp modules\n",
    "\n",
    "base_path = \"./\"\n",
    "\n",
    "admissions = pd.read_csv(f'{base_path}hosp/admissions.csv')\n",
    "d_hcpcs = pd.read_csv(f'{base_path}hosp/d_hcpcs.csv')\n",
    "d_icd_diagnoses = pd.read_csv(f'{base_path}hosp/d_icd_diagnoses.csv')\n",
    "d_icd_procedures = pd.read_csv(f'{base_path}hosp/d_icd_procedures.csv')\n",
    "d_labitems = pd.read_csv(f'{base_path}hosp/d_labitems.csv')\n",
    "diagnoses_icd = pd.read_csv(f'{base_path}hosp/diagnoses_icd.csv')\n",
    "drgcodes = pd.read_csv(f'{base_path}hosp/drgcodes.csv')\n",
    "emar_detail = pd.read_csv(f'{base_path}hosp/emar_detail.csv', low_memory=False)\n",
    "emar = pd.read_csv(f'{base_path}hosp/emar.csv')\n",
    "hcpcsevents = pd.read_csv(f'{base_path}hosp/hcpcsevents.csv')\n",
    "labevents = pd.read_csv(f'{base_path}hosp/labevents.csv')\n",
    "microbiologyevents = pd.read_csv(f'{base_path}hosp/microbiologyevents.csv')\n",
    "omr = pd.read_csv(f'{base_path}hosp/omr.csv')\n",
    "patients = pd.read_csv(f'{base_path}hosp/patients.csv')\n",
    "pharmacy = pd.read_csv(f'{base_path}hosp/pharmacy.csv')\n",
    "poe_detail = pd.read_csv(f'{base_path}hosp/poe_detail.csv')\n",
    "poe = pd.read_csv(f'{base_path}hosp/poe.csv')\n",
    "prescriptions = pd.read_csv(f'{base_path}hosp/prescriptions.csv')\n",
    "procedures_icd = pd.read_csv(f'{base_path}hosp/procedures_icd.csv')\n",
    "provider = pd.read_csv(f'{base_path}hosp/provider.csv')\n",
    "services = pd.read_csv(f'{base_path}hosp/services.csv')\n",
    "transfers = pd.read_csv(f'{base_path}hosp/transfers.csv')\n",
    "\n",
    "## icu modules\n",
    "\n",
    "caregiver = pd.read_csv(f'{base_path}icu/caregiver.csv')\n",
    "chartevents = pd.read_csv(f'{base_path}icu/chartevents.csv')\n",
    "d_items = pd.read_csv(f'{base_path}icu/d_items.csv')\n",
    "datetimeevents = pd.read_csv(f'{base_path}icu/datetimeevents.csv')\n",
    "icustays = pd.read_csv(f'{base_path}icu/icustays.csv')\n",
    "ingredientevents = pd.read_csv(f'{base_path}icu/ingredientevents.csv')\n",
    "inputevents = pd.read_csv(f'{base_path}icu/inputevents.csv')\n",
    "outputevents = pd.read_csv(f'{base_path}icu/outputevents.csv')\n",
    "procedureevents = pd.read_csv(f'{base_path}icu/procedureevents.csv')"
   ]
  },
  {
   "cell_type": "code",
   "execution_count": 22,
   "id": "c0292ab1",
   "metadata": {
    "id": "c0292ab1"
   },
   "outputs": [
    {
     "name": "stdout",
     "output_type": "stream",
     "text": [
      "JSON files created in patients_new\n"
     ]
    }
   ],
   "source": [
    "# Date-time to standard format\n",
    "date_time_columns = ['admittime', 'dischtime', 'deathtime', 'edregtime', 'edouttime']\n",
    "for col in date_time_columns:\n",
    "    if col in admissions.columns:\n",
    "        admissions[col] = pd.to_datetime(admissions[col], errors='coerce').dt.strftime('%Y-%m-%d %H:%M:%S')\n",
    "\n",
    "# Directory for JSON\n",
    "output_dir = 'patients_new'\n",
    "os.makedirs(output_dir, exist_ok=True)\n",
    "\n",
    "# Function for creating JSON\n",
    "def save_subject_json(subject_data, subject_id):\n",
    "    # Convert the subject's data to a pandas DataFrame and then to JSON\n",
    "    subject_json = subject_data.to_json(orient='records', date_format='iso')\n",
    "\n",
    "    # Save the JSON data to a file\n",
    "    with open(f'{output_dir}/{subject_id}.json', 'w') as file:\n",
    "        file.write(subject_json)\n",
    "\n",
    "# Process each unique subject_id\n",
    "unique_subject_ids = admissions['subject_id'].dropna().unique()\n",
    "for subject_id in unique_subject_ids:\n",
    "    # Filter data for the current subject_id\n",
    "    subject_data = admissions[admissions['subject_id'] == subject_id]\n",
    "\n",
    "    # Save the subject's data as a JSON file\n",
    "    save_subject_json(subject_data, subject_id)\n",
    "\n",
    "print(f'JSON files created in {output_dir}')\n"
   ]
  },
  {
   "cell_type": "code",
   "execution_count": 23,
   "id": "a7f9fa42",
   "metadata": {
    "id": "a7f9fa42"
   },
   "outputs": [],
   "source": [
    "jfiles_dir = 'patients_new/'"
   ]
  },
  {
   "cell_type": "code",
   "execution_count": 24,
   "id": "4db666f0",
   "metadata": {
    "id": "4db666f0"
   },
   "outputs": [],
   "source": [
    "# Function to update the json files according to subject_id\n",
    "def update_json_sub(events_df, dir, event_key):\n",
    "\n",
    "    # Convert to pandas for easier handling - smaller dataset\n",
    "    events_pd =events_df\n",
    "    # Group according to subject_id and hadm_id and convert the data to a dict\n",
    "    grouped_events = events_pd.groupby(['subject_id']).apply(lambda x: x.to_dict(orient='records'))\n",
    "\n",
    "    if not grouped_events.empty:\n",
    "        for record in grouped_events:\n",
    "            if record:\n",
    "                events_structure = {key: None for key in record[0].keys()}\n",
    "                break\n",
    "    else:\n",
    "        events_structure = {}\n",
    "\n",
    "    l_updated = []\n",
    "    l_failed = []\n",
    "\n",
    "    # Read files in the directory sequentially\n",
    "    for filename in os.listdir(dir):\n",
    "        if filename.endswith(\".json\"):\n",
    "            subject_id = int(filename.split('.')[0])  # Assuming the filename is just the subject_id.json\n",
    "            jfile_path = os.path.join(dir, filename)\n",
    "\n",
    "            with open(jfile_path, 'r') as file:\n",
    "                patient_data = json.load(file)\n",
    "\n",
    "            # Structure the data\n",
    "            updated = False\n",
    "            for admission in patient_data:\n",
    "                subject_id = admission['subject_id']\n",
    "                if subject_id in grouped_events.index:\n",
    "                    events_data = grouped_events.loc[subject_id]\n",
    "                    if isinstance(events_data, str):\n",
    "                        events_data = json.loads(events_data)\n",
    "                    elif not isinstance(events_data, list):\n",
    "                        events_data = [events_data]\n",
    "                    admission[event_key] = events_data\n",
    "                    updated = True\n",
    "                # Ensure all files have consistent headers\n",
    "                else:\n",
    "                    admission[event_key] = events_structure\n",
    "                    updated = True\n",
    "\n",
    "            # Write on to the json files to update\n",
    "            if updated:\n",
    "                with open(jfile_path, 'w') as file:\n",
    "                    json.dump(patient_data, file, indent=0)\n",
    "                l_updated.append(subject_id)\n",
    "                # print(f'Data updated for subject_id {subject_id}')\n",
    "            else:\n",
    "                l_failed.append(subject_id)\n",
    "                # print(f'No data updated for subject_id {subject_id}')\n",
    "\n",
    "    print(f'[{event_key}]: Updated data for {len(l_updated)} subjects')\n",
    "    print(f'[{event_key}]: No data updated for {len(l_failed)} subjects')\n",
    "    print(f\"[{event_key}]: Failed for {l_failed}\")\n",
    "    print(\"\")"
   ]
  },
  {
   "cell_type": "code",
   "execution_count": 25,
   "id": "2ca27361",
   "metadata": {
    "id": "2ca27361"
   },
   "outputs": [
    {
     "name": "stdout",
     "output_type": "stream",
     "text": [
      "[patients]: Updated data for 100 subjects\n",
      "[patients]: No data updated for 0 subjects\n",
      "[patients]: Failed for []\n",
      "\n",
      "[omr]: Updated data for 100 subjects\n",
      "[omr]: No data updated for 0 subjects\n",
      "[omr]: Failed for []\n",
      "\n"
     ]
    }
   ],
   "source": [
    "update_json_sub(patients, jfiles_dir, 'patients')\n",
    "\n",
    "omr['chartdate'] = pd.to_datetime(omr['chartdate'], errors='coerce').dt.strftime('%Y-%m-%d')\n",
    "update_json_sub(omr, jfiles_dir, 'omr')"
   ]
  },
  {
   "cell_type": "code",
   "execution_count": 26,
   "id": "d923e63b",
   "metadata": {
    "id": "d923e63b"
   },
   "outputs": [],
   "source": [
    "#Preprocessing emar and emar_detail and creating a single dataframe to be added\n",
    "emar_detail = emar_detail.rename(columns={'pharmacy_id': 'pharmacy_id_detail'})\n",
    "emar['charttime'] = pd.to_datetime(emar['charttime'], errors='coerce').dt.strftime('%Y-%m-%d %H:%M:%S')\n",
    "emar['scheduletime'] = pd.to_datetime(emar['scheduletime'], errors='coerce').dt.strftime('%Y-%m-%d %H:%M:%S')\n",
    "emar['storetime'] = pd.to_datetime(emar['storetime'], errors='coerce').dt.strftime('%Y-%m-%d %H:%M:%S')\n",
    "\n",
    "grouped_emar_detail = emar_detail.groupby(['emar_id']).apply(lambda x: x.to_dict(orient='records'))\n",
    "grouped_emar_detail = grouped_emar_detail\n",
    "emar_pd = emar\n",
    "\n",
    "if not isinstance(grouped_emar_detail, pd.DataFrame):\n",
    "    # If grouped_emar_detail is a Series with emar_id as index, convert it to a DataFrame\n",
    "    grouped_emar_detail = grouped_emar_detail.reset_index()\n",
    "\n",
    "emar_merged = emar_pd.merge(grouped_emar_detail, on='emar_id')"
   ]
  },
  {
   "cell_type": "code",
   "execution_count": 27,
   "id": "f283f37b",
   "metadata": {
    "id": "f283f37b"
   },
   "outputs": [
    {
     "name": "stdout",
     "output_type": "stream",
     "text": [
      "[emar]: Updated data for 100 subjects\n",
      "[emar]: No data updated for 0 subjects\n",
      "[emar]: Failed for []\n",
      "\n"
     ]
    }
   ],
   "source": [
    "#updating emar data as before\n",
    "grouped_emar = emar_merged.groupby(['subject_id', 'hadm_id']).apply(lambda x: x.to_dict(orient='records'))\n",
    "\n",
    "if not grouped_emar.empty:\n",
    "    for record in grouped_emar:\n",
    "        if record:\n",
    "            emar_structure = {key: None for key in record[0].keys()}\n",
    "            break\n",
    "else:\n",
    "    emar_structure = {}\n",
    "\n",
    "l_updated = []\n",
    "l_failed = []\n",
    "\n",
    "for filename in os.listdir(jfiles_dir):\n",
    "    if filename.endswith(\".json\"):\n",
    "        subject_id = int(filename.split('.')[0])\n",
    "        jfile_path = os.path.join(jfiles_dir, filename)\n",
    "\n",
    "        with open(jfile_path, 'r') as file:\n",
    "            patient_data = json.load(file)\n",
    "\n",
    "        updated = False\n",
    "        for admission in patient_data:\n",
    "            hadm_id = admission.get('hadm_id')\n",
    "            if (subject_id, hadm_id) in grouped_emar.index:\n",
    "                emar_data = grouped_emar.loc[(subject_id, hadm_id)]\n",
    "                if isinstance(emar_data, str):\n",
    "                    emar_data = json.loads(emar_data)\n",
    "                elif not isinstance(emar_data, list):\n",
    "                    emar_data = [emar_data]\n",
    "                admission['emar'] = emar_data\n",
    "                updated = True\n",
    "            else:\n",
    "                admission['emar'] = emar_structure\n",
    "                updated = True\n",
    "\n",
    "        if updated:\n",
    "            with open(jfile_path, 'w') as file:\n",
    "                json.dump(patient_data, file, indent=0)\n",
    "            # print(f'Data updated for subject_id {subject_id}')\n",
    "            l_updated.append(subject_id)\n",
    "        else:\n",
    "            # print(f'No data updated for subject_id {subject_id}')\n",
    "            l_failed.append(subject_id)\n",
    "\n",
    "print(f'[emar]: Updated data for {len(l_updated)} subjects')\n",
    "print(f'[emar]: No data updated for {len(l_failed)} subjects')\n",
    "print(f\"[emar]: Failed for {l_failed}\")\n",
    "print(\"\")"
   ]
  },
  {
   "cell_type": "code",
   "execution_count": 28,
   "id": "abc72601",
   "metadata": {
    "id": "abc72601"
   },
   "outputs": [],
   "source": [
    "def update_all_json_files_once(events_dict, dir):\n",
    "    \"\"\"\n",
    "    Update JSON files for all events specified in the events_dict in a single read and write operation per file.\n",
    "\n",
    "    Args:\n",
    "    - events_dict (dict): A dictionary where keys are event keys and values are the corresponding DataFrames.\n",
    "    - dir (str): Directory where the JSON files are located.\n",
    "    \"\"\"\n",
    "    # Preprocess all DataFrames in the events_dict\n",
    "    for event_key, events_df in events_dict.items():\n",
    "        datetime_fields = ['chartdate', 'charttime', 'storetime', 'entertime', 'starttime', 'stoptime', 'ordertime', 'transfertime', 'intime', 'outtime']\n",
    "        for field in datetime_fields:\n",
    "            if field in events_df.columns:\n",
    "                events_df[field] = pd.to_datetime(events_df[field], errors='coerce').dt.strftime('%Y-%m-%d %H:%M:%S')\n",
    "\n",
    "        events_df = events_df.where(pd.notnull(events_df), None)\n",
    "\n",
    "        # Convert the DataFrame to a nested dict {(subject_id, hadm_id): [event_data, ...]}\n",
    "        events_dict[event_key] = events_df.groupby(['subject_id', 'hadm_id']).apply(lambda x: x.to_dict(orient='records')).to_dict()\n",
    "\n",
    "    l_updated = []\n",
    "    l_failed = []\n",
    "    l_event_keys = []\n",
    "\n",
    "    # Read and update JSON files\n",
    "    for filename in os.listdir(dir):\n",
    "        if filename.endswith(\".json\"):\n",
    "            subject_id = int(filename.split('.')[0])\n",
    "            jfile_path = os.path.join(dir, filename)\n",
    "            with open(jfile_path, 'r') as file:\n",
    "                patient_data = json.load(file)\n",
    "\n",
    "            updated = False\n",
    "            for admission in patient_data:\n",
    "                hadm_id = admission.get('hadm_id')\n",
    "                for event_key, grouped_events in events_dict.items():\n",
    "                    l_event_keys.append(event_key)\n",
    "                    # Initialize event structure if needed\n",
    "                    if event_key not in admission:\n",
    "                        admission[event_key] = []\n",
    "                    # Update data if available\n",
    "                    if (subject_id, hadm_id) in grouped_events:\n",
    "                        admission[event_key] = grouped_events[(subject_id, hadm_id)]\n",
    "                        updated = True\n",
    "\n",
    "            # Write back the updated JSON file\n",
    "            # if updated:\n",
    "            #     with open(jfile_path, 'w') as file:\n",
    "            #         json.dump(patient_data, file, indent=4)\n",
    "\n",
    "            if updated:\n",
    "                with open(jfile_path, 'w') as file:\n",
    "                    json.dump(patient_data, file, indent=4)  # Change indent to 4 for better readability\n",
    "                l_updated.append(subject_id)\n",
    "            else:\n",
    "                l_failed.append(subject_id)\n",
    "\n",
    "    # print(l_event_keys)\n",
    "    print(f'Updated data for {len(l_updated)} subjects.')\n",
    "    if l_failed:\n",
    "        print(f\"Update failed for {len(l_failed)} subjects: {l_failed}.\")\n",
    "    print(\"\")\n",
    "    print(\"Update complete for all JSON files.\")"
   ]
  },
  {
   "cell_type": "code",
   "execution_count": 29,
   "id": "20a17112",
   "metadata": {
    "id": "20a17112"
   },
   "outputs": [
    {
     "name": "stdout",
     "output_type": "stream",
     "text": [
      "Updated data for 100 subjects.\n",
      "\n",
      "Update complete for all JSON files.\n"
     ]
    }
   ],
   "source": [
    "events_dict = {\n",
    "    'diagnoses_icd': diagnoses_icd,\n",
    "    'drgcodes': drgcodes,\n",
    "    'hcpcsevents': hcpcsevents,\n",
    "    'labevents': labevents,\n",
    "    'microbiologyevents': microbiologyevents,\n",
    "    'pharmacy': pharmacy,\n",
    "    'poe': poe,\n",
    "    'prescriptions': prescriptions,\n",
    "    'procedures_icd': procedures_icd,\n",
    "    'services': services,\n",
    "    'transfers': transfers,\n",
    "    'icustays': icustays\n",
    "}\n",
    "\n",
    "# Call the function with the prepared dictionary\n",
    "update_all_json_files_once(events_dict, jfiles_dir)"
   ]
  },
  {
   "cell_type": "code",
   "execution_count": 30,
   "id": "7d0fac21",
   "metadata": {
    "id": "7d0fac21"
   },
   "outputs": [],
   "source": [
    "def update_jsons_for_all_events_once(events_dict, dir):\n",
    "    \"\"\"\n",
    "    Update JSON files with event data from multiple DataFrames, handling each file once.\n",
    "    Groups data by subject_id, hadm_id, and stay_id before updating.\n",
    "\n",
    "    Args:\n",
    "    - events_dict (dict): Dictionary mapping event keys to their respective DataFrames.\n",
    "    - dir (str): Directory containing the JSON files to be updated.\n",
    "    \"\"\"\n",
    "    # Process each DataFrame to group data by subject_id, hadm_id, and stay_id\n",
    "    grouped_events_dict = {}\n",
    "    for event_key, events_df in events_dict.items():\n",
    "        # Convert datetime columns to string format\n",
    "        datetime_fields = ['charttime', 'storetime', 'starttime', 'endtime', 'value']\n",
    "        for field in datetime_fields:\n",
    "            if field in events_df.columns:\n",
    "                events_df[field] = pd.to_datetime(events_df[field], errors='coerce').dt.strftime('%Y-%m-%d %H:%M:%S')\n",
    "\n",
    "        events_df = events_df.where(pd.notnull(events_df), None)\n",
    "\n",
    "        # Group and convert to a nested dict\n",
    "        grouped_events = events_df.groupby(['subject_id', 'hadm_id', 'stay_id']).apply(lambda x: x.to_dict(orient='records')).to_dict()\n",
    "        grouped_events_dict[event_key] = grouped_events\n",
    "\n",
    "    l_updated = []\n",
    "    l_failed = []\n",
    "    # Iterate over JSON files once, updating each with all relevant event data\n",
    "    for filename in os.listdir(dir):\n",
    "        if filename.endswith(\".json\"):\n",
    "            subject_id = int(filename.split('.')[0])\n",
    "            jfile_path = os.path.join(dir, filename)\n",
    "\n",
    "            with open(jfile_path, 'r') as file:\n",
    "                patient_data = json.load(file)\n",
    "\n",
    "            updated = False\n",
    "            for admission in patient_data:\n",
    "                hadm_id = admission.get('hadm_id')\n",
    "                if 'icustays' in admission:\n",
    "                    for icustay in admission['icustays']:\n",
    "                        stay_id = icustay.get('stay_id')\n",
    "                        for event_key, grouped_events in grouped_events_dict.items():\n",
    "                            key = (subject_id, hadm_id, stay_id)\n",
    "                            if key in grouped_events:\n",
    "                                icustay[event_key] = grouped_events[key]\n",
    "                                updated = True\n",
    "                            elif event_key not in icustay:\n",
    "                                # Initialize empty event data structure if the key does not exist\n",
    "                                icustay[event_key] = []\n",
    "\n",
    "            if updated:\n",
    "                with open(jfile_path, 'w') as file:\n",
    "                    json.dump(patient_data, file, indent=4)\n",
    "                l_updated.append(subject_id)\n",
    "                # print(f'Updated file for subject_id {subject_id}')\n",
    "            else:\n",
    "                l_failed.append(subject_id)\n",
    "                # print(f'No update needed for subject_id {subject_id}')\n",
    "\n",
    "    print(f'Updated data for {len(l_updated)} subjects.')\n",
    "    if l_failed:\n",
    "        print(f\"Update failed for {len(l_failed)} subjects: {l_failed}.\")\n",
    "    print(\"\")"
   ]
  },
  {
   "cell_type": "code",
   "execution_count": 31,
   "id": "ee085026-f838-44b5-914a-5d4a9d166a85",
   "metadata": {
    "id": "ee085026-f838-44b5-914a-5d4a9d166a85"
   },
   "outputs": [
    {
     "name": "stdout",
     "output_type": "stream",
     "text": [
      "Updated data for 100 subjects.\n",
      "\n"
     ]
    }
   ],
   "source": [
    "events_dict = {\n",
    "    'chartevents': chartevents,\n",
    "    'datetimeevents': datetimeevents,\n",
    "    'inputevents': inputevents,\n",
    "    'outputevents': outputevents,\n",
    "    'procedureevents': procedureevents,\n",
    "    'ingredientevents': ingredientevents,\n",
    "}\n",
    "\n",
    "update_jsons_for_all_events_once(events_dict, jfiles_dir)"
   ]
  },
  {
   "cell_type": "code",
   "execution_count": 32,
   "id": "00bac02f",
   "metadata": {
    "id": "00bac02f"
   },
   "outputs": [],
   "source": [
    "files = os.listdir(jfiles_dir)\n",
    "\n",
    "for file in files:\n",
    "    path = os.path.join(jfiles_dir, file)\n",
    "\n",
    "    with open(path, \"r\") as f:\n",
    "        data = f.read()\n",
    "\n",
    "    data = data.replace(\"NaN\", '\"\"')\n",
    "\n",
    "    with open(path, \"w\") as f:\n",
    "        f.write(data)"
   ]
  }
 ],
 "metadata": {
  "kernelspec": {
   "display_name": "Python 3 (ipykernel)",
   "language": "python",
   "name": "python3"
  },
  "language_info": {
   "codemirror_mode": {
    "name": "ipython",
    "version": 3
   },
   "file_extension": ".py",
   "mimetype": "text/x-python",
   "name": "python",
   "nbconvert_exporter": "python",
   "pygments_lexer": "ipython3",
   "version": "3.11.5"
  },
  "colab": {
   "provenance": []
  }
 },
 "nbformat": 4,
 "nbformat_minor": 5
}